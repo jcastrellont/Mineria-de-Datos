{
  "nbformat": 4,
  "nbformat_minor": 0,
  "metadata": {
    "colab": {
      "name": "TALLER CLUSTERING (AGRUPACIÓN) - PARTE 2.ipynb",
      "provenance": [],
      "collapsed_sections": []
    },
    "kernelspec": {
      "name": "python3",
      "display_name": "Python 3"
    }
  },
  "cells": [
    {
      "cell_type": "markdown",
      "metadata": {
        "id": "TJ5Qlaz_dPr2",
        "colab_type": "text"
      },
      "source": [
        "# TALLER CLUSTERING (AGRUPACIÓN) - PARTE 2\n",
        "\n",
        "**Presentado por:** Jairo Castrellón \n",
        "\n",
        "**Asignatura:** Minería de datos\n",
        "\n",
        "**Universidad Nacional de Colombia**"
      ]
    },
    {
      "cell_type": "markdown",
      "metadata": {
        "id": "i7n14NhndbEf",
        "colab_type": "text"
      },
      "source": [
        "Se cargan las librerías necesarias para el trabajo a realizar:"
      ]
    },
    {
      "cell_type": "code",
      "metadata": {
        "id": "2Xgxj98_ccOK",
        "colab_type": "code",
        "colab": {}
      },
      "source": [
        "import pandas as pd\n",
        "import numpy as np\n",
        "import matplotlib.pyplot as plt\n",
        "from sklearn.cluster import KMeans\n",
        "from sklearn.metrics import silhouette_samples, silhouette_score\n",
        "import matplotlib.cm as cm\n",
        "from scipy.cluster.hierarchy import ward, dendrogram\n",
        "from sklearn.metrics.pairwise import euclidean_distances\n",
        "from scipy.spatial.distance import cityblock, minkowski, euclidean, cosine,matching,jaccard"
      ],
      "execution_count": 0,
      "outputs": []
    },
    {
      "cell_type": "markdown",
      "metadata": {
        "id": "gNXvktfLeOlZ",
        "colab_type": "text"
      },
      "source": [
        "## 1) Dados los ejemplos numéricos A={1,0,2,5,3} y B={2,1,0,3,-1}, encontrar:"
      ]
    },
    {
      "cell_type": "markdown",
      "metadata": {
        "id": "QGlvLP3KebqP",
        "colab_type": "text"
      },
      "source": [
        "### a) La distancia euclideana"
      ]
    },
    {
      "cell_type": "code",
      "metadata": {
        "id": "QgC4x9gxeZAS",
        "colab_type": "code",
        "colab": {}
      },
      "source": [
        "A=[1,0,2,5,3]\n",
        "B=[2,1,0,3,1]"
      ],
      "execution_count": 0,
      "outputs": []
    },
    {
      "cell_type": "markdown",
      "metadata": {
        "id": "vlw6Z8esqB6l",
        "colab_type": "text"
      },
      "source": [
        "Usando la libreria de distancia espacial de spicy, se obtiene:"
      ]
    },
    {
      "cell_type": "code",
      "metadata": {
        "id": "yyBT-uvQqAfG",
        "colab_type": "code",
        "outputId": "3c06e2b7-46f5-46a7-ecd5-21e4351add1d",
        "colab": {
          "base_uri": "https://localhost:8080/",
          "height": 34
        }
      },
      "source": [
        "euclidean(A,B)"
      ],
      "execution_count": 59,
      "outputs": [
        {
          "output_type": "execute_result",
          "data": {
            "text/plain": [
              "3.7416573867739413"
            ]
          },
          "metadata": {
            "tags": []
          },
          "execution_count": 59
        }
      ]
    },
    {
      "cell_type": "markdown",
      "metadata": {
        "id": "c_ReHwGSrxiw",
        "colab_type": "text"
      },
      "source": [
        "equivalentemente, haciendo uso de la definición de la distancia euclidiana"
      ]
    },
    {
      "cell_type": "code",
      "metadata": {
        "id": "oMwfxHgErwmB",
        "colab_type": "code",
        "outputId": "24b6e6cd-3368-4f55-8236-966254f63b60",
        "colab": {
          "base_uri": "https://localhost:8080/",
          "height": 34
        }
      },
      "source": [
        "suma=0\n",
        "for i in range(0,len(A)):\n",
        "  y=(A[i]-B[i])**2\n",
        "  suma += y\n",
        "np.sqrt(suma)\n",
        "  \n"
      ],
      "execution_count": 60,
      "outputs": [
        {
          "output_type": "execute_result",
          "data": {
            "text/plain": [
              "3.7416573867739413"
            ]
          },
          "metadata": {
            "tags": []
          },
          "execution_count": 60
        }
      ]
    },
    {
      "cell_type": "markdown",
      "metadata": {
        "id": "Ktrb3tSNtKJr",
        "colab_type": "text"
      },
      "source": [
        "### b) La distancia city-block"
      ]
    },
    {
      "cell_type": "code",
      "metadata": {
        "id": "5xKaEneltRrF",
        "colab_type": "code",
        "outputId": "aef4192a-bd90-4cdd-f8d8-1f9310b7a14c",
        "colab": {
          "base_uri": "https://localhost:8080/",
          "height": 34
        }
      },
      "source": [
        "cityblock(A,B)"
      ],
      "execution_count": 61,
      "outputs": [
        {
          "output_type": "execute_result",
          "data": {
            "text/plain": [
              "8"
            ]
          },
          "metadata": {
            "tags": []
          },
          "execution_count": 61
        }
      ]
    },
    {
      "cell_type": "markdown",
      "metadata": {
        "id": "N8IIpV6etZaB",
        "colab_type": "text"
      },
      "source": [
        "Equivalentemente, comprobando mediante la fórmula:"
      ]
    },
    {
      "cell_type": "code",
      "metadata": {
        "id": "CNvoP8WGteRI",
        "colab_type": "code",
        "outputId": "aa0046b3-5fdf-4a33-816d-3d0e1b3b1ddb",
        "colab": {
          "base_uri": "https://localhost:8080/",
          "height": 34
        }
      },
      "source": [
        "suma=0\n",
        "for i in range(0,len(A)):\n",
        "  y=abs(A[i]-B[i])\n",
        "  suma += y\n",
        "suma\n",
        "  "
      ],
      "execution_count": 62,
      "outputs": [
        {
          "output_type": "execute_result",
          "data": {
            "text/plain": [
              "8"
            ]
          },
          "metadata": {
            "tags": []
          },
          "execution_count": 62
        }
      ]
    },
    {
      "cell_type": "markdown",
      "metadata": {
        "id": "jvVjaz_8ubLy",
        "colab_type": "text"
      },
      "source": [
        "##c) La distancia Minkowski para p=3"
      ]
    },
    {
      "cell_type": "code",
      "metadata": {
        "id": "SCppl6Hzuhpa",
        "colab_type": "code",
        "outputId": "17664e52-5922-4970-b7f9-da6fdc3caf43",
        "colab": {
          "base_uri": "https://localhost:8080/",
          "height": 34
        }
      },
      "source": [
        "minkowski(A, B, 3)"
      ],
      "execution_count": 63,
      "outputs": [
        {
          "output_type": "execute_result",
          "data": {
            "text/plain": [
              "2.9624960684073702"
            ]
          },
          "metadata": {
            "tags": []
          },
          "execution_count": 63
        }
      ]
    },
    {
      "cell_type": "markdown",
      "metadata": {
        "id": "yhDUew5rurGA",
        "colab_type": "text"
      },
      "source": [
        "Equivalentemente, comprobando mediante la fórmula:"
      ]
    },
    {
      "cell_type": "code",
      "metadata": {
        "id": "UFv2jxpkutDS",
        "colab_type": "code",
        "outputId": "557672d9-f03f-452a-dc1c-92df5201c9fc",
        "colab": {
          "base_uri": "https://localhost:8080/",
          "height": 34
        }
      },
      "source": [
        "suma=0\n",
        "for i in range(0,len(A)):\n",
        "  y=(abs(A[i]-B[i]))**3\n",
        "  suma += y\n",
        "suma**(1/3)"
      ],
      "execution_count": 64,
      "outputs": [
        {
          "output_type": "execute_result",
          "data": {
            "text/plain": [
              "2.9624960684073702"
            ]
          },
          "metadata": {
            "tags": []
          },
          "execution_count": 64
        }
      ]
    },
    {
      "cell_type": "markdown",
      "metadata": {
        "id": "plPGMwffvajG",
        "colab_type": "text"
      },
      "source": [
        "### d) La correlación coseno"
      ]
    },
    {
      "cell_type": "code",
      "metadata": {
        "id": "2CWFDzCnvgU4",
        "colab_type": "code",
        "outputId": "12c9ce9d-9c2b-4145-e1d5-a2c69994be48",
        "colab": {
          "base_uri": "https://localhost:8080/",
          "height": 34
        }
      },
      "source": [
        "cosine(A,B)"
      ],
      "execution_count": 65,
      "outputs": [
        {
          "output_type": "execute_result",
          "data": {
            "text/plain": [
              "0.17310176940527688"
            ]
          },
          "metadata": {
            "tags": []
          },
          "execution_count": 65
        }
      ]
    },
    {
      "cell_type": "markdown",
      "metadata": {
        "id": "mYs6Cdy3xw8h",
        "colab_type": "text"
      },
      "source": [
        "## 2) Dado los ejemplos catégoricos C={A,B,A,B,A,A} y D={B,B,A,B,B,A}, encontrar:"
      ]
    },
    {
      "cell_type": "markdown",
      "metadata": {
        "id": "3RqVoki8x5f3",
        "colab_type": "text"
      },
      "source": [
        "### a) La similaridad usando SMC (Simple matching coeficient)"
      ]
    },
    {
      "cell_type": "code",
      "metadata": {
        "id": "hmZQm60dyB4a",
        "colab_type": "code",
        "colab": {}
      },
      "source": [
        "C=[\"A\",\"B\",\"A\",\"B\",\"A\",\"A\"]\n",
        "D=[\"B\",\"B\",\"A\",\"B\",\"B\",\"A\"]"
      ],
      "execution_count": 0,
      "outputs": []
    },
    {
      "cell_type": "code",
      "metadata": {
        "id": "kzHz4xomzWWE",
        "colab_type": "code",
        "outputId": "dbe8adfd-86de-4805-8ceb-9a104b7ef235",
        "colab": {
          "base_uri": "https://localhost:8080/",
          "height": 34
        }
      },
      "source": [
        "suma=0\n",
        "for i in range(0,len(C)):\n",
        "  if C[i]==D[i]:\n",
        "    suma += 1\n",
        "suma/len(C)"
      ],
      "execution_count": 67,
      "outputs": [
        {
          "output_type": "execute_result",
          "data": {
            "text/plain": [
              "0.6666666666666666"
            ]
          },
          "metadata": {
            "tags": []
          },
          "execution_count": 67
        }
      ]
    },
    {
      "cell_type": "markdown",
      "metadata": {
        "id": "bhYKkeeh3_cY",
        "colab_type": "text"
      },
      "source": [
        "### b) La similaridad usando Jaccard\n"
      ]
    },
    {
      "cell_type": "code",
      "metadata": {
        "id": "_T4xdTqr4Gi9",
        "colab_type": "code",
        "outputId": "646301c2-d808-4bec-b163-ca8029d71907",
        "colab": {
          "base_uri": "https://localhost:8080/",
          "height": 34
        }
      },
      "source": [
        "sum1=0\n",
        "sum2=0\n",
        "for i in range(0,len(C)):\n",
        "  if C[i]==\"A\" and C[i]==D[i]:\n",
        "    sum1+=1\n",
        "for i in range(0,len(D)):\n",
        "  if C[i]==\"B\" and C[i]==D[i]:\n",
        "    sum2 += 1\n",
        "sum1/(len(C)-sum2)"
      ],
      "execution_count": 68,
      "outputs": [
        {
          "output_type": "execute_result",
          "data": {
            "text/plain": [
              "0.5"
            ]
          },
          "metadata": {
            "tags": []
          },
          "execution_count": 68
        }
      ]
    },
    {
      "cell_type": "markdown",
      "metadata": {
        "id": "BvCNdsJ_6LV3",
        "colab_type": "text"
      },
      "source": [
        "### c) La similaridad usando el Coeficiente de Rao"
      ]
    },
    {
      "cell_type": "code",
      "metadata": {
        "id": "kQeHkw3R6o_a",
        "colab_type": "code",
        "outputId": "a414adca-2f7f-4742-dace-61e1397cc8dd",
        "colab": {
          "base_uri": "https://localhost:8080/",
          "height": 34
        }
      },
      "source": [
        "sum1=0\n",
        "for i in range(0,len(C)):\n",
        "  if C[i]==\"A\" and C[i]==D[i]:\n",
        "    sum1+=1\n",
        "sum1/len(C)"
      ],
      "execution_count": 69,
      "outputs": [
        {
          "output_type": "execute_result",
          "data": {
            "text/plain": [
              "0.3333333333333333"
            ]
          },
          "metadata": {
            "tags": []
          },
          "execution_count": 69
        }
      ]
    },
    {
      "cell_type": "markdown",
      "metadata": {
        "id": "28VDE8LA6xgI",
        "colab_type": "text"
      },
      "source": [
        "## 3) Usar el algoritmo k-means y distancia Euclidean distance para agrupar los siguientes puntos en 3 grupos: A1=(2,10), A2=(2,5), A3=(8,4), A4=(5,8), A5=(7,5), A6=(6,4), A7=(1,2), A8=(4,9). Asumir los centroides iniciales: A1, A4 and A7."
      ]
    },
    {
      "cell_type": "markdown",
      "metadata": {
        "id": "ZF9ZVSp0wSb2",
        "colab_type": "text"
      },
      "source": [
        "Se grafican los puntos del conjunto de datos, junto con sus centroides iniciales, como se muestran a continuación:"
      ]
    },
    {
      "cell_type": "code",
      "metadata": {
        "id": "YA9L3dii69_E",
        "colab_type": "code",
        "outputId": "a0a33cd4-f609-4f56-dac9-6bc4f35c54a1",
        "colab": {
          "base_uri": "https://localhost:8080/",
          "height": 282
        }
      },
      "source": [
        "data=[[2,10],[2,5],[8,4],[5,8],[7,5],[6,4],[1,2],[4,9]]\n",
        "X = np.array(data)\n",
        "c1=data[0]\n",
        "c2=data[3]\n",
        "c3=data[6]\n",
        "initialpnts=np.array([c1,c2,c3])\n",
        "plt.scatter(X[:,0],X[:,1],alpha=0.8)\n",
        "plt.scatter(initialpnts[:,0], initialpnts[:,1],marker=\"x\", lw=5, s=200, color=\"black\")"
      ],
      "execution_count": 71,
      "outputs": [
        {
          "output_type": "execute_result",
          "data": {
            "text/plain": [
              "<matplotlib.collections.PathCollection at 0x7fcb9c283390>"
            ]
          },
          "metadata": {
            "tags": []
          },
          "execution_count": 71
        },
        {
          "output_type": "display_data",
          "data": {
            "image/png": "[encoded data removed]",
            "text/plain": [
              "<Figure size 432x288 with 1 Axes>"
            ]
          },
          "metadata": {
            "tags": []
          }
        }
      ]
    },
    {
      "cell_type": "markdown",
      "metadata": {
        "id": "ZnfPMPgBwyCx",
        "colab_type": "text"
      },
      "source": [
        "### a) Correr una iteración y mostrar:"
      ]
    },
    {
      "cell_type": "markdown",
      "metadata": {
        "id": "BXnCA3GQxdp4",
        "colab_type": "text"
      },
      "source": [
        "**1) Los nuevos grupos** "
      ]
    },
    {
      "cell_type": "code",
      "metadata": {
        "id": "mh5RD8A-qdbk",
        "colab_type": "code",
        "colab": {}
      },
      "source": [
        "n_clusters = 3\n",
        "initialpnts=np.array([c1,c2,c3])\n",
        "km = KMeans( n_clusters=n_clusters, init=initialpnts, max_iter= 1)\n",
        "km.fit(X)##Ajustar kmeans a nuestro conjunto de datos, con los parámetros antes señalados\n",
        "y = km.predict(X) #Asigna un cluster a cada valos de X"
      ],
      "execution_count": 0,
      "outputs": []
    },
    {
      "cell_type": "markdown",
      "metadata": {
        "id": "5fQPj6_F1Fta",
        "colab_type": "text"
      },
      "source": [
        "A continuación, despues de realizar una iteración, se muestran los nuevos grupos encontrados en nuestro conjunto de datos:"
      ]
    },
    {
      "cell_type": "code",
      "metadata": {
        "id": "j3bopSEvx-5I",
        "colab_type": "code",
        "outputId": "e2c6c245-7990-40f6-b66d-71992732ab5e",
        "colab": {
          "base_uri": "https://localhost:8080/",
          "height": 282
        }
      },
      "source": [
        "cmap = plt.cm.plasma\n",
        "\n",
        "cmap((y*600./(n_clusters)).astype(int))\n",
        "for i in np.unique(y):\n",
        "    cmap = plt.cm.bwr\n",
        "    col = cmap((i*600./(n_clusters)).astype(int))\n",
        "    Xr = X[y==i]\n",
        "    plt.scatter(Xr[:,0], Xr[:,1], color=col, label=\"cluster %d\"%i, alpha=.8)\n",
        "plt.scatter(km.cluster_centers_[:,0], km.cluster_centers_[:,1],marker=\"x\", lw=5, s=200, color=\"black\")\n",
        "plt.legend()   "
      ],
      "execution_count": 73,
      "outputs": [
        {
          "output_type": "execute_result",
          "data": {
            "text/plain": [
              "<matplotlib.legend.Legend at 0x7fcb9d6fea58>"
            ]
          },
          "metadata": {
            "tags": []
          },
          "execution_count": 73
        },
        {
          "output_type": "display_data",
          "data": {
            "image/png": "[encoded data removed]",
            "text/plain": [
              "<Figure size 432x288 with 1 Axes>"
            ]
          },
          "metadata": {
            "tags": []
          }
        }
      ]
    },
    {
      "cell_type": "markdown",
      "metadata": {
        "id": "JVYIyJ5I1R58",
        "colab_type": "text"
      },
      "source": [
        "**2) Los nuevos centroides**"
      ]
    },
    {
      "cell_type": "markdown",
      "metadata": {
        "id": "QKm6p27U3mHO",
        "colab_type": "text"
      },
      "source": [
        "Los nuevos centroides, después de la primera iteración, son:"
      ]
    },
    {
      "cell_type": "code",
      "metadata": {
        "id": "02vcou4m1bP-",
        "colab_type": "code",
        "outputId": "5b8a7dc3-62b2-499e-f593-d78abcd1a2e9",
        "colab": {
          "base_uri": "https://localhost:8080/",
          "height": 68
        }
      },
      "source": [
        "km.cluster_centers_"
      ],
      "execution_count": 74,
      "outputs": [
        {
          "output_type": "execute_result",
          "data": {
            "text/plain": [
              "array([[ 2. , 10. ],\n",
              "       [ 6. ,  6. ],\n",
              "       [ 1.5,  3.5]])"
            ]
          },
          "metadata": {
            "tags": []
          },
          "execution_count": 74
        }
      ]
    },
    {
      "cell_type": "markdown",
      "metadata": {
        "id": "kvU3ogLB1R9d",
        "colab_type": "text"
      },
      "source": [
        "### b) Iterar más. ¿Cuantas iteraciones se necesita para converger?"
      ]
    },
    {
      "cell_type": "code",
      "metadata": {
        "id": "TbkvduZB6Vdn",
        "colab_type": "code",
        "outputId": "8eec494b-3365-4871-a60e-1fc80ddcba4d",
        "colab": {
          "base_uri": "https://localhost:8080/",
          "height": 68
        }
      },
      "source": [
        "n_clusters = 3\n",
        "initialpnts=np.array([c1,c2,c3])\n",
        "km = KMeans( n_clusters=n_clusters, init=initialpnts, max_iter= 2)\n",
        "km.fit(X)##Ajustar kmeans a nuestro conjunto de datos, con los parámetros antes señalados\n",
        "y = km.predict(X) #Asigna un cluster a cada valos de X\n",
        "km.cluster_centers_"
      ],
      "execution_count": 75,
      "outputs": [
        {
          "output_type": "execute_result",
          "data": {
            "text/plain": [
              "array([[3.  , 9.5 ],\n",
              "       [6.5 , 5.25],\n",
              "       [1.5 , 3.5 ]])"
            ]
          },
          "metadata": {
            "tags": []
          },
          "execution_count": 75
        }
      ]
    },
    {
      "cell_type": "code",
      "metadata": {
        "id": "huZv08Ej6Kju",
        "colab_type": "code",
        "outputId": "86146376-c21a-4720-a555-069534166add",
        "colab": {
          "base_uri": "https://localhost:8080/",
          "height": 68
        }
      },
      "source": [
        "n_clusters = 3\n",
        "initialpnts=np.array([c1,c2,c3])\n",
        "km = KMeans( n_clusters=n_clusters, init=initialpnts, max_iter= 3)\n",
        "km.fit(X)##Ajustar kmeans a nuestro conjunto de datos, con los parámetros antes señalados\n",
        "y = km.predict(X) #Asigna un cluster a cada valos de X\n",
        "km.cluster_centers_"
      ],
      "execution_count": 76,
      "outputs": [
        {
          "output_type": "execute_result",
          "data": {
            "text/plain": [
              "array([[3.66666667, 9.        ],\n",
              "       [7.        , 4.33333333],\n",
              "       [1.5       , 3.5       ]])"
            ]
          },
          "metadata": {
            "tags": []
          },
          "execution_count": 76
        }
      ]
    },
    {
      "cell_type": "code",
      "metadata": {
        "id": "t3Obe4a25IBT",
        "colab_type": "code",
        "outputId": "b553f9f9-5442-493c-e8b3-3f3969418c8b",
        "colab": {
          "base_uri": "https://localhost:8080/",
          "height": 68
        }
      },
      "source": [
        "n_clusters = 3\n",
        "initialpnts=np.array([c1,c2,c3])\n",
        "km = KMeans( n_clusters=n_clusters, init=initialpnts, max_iter= 4)\n",
        "km.fit(X)##Ajustar kmeans a nuestro conjunto de datos, con los parámetros antes señalados\n",
        "y = km.predict(X) #Asigna un cluster a cada valos de X\n",
        "km.cluster_centers_\n"
      ],
      "execution_count": 77,
      "outputs": [
        {
          "output_type": "execute_result",
          "data": {
            "text/plain": [
              "array([[3.66666667, 9.        ],\n",
              "       [7.        , 4.33333333],\n",
              "       [1.5       , 3.5       ]])"
            ]
          },
          "metadata": {
            "tags": []
          },
          "execution_count": 77
        }
      ]
    },
    {
      "cell_type": "markdown",
      "metadata": {
        "id": "ionyofbL5HV8",
        "colab_type": "text"
      },
      "source": [
        "Como se muestra en lo anterior, se puede ver que a partir de la iteración 3 los centroides no cambian de manera considerable, por lo que se podría decir que a partir de este número de iteraciones, la agrupación converge, es decir, siempre va a ser la misma. "
      ]
    },
    {
      "cell_type": "markdown",
      "metadata": {
        "id": "YvFJKnxY1SBU",
        "colab_type": "text"
      },
      "source": [
        "### c) Mostrar al converger:"
      ]
    },
    {
      "cell_type": "markdown",
      "metadata": {
        "id": "sfiQDO6d1SEv",
        "colab_type": "text"
      },
      "source": [
        "**1) grupos finales**"
      ]
    },
    {
      "cell_type": "markdown",
      "metadata": {
        "id": "LlMMzjnN7jZQ",
        "colab_type": "text"
      },
      "source": [
        "Una vez teniendo clara la inicialización, se realiza el algorítmo de Kmeans, obteniendo como resultado el siguiente clustering (agrupación):"
      ]
    },
    {
      "cell_type": "code",
      "metadata": {
        "id": "PxtBL-BZqYoX",
        "colab_type": "code",
        "outputId": "874b564a-3266-4d20-ff09-b46cb13dbcac",
        "colab": {
          "base_uri": "https://localhost:8080/",
          "height": 282
        }
      },
      "source": [
        "n_clusters = 3\n",
        "initialpnts=np.array([c1,c2,c3])\n",
        "km = KMeans( n_clusters=n_clusters, init=initialpnts)\n",
        "km.fit(X)##Ajustar kmeans a nuestro conjunto de datos, con los parámetros antes señalados\n",
        "y = km.predict(X) #Asigna un cluster a cada valos de X\n",
        "\n",
        "cmap = plt.cm.plasma\n",
        "\n",
        "cmap((y*600./(n_clusters)).astype(int))\n",
        "for i in np.unique(y):\n",
        "    cmap = plt.cm.bwr\n",
        "    col = cmap((i*600./(n_clusters)).astype(int))\n",
        "    Xr = X[y==i]\n",
        "    plt.scatter(Xr[:,0], Xr[:,1], color=col, label=\"cluster %d\"%i, alpha=.8)\n",
        "plt.scatter(km.cluster_centers_[:,0], km.cluster_centers_[:,1],marker=\"x\", lw=5, s=200, color=\"black\")\n",
        "plt.legend()  "
      ],
      "execution_count": 78,
      "outputs": [
        {
          "output_type": "execute_result",
          "data": {
            "text/plain": [
              "<matplotlib.legend.Legend at 0x7fcb9c1f9b00>"
            ]
          },
          "metadata": {
            "tags": []
          },
          "execution_count": 78
        },
        {
          "output_type": "display_data",
          "data": {
            "image/png": "[encoded data removed]",
            "text/plain": [
              "<Figure size 432x288 with 1 Axes>"
            ]
          },
          "metadata": {
            "tags": []
          }
        }
      ]
    },
    {
      "cell_type": "markdown",
      "metadata": {
        "id": "kbNblR_G7ASO",
        "colab_type": "text"
      },
      "source": [
        "**2) centroides finales**"
      ]
    },
    {
      "cell_type": "markdown",
      "metadata": {
        "id": "EOqzzgom66xP",
        "colab_type": "text"
      },
      "source": [
        "De esta manera, los centroides finales son:"
      ]
    },
    {
      "cell_type": "code",
      "metadata": {
        "id": "70oCZmeH7Y_7",
        "colab_type": "code",
        "outputId": "9cc50e29-10dd-4a72-8b79-696d9820003b",
        "colab": {
          "base_uri": "https://localhost:8080/",
          "height": 68
        }
      },
      "source": [
        "km.cluster_centers_"
      ],
      "execution_count": 79,
      "outputs": [
        {
          "output_type": "execute_result",
          "data": {
            "text/plain": [
              "array([[3.66666667, 9.        ],\n",
              "       [7.        , 4.33333333],\n",
              "       [1.5       , 3.5       ]])"
            ]
          },
          "metadata": {
            "tags": []
          },
          "execution_count": 79
        }
      ]
    },
    {
      "cell_type": "markdown",
      "metadata": {
        "id": "mpF4ovzo7xmU",
        "colab_type": "text"
      },
      "source": [
        "## 4) Aplicar el algoritmo k-means al conjunto de datos Iris (sin7 la clase), para k=2,3,4,5,6,7,8. Dibujar la gráfica de Elbow(codo) basada en el SSE. Explique los resultados."
      ]
    },
    {
      "cell_type": "markdown",
      "metadata": {
        "id": "b7TwMEFc9U44",
        "colab_type": "text"
      },
      "source": [
        "A continuación se carga el dataset **iris** disponible en el repositorio UCI de machine learning. Se elimina la columna Iris-setosa, que contiene la clase de cada medición:"
      ]
    },
    {
      "cell_type": "code",
      "metadata": {
        "id": "JPD0LKt-81ME",
        "colab_type": "code",
        "colab": {}
      },
      "source": [
        "data = pd.read_csv(\"irist2.csv\")\n",
        "iris=data.drop(\"Iris-setosa\",axis=1)\n",
        "iris= np.array(iris)"
      ],
      "execution_count": 0,
      "outputs": []
    },
    {
      "cell_type": "markdown",
      "metadata": {
        "id": "1PhyNGxF94k3",
        "colab_type": "text"
      },
      "source": [
        "Posteriormente, se usan las funciones para graficar los clusters creados por el algorítmo *kmeans*, dependiendo de la cantidad de clusters que se quieran (el valor de k)"
      ]
    },
    {
      "cell_type": "code",
      "metadata": {
        "id": "X_EVYz8O8QXu",
        "colab_type": "code",
        "outputId": "cbcb850f-d169-4901-8907-fa1d5f45eff9",
        "colab": {
          "base_uri": "https://localhost:8080/",
          "height": 224
        }
      },
      "source": [
        "import warnings\n",
        "warnings.filterwarnings('ignore')\n",
        "import numpy as np\n",
        "import pandas as pd\n",
        "import matplotlib.pyplot as plt\n",
        "import importlib\n",
        "\n",
        "from sklearn.datasets import make_blobs, make_moons\n",
        "from sklearn.cluster import KMeans, SpectralClustering, AgglomerativeClustering, DBSCAN\n",
        "from IPython.display import HTML\n",
        "\n",
        "%matplotlib inline\n",
        "\n",
        "!wget https://gist.githubusercontent.com/fagonzalezo/d4c3992ba89f7598a75adc5290531451/raw/de2edd17e526a96ff9e063c9014f7e0c4a06e922/cluster1.csv\n",
        "from sklearn.metrics import silhouette_score\n",
        "\n",
        "def experiment_number_of_clusters(X, clustering, show_metric=True,\n",
        "                                  plot_data=True, plot_centers=True, plot_boundaries=False):\n",
        "    plt.figure(figsize=(15,6))\n",
        "    for n_clusters in range(2,10):\n",
        "        clustering.n_clusters = n_clusters\n",
        "        y = clustering.fit_predict(X)\n",
        "\n",
        "        cm = plt.cm.plasma\n",
        "        plt.subplot(2,4,n_clusters-1)\n",
        "\n",
        "        plot_cluster_predictions(clustering, X, n_clusters, cm, \n",
        "                                 plot_data, plot_centers, show_metric)\n",
        "        \n",
        "def plot_cluster_predictions(clustering, X, n_clusters = None, cmap = plt.cm.plasma,\n",
        "                             plot_data=True, plot_centers=True, show_metric=False,\n",
        "                             title_str=\"\"):\n",
        "\n",
        "    assert not hasattr(clustering, \"n_clusters\") or \\\n",
        "           (hasattr(clustering, \"n_clusters\") and n_clusters is not None), \"must specify `n_clusters` for \"+str(clustering)\n",
        "\n",
        "    if n_clusters is not None:\n",
        "        clustering.n_clusters = n_clusters\n",
        "\n",
        "    y = clustering.fit_predict(X)\n",
        "    # remove elements tagged as noise (cluster nb<0)\n",
        "    X = X[y>=0]\n",
        "    y = y[y>=0]\n",
        "\n",
        "    if n_clusters is None:\n",
        "        n_clusters = len(np.unique(y))\n",
        "\n",
        "    if plot_data:        \n",
        "        plt.scatter(X[:,0], X[:,1], color=cmap((y*255./(n_clusters-1)).astype(int)), alpha=.5)\n",
        "    if plot_centers and hasattr(clustering, \"cluster_centers_\"):\n",
        "        plt.scatter(clustering.cluster_centers_[:,0], clustering.cluster_centers_[:,1], s=150,  lw=3,\n",
        "                    facecolor=cmap((np.arange(n_clusters)*255./(n_clusters-1)).astype(int)),\n",
        "                    edgecolor=\"black\")   \n",
        "\n",
        "    if show_metric:\n",
        "        if hasattr(clustering, 'inertia_'):\n",
        "          inertia = clustering.inertia_\n",
        "        else:\n",
        "          inertia = 0\n",
        "        sc = silhouette_score(X, y) if len(np.unique(y))>1 else 0\n",
        "        plt.title(\"k=%d, inertia=%.0f sc=%.3f\"%(n_clusters, inertia, sc)+title_str)\n",
        "    else:\n",
        "        plt.title(\"k=%d\"%n_clusters+title_str)\n",
        "\n",
        "    plt.axis(\"off\")\n",
        "    return"
      ],
      "execution_count": 82,
      "outputs": [
        {
          "output_type": "stream",
          "text": [
            "--2019-10-26 13:47:53--  https://gist.githubusercontent.com/fagonzalezo/d4c3992ba89f7598a75adc5290531451/raw/de2edd17e526a96ff9e063c9014f7e0c4a06e922/cluster1.csv\n",
            "Resolving gist.githubusercontent.com (gist.githubusercontent.com)... 151.101.0.133, 151.101.64.133, 151.101.128.133, ...\n",
            "Connecting to gist.githubusercontent.com (gist.githubusercontent.com)|151.101.0.133|:443... connected.\n",
            "HTTP request sent, awaiting response... 200 OK\n",
            "Length: 18736 (18K) [text/plain]\n",
            "Saving to: ‘cluster1.csv.1’\n",
            "\n",
            "\rcluster1.csv.1        0%[                    ]       0  --.-KB/s               \rcluster1.csv.1      100%[===================>]  18.30K  --.-KB/s    in 0.01s   \n",
            "\n",
            "2019-10-26 13:47:53 (1.49 MB/s) - ‘cluster1.csv.1’ saved [18736/18736]\n",
            "\n"
          ],
          "name": "stdout"
        }
      ]
    },
    {
      "cell_type": "markdown",
      "metadata": {
        "id": "PJHIH25_-QUj",
        "colab_type": "text"
      },
      "source": [
        "De esta manera, se obtienen las siguientes agrupaciones, nótese que a partir de k=3, el valor de la inercia no cambia de manera considerable, por lo que se podría considerar a k=3 un valor adecuado para el número de clusters necesarios."
      ]
    },
    {
      "cell_type": "code",
      "metadata": {
        "id": "fZsBGlCg8hWu",
        "colab_type": "code",
        "outputId": "585fdfa7-f762-4dda-950a-679c3558362c",
        "colab": {
          "base_uri": "https://localhost:8080/",
          "height": 373
        }
      },
      "source": [
        "experiment_number_of_clusters(iris, KMeans(), show_metric=True)"
      ],
      "execution_count": 83,
      "outputs": [
        {
          "output_type": "display_data",
          "data": {
            "image/png": "[encoded data removed]",
            "text/plain": [
              "<Figure size 1080x432 with 8 Axes>"
            ]
          },
          "metadata": {
            "tags": []
          }
        }
      ]
    },
    {
      "cell_type": "markdown",
      "metadata": {
        "id": "D8119v8M-zhV",
        "colab_type": "text"
      },
      "source": [
        "Lo anterior, se puede sustentar basado en la siguiente gráfica de codo, se puede ver que apartir de k=3 no es significativo el cambio en el valor de la inercia, y a medida de que el k aumenta, es mas baja la inercia pero más compleja, y por ende innecesaria, la agrupación hecha."
      ]
    },
    {
      "cell_type": "code",
      "metadata": {
        "id": "DIAVMPeh79zb",
        "colab_type": "code",
        "outputId": "2fa9cabe-ab6c-4ba9-bfc2-62fc0fbc7e85",
        "colab": {
          "base_uri": "https://localhost:8080/",
          "height": 279
        }
      },
      "source": [
        "Sum_of_squared_distances = []\n",
        "K = range(2,15)\n",
        "for k in K:\n",
        "    km = KMeans(n_clusters=k)\n",
        "    km = km.fit(iris)\n",
        "    Sum_of_squared_distances.append(km.inertia_)\n",
        "    \n",
        "plt.plot(K, Sum_of_squared_distances, 'bx-')\n",
        "plt.xlabel('k')\n",
        "plt.ylabel('Inertia')\n",
        "plt.show()"
      ],
      "execution_count": 84,
      "outputs": [
        {
          "output_type": "display_data",
          "data": {
            "image/png": "[encoded data removed]",
            "text/plain": [
              "<Figure size 432x288 with 1 Axes>"
            ]
          },
          "metadata": {
            "tags": []
          }
        }
      ]
    },
    {
      "cell_type": "markdown",
      "metadata": {
        "id": "FsulVlne_XSf",
        "colab_type": "text"
      },
      "source": [
        "De todo lo visto anterior, se puede concluir que el valor adecuado para el número de clusters es k=3, donde la inercia no es alta y además, la agrupación no es tan compleja como lo hacen ver los valores mas grandes de k."
      ]
    },
    {
      "cell_type": "markdown",
      "metadata": {
        "id": "nUZMKNdE_4Dz",
        "colab_type": "text"
      },
      "source": [
        "##  4) Usar el algoritmo de agrupación K-Nearest Neighbor y distancia Euclidean para agrupar los datos del ejercicio 3. Usar un umbral de 4."
      ]
    },
    {
      "cell_type": "code",
      "metadata": {
        "id": "gMet8bjCS7h8",
        "colab_type": "code",
        "outputId": "ee8056bd-e176-4532-9d74-b842a09c1450",
        "colab": {
          "base_uri": "https://localhost:8080/",
          "height": 68
        }
      },
      "source": [
        "mprox=np.zeros((8,8))\n",
        "for i in range(0,8):\n",
        "  for j in range (0,8):\n",
        "    y = euclidean(X[i],X[j])\n",
        "    if y<4:\n",
        "      mprox[i,j]=1\n",
        "    else:\n",
        "      mprox[i,j]=0\n",
        "for k in range(0,3):\n",
        "  clusters=[]\n",
        "  for l in range (k,8):\n",
        "    if mprox[k,l]==1:\n",
        "      clusters.append(X[l])\n",
        "  print(f\"cluster{k}={clusters}\")"
      ],
      "execution_count": 85,
      "outputs": [
        {
          "output_type": "stream",
          "text": [
            "cluster0=[array([ 2, 10]), array([5, 8]), array([4, 9])]\n",
            "cluster1=[array([2, 5]), array([1, 2])]\n",
            "cluster2=[array([8, 4]), array([7, 5]), array([6, 4])]\n"
          ],
          "name": "stdout"
        }
      ]
    },
    {
      "cell_type": "markdown",
      "metadata": {
        "id": "d41oa7sw4qko",
        "colab_type": "text"
      },
      "source": [
        "De lo anterior se puede afirmar que, si se toman los datos del ejercicio 3 y se hace clustering via K-Nearest Neighbor y la distancia euclidiana, se encuentra que los clusters son:\n",
        "\n",
        "\n",
        "*   K1 = A1, A4, A8\n",
        "*   K2 = A2, A7\n",
        "*   K3 = A3, A5, A6\n",
        "\n",
        "donde A1=(2,10), A2=(2,5), A3=(8,4), A4=(5,8), A5=(7,5), A6=(6,4), A7=(1,2), A8=(4,9)\n",
        " \n"
      ]
    },
    {
      "cell_type": "markdown",
      "metadata": {
        "id": "vlUKXk-9dZnL",
        "colab_type": "text"
      },
      "source": [
        "## 6) Aplique agrupamiento jerárquico aglomerativo, usando medidas intercluster : single-link, complete-link, average-link, y prototype (centroide) para agrupar los datos del ejercicio3, usando distancia Euclidean. Mostrar los dendogramas."
      ]
    },
    {
      "cell_type": "code",
      "metadata": {
        "id": "pCUhTtZLdvSb",
        "colab_type": "code",
        "colab": {}
      },
      "source": [
        "from scipy.cluster.hierarchy import ward, dendrogram, single, complete, average, centroid\n",
        "from sklearn.metrics.pairwise import euclidean_distances, cosine_similarity\n",
        "\n",
        "dists=euclidean_distances(X)"
      ],
      "execution_count": 0,
      "outputs": []
    },
    {
      "cell_type": "markdown",
      "metadata": {
        "id": "_POqiKlUdm8p",
        "colab_type": "text"
      },
      "source": [
        "### Single-link"
      ]
    },
    {
      "cell_type": "code",
      "metadata": {
        "id": "nuiKSpn4djhI",
        "colab_type": "code",
        "outputId": "6bffa0b2-02a2-4aac-838c-c8a3a54d6bfb",
        "colab": {
          "base_uri": "https://localhost:8080/",
          "height": 297
        }
      },
      "source": [
        "linkage_matrix=single(dists)\n",
        "fig,ax=plt.subplots(figsize=(10,4))\n",
        "# Construímos el dendograma (árbol jerárquico)\n",
        "R=dendrogram(linkage_matrix, orientation=\"top\",\n",
        "             truncate_mode='lastp', p=100, leaf_font_size=10.,no_plot=False)\n",
        "plt.tight_layout()"
      ],
      "execution_count": 87,
      "outputs": [
        {
          "output_type": "display_data",
          "data": {
            "image/png": "[encoded data removed]",
            "text/plain": [
              "<Figure size 720x288 with 1 Axes>"
            ]
          },
          "metadata": {
            "tags": []
          }
        }
      ]
    },
    {
      "cell_type": "markdown",
      "metadata": {
        "id": "Et06meWCJfJD",
        "colab_type": "text"
      },
      "source": [
        "### Complete-link"
      ]
    },
    {
      "cell_type": "code",
      "metadata": {
        "id": "qC3KWWaDegoQ",
        "colab_type": "code",
        "outputId": "350378c0-f333-43e2-9538-5bcb0c7165b5",
        "colab": {
          "base_uri": "https://localhost:8080/",
          "height": 297
        }
      },
      "source": [
        "linkage_matrix=complete(dists)\n",
        "fig,ax=plt.subplots(figsize=(10,4))\n",
        "# Construímos el dendograma (árbol jerárquico)\n",
        "R=dendrogram(linkage_matrix, orientation=\"top\",\n",
        "             truncate_mode='lastp', p=100, leaf_font_size=10.,no_plot=False)\n",
        "plt.tight_layout()"
      ],
      "execution_count": 88,
      "outputs": [
        {
          "output_type": "display_data",
          "data": {
            "image/png": "[encoded data removed]",
            "text/plain": [
              "<Figure size 720x288 with 1 Axes>"
            ]
          },
          "metadata": {
            "tags": []
          }
        }
      ]
    },
    {
      "cell_type": "markdown",
      "metadata": {
        "id": "v41tdPzHemYl",
        "colab_type": "text"
      },
      "source": [
        "### Average-link"
      ]
    },
    {
      "cell_type": "code",
      "metadata": {
        "id": "ET_8h33vergD",
        "colab_type": "code",
        "outputId": "ec624110-c3ae-4a36-9ab1-4d99390ec7b7",
        "colab": {
          "base_uri": "https://localhost:8080/",
          "height": 297
        }
      },
      "source": [
        "linkage_matrix=average(dists)\n",
        "fig,ax=plt.subplots(figsize=(10,4))\n",
        "# Construímos el dendograma (árbol jerárquico)\n",
        "R=dendrogram(linkage_matrix, orientation=\"top\",\n",
        "             truncate_mode='lastp', p=100, leaf_font_size=10.,no_plot=False)\n",
        "plt.tight_layout()"
      ],
      "execution_count": 89,
      "outputs": [
        {
          "output_type": "display_data",
          "data": {
            "image/png": "[encoded data removed]",
            "text/plain": [
              "<Figure size 720x288 with 1 Axes>"
            ]
          },
          "metadata": {
            "tags": []
          }
        }
      ]
    },
    {
      "cell_type": "markdown",
      "metadata": {
        "id": "LdO6keckewVn",
        "colab_type": "text"
      },
      "source": [
        "### Prototype (Centroide)"
      ]
    },
    {
      "cell_type": "code",
      "metadata": {
        "id": "0dCPgHIWe5Y9",
        "colab_type": "code",
        "outputId": "a32277ab-5159-4a9e-b04a-550692fa2ebe",
        "colab": {
          "base_uri": "https://localhost:8080/",
          "height": 297
        }
      },
      "source": [
        "linkage_matrix=centroid(dists)\n",
        "fig,ax=plt.subplots(figsize=(10,4))\n",
        "# Construímos el dendograma (árbol jerárquico)\n",
        "R=dendrogram(linkage_matrix, orientation=\"top\",\n",
        "             truncate_mode='lastp', p=100, leaf_font_size=10.,no_plot=False)\n",
        "plt.tight_layout()"
      ],
      "execution_count": 90,
      "outputs": [
        {
          "output_type": "display_data",
          "data": {
            "image/png": "[encoded data removed]",
            "text/plain": [
              "<Figure size 720x288 with 1 Axes>"
            ]
          },
          "metadata": {
            "tags": []
          }
        }
      ]
    },
    {
      "cell_type": "markdown",
      "metadata": {
        "id": "Um8QzEADfGx1",
        "colab_type": "text"
      },
      "source": [
        "## 7) Dado un conjunto de ejemplos categóricos de 5 dimensiones:"
      ]
    },
    {
      "cell_type": "code",
      "metadata": {
        "id": "vlNC-Evvf_GQ",
        "colab_type": "code",
        "colab": {
          "base_uri": "https://localhost:8080/",
          "height": 119
        },
        "outputId": "e0bbe017-5e74-437c-98e7-7bb6cb13cf49"
      },
      "source": [
        "Y=np.array([[1,0,1,1,0],[1,1,0,1,0],[0,0,1,1,0],[0,1,0,1,0],[1,0,1,0,1],[0,1,1,0,0]])\n",
        "Y"
      ],
      "execution_count": 91,
      "outputs": [
        {
          "output_type": "execute_result",
          "data": {
            "text/plain": [
              "array([[1, 0, 1, 1, 0],\n",
              "       [1, 1, 0, 1, 0],\n",
              "       [0, 0, 1, 1, 0],\n",
              "       [0, 1, 0, 1, 0],\n",
              "       [1, 0, 1, 0, 1],\n",
              "       [0, 1, 1, 0, 0]])"
            ]
          },
          "metadata": {
            "tags": []
          },
          "execution_count": 91
        }
      ]
    },
    {
      "cell_type": "markdown",
      "metadata": {
        "id": "kBB5z4jgAGUX",
        "colab_type": "text"
      },
      "source": [
        "### a) Aplique agrupamiento jerárquico aglomerativo, usando:"
      ]
    },
    {
      "cell_type": "markdown",
      "metadata": {
        "id": "kN17j042ALYE",
        "colab_type": "text"
      },
      "source": [
        "**1) Medida intercluster enlace simple (single link o MIN) basado en el coeficiente de Rao. Diagramar el dendograma**"
      ]
    },
    {
      "cell_type": "markdown",
      "metadata": {
        "id": "VTa_0JMGGcJM",
        "colab_type": "text"
      },
      "source": [
        "Se calculan las distancias o similitudes basados en el coeficiente de Rao, obteniendo la siguiente matríz:"
      ]
    },
    {
      "cell_type": "code",
      "metadata": {
        "id": "kkKd4FTuAFrh",
        "colab_type": "code",
        "colab": {
          "base_uri": "https://localhost:8080/",
          "height": 119
        },
        "outputId": "7cd05a1d-67b2-4115-f647-6b711b1b4161"
      },
      "source": [
        "distrao=np.zeros((6,6))\n",
        "\n",
        "for i in range(0,6):\n",
        "  for j in range(0,6):\n",
        "    C=Y[i]\n",
        "    D=Y[j]\n",
        "    suma=0\n",
        "    for k in range(0,len(C)):\n",
        "      if C[k]==1 and C[k]==D[k]:\n",
        "        suma += 1\n",
        "    distrao[i,j]=suma/len(C)\n",
        "distrao"
      ],
      "execution_count": 92,
      "outputs": [
        {
          "output_type": "execute_result",
          "data": {
            "text/plain": [
              "array([[0.6, 0.4, 0.4, 0.2, 0.4, 0.2],\n",
              "       [0.4, 0.6, 0.2, 0.4, 0.2, 0.2],\n",
              "       [0.4, 0.2, 0.4, 0.2, 0.2, 0.2],\n",
              "       [0.2, 0.4, 0.2, 0.4, 0. , 0.2],\n",
              "       [0.4, 0.2, 0.2, 0. , 0.6, 0.2],\n",
              "       [0.2, 0.2, 0.2, 0.2, 0.2, 0.4]])"
            ]
          },
          "metadata": {
            "tags": []
          },
          "execution_count": 92
        }
      ]
    },
    {
      "cell_type": "markdown",
      "metadata": {
        "id": "l-_p5Y36Gm3d",
        "colab_type": "text"
      },
      "source": [
        "Posteriormente, se realiza el dendograma utilizando la medida intercluster de enlace simple, y se tiene lo siguiente:"
      ]
    },
    {
      "cell_type": "code",
      "metadata": {
        "id": "8D8RAw14Bv9V",
        "colab_type": "code",
        "colab": {
          "base_uri": "https://localhost:8080/",
          "height": 297
        },
        "outputId": "775a421c-741d-4011-a5fc-98f4f6197373"
      },
      "source": [
        "linkage_matrix=single(distrao)\n",
        "fig,ax=plt.subplots(figsize=(10,4))\n",
        "# Construímos el dendograma (árbol jerárquico)\n",
        "R=dendrogram(linkage_matrix, orientation=\"top\",\n",
        "             truncate_mode='lastp', p=100, leaf_font_size=10.,no_plot=False)\n",
        "plt.tight_layout()"
      ],
      "execution_count": 93,
      "outputs": [
        {
          "output_type": "display_data",
          "data": {
            "image/png": "[encoded data removed]",
            "text/plain": [
              "<Figure size 720x288 with 1 Axes>"
            ]
          },
          "metadata": {
            "tags": []
          }
        }
      ]
    },
    {
      "cell_type": "markdown",
      "metadata": {
        "id": "PyRcysS0G55h",
        "colab_type": "text"
      },
      "source": [
        "**2)Medida intercluster enlace completo (complete link o MAX) basado en coeficiente de correspondencia simple CCS (su sigla en inglés, SMC Simple Matching Coeficient). Diagramar el dendograma**"
      ]
    },
    {
      "cell_type": "markdown",
      "metadata": {
        "id": "gUZRDKcjHCMz",
        "colab_type": "text"
      },
      "source": [
        "Se calculan las distancias o similitudes basados en el coeficiente de correspondencia simple, obteniendo la siguiente matríz:"
      ]
    },
    {
      "cell_type": "code",
      "metadata": {
        "id": "CwEfs_-WHQgI",
        "colab_type": "code",
        "colab": {
          "base_uri": "https://localhost:8080/",
          "height": 119
        },
        "outputId": "cb82af4c-7e90-413d-e3f5-2758f8546299"
      },
      "source": [
        "distsmc=np.zeros((6,6))\n",
        "\n",
        "for i in range(0,6):\n",
        "  for j in range(0,6):\n",
        "    C=Y[i]\n",
        "    D=Y[j]\n",
        "    suma=0\n",
        "    for k in range(0,len(C)):\n",
        "      if C[k]==D[k]:\n",
        "        suma += 1\n",
        "    distsmc[i,j]=suma/len(C)\n",
        "distsmc\n"
      ],
      "execution_count": 94,
      "outputs": [
        {
          "output_type": "execute_result",
          "data": {
            "text/plain": [
              "array([[1. , 0.6, 0.8, 0.4, 0.6, 0.4],\n",
              "       [0.6, 1. , 0.4, 0.8, 0.2, 0.4],\n",
              "       [0.8, 0.4, 1. , 0.6, 0.4, 0.6],\n",
              "       [0.4, 0.8, 0.6, 1. , 0. , 0.6],\n",
              "       [0.6, 0.2, 0.4, 0. , 1. , 0.4],\n",
              "       [0.4, 0.4, 0.6, 0.6, 0.4, 1. ]])"
            ]
          },
          "metadata": {
            "tags": []
          },
          "execution_count": 94
        }
      ]
    },
    {
      "cell_type": "markdown",
      "metadata": {
        "id": "Pzqysbb0IPrl",
        "colab_type": "text"
      },
      "source": [
        "Posteriormente, se realiza el dendograma utilizando la medida intercluster de enlace completo, y se tiene lo siguiente:"
      ]
    },
    {
      "cell_type": "code",
      "metadata": {
        "id": "UCOHx6PjHvP0",
        "colab_type": "code",
        "colab": {
          "base_uri": "https://localhost:8080/",
          "height": 297
        },
        "outputId": "70be0bd6-b988-4729-d1ef-34e3fe7c4024"
      },
      "source": [
        "linkage_matrix=complete(distsmc)\n",
        "fig,ax=plt.subplots(figsize=(10,4))\n",
        "# Construímos el dendograma (árbol jerárquico)\n",
        "R=dendrogram(linkage_matrix, orientation=\"top\",\n",
        "             truncate_mode='lastp', p=100, leaf_font_size=10.,no_plot=False)\n",
        "plt.tight_layout()"
      ],
      "execution_count": 95,
      "outputs": [
        {
          "output_type": "display_data",
          "data": {
            "image/png": "[encoded data removed]",
            "text/plain": [
              "<Figure size 720x288 with 1 Axes>"
            ]
          },
          "metadata": {
            "tags": []
          }
        }
      ]
    },
    {
      "cell_type": "markdown",
      "metadata": {
        "id": "G0lshvcYX9M_",
        "colab_type": "text"
      },
      "source": [
        "### b) ¿Es posible usar una medida intercluster basada en prototipos? Si es posible, ¿cuál sería?\n",
        "\n"
      ]
    },
    {
      "cell_type": "markdown",
      "metadata": {
        "id": "dNJ-3aQtYbTN",
        "colab_type": "text"
      },
      "source": [
        "Como se ve a continuación, se puede usar una medida basada en prototipos, con centroides, y el dendograma se puede diagramar, en este caso se usa el coeficiente SMC, sin embargo, nótese que la interpretación en este caso es más complicada, debido a que al utilizar centroides y nuestro conjunto de datos es binario, el cálculo de sus distancias es más complejo de entender."
      ]
    },
    {
      "cell_type": "code",
      "metadata": {
        "id": "zuk_5P72X9-Z",
        "colab_type": "code",
        "colab": {
          "base_uri": "https://localhost:8080/",
          "height": 297
        },
        "outputId": "b8153236-c5a9-4158-a1bf-c7053f51d72a"
      },
      "source": [
        "linkage_matrix=centroid(distsmc)\n",
        "fig,ax=plt.subplots(figsize=(10,4))\n",
        "# Construímos el dendograma (árbol jerárquico)\n",
        "R=dendrogram(linkage_matrix, orientation=\"top\",\n",
        "             truncate_mode='lastp', p=100, leaf_font_size=10.,no_plot=False)\n",
        "plt.tight_layout()"
      ],
      "execution_count": 97,
      "outputs": [
        {
          "output_type": "display_data",
          "data": {
            "image/png": "[encoded data removed]",
            "text/plain": [
              "<Figure size 720x288 with 1 Axes>"
            ]
          },
          "metadata": {
            "tags": []
          }
        }
      ]
    },
    {
      "cell_type": "markdown",
      "metadata": {
        "id": "E24PibhmBPLV",
        "colab_type": "text"
      },
      "source": [
        "### c) ¿Es posible usar el método de Ward? Explique."
      ]
    },
    {
      "cell_type": "markdown",
      "metadata": {
        "id": "ECt1u9XICxEL",
        "colab_type": "text"
      },
      "source": [
        "Como se puede ver en los siguientes diagramas, si es posible hacer uso del método de Ward, notese que se uso para tres distancias o coeficientes diferentes y de igual manera se logró obtener el dendograma correspondiente. Debido a que los clusters se clasifican según la proximidad entre sus erreore cuadráticos, se puede ver que el primer dendograma calculado con el coeficiente SMC y el tercero calculado con la distancia euclidiana, son muy parecidos, mientras que el segundo (coeficiente de Rao) cambia con respecto a los otros dos."
      ]
    },
    {
      "cell_type": "markdown",
      "metadata": {
        "id": "1TNtMlXmFXOJ",
        "colab_type": "text"
      },
      "source": [
        "**Coeficiente SMC**"
      ]
    },
    {
      "cell_type": "code",
      "metadata": {
        "id": "xOA4Bk7zBOPR",
        "colab_type": "code",
        "colab": {
          "base_uri": "https://localhost:8080/",
          "height": 297
        },
        "outputId": "ca0c98c4-b68f-4359-b8d4-fa162e71df62"
      },
      "source": [
        "linkage_matrix=ward(distsmc)\n",
        "fig,ax=plt.subplots(figsize=(10,4))\n",
        "# Construímos el dendograma (árbol jerárquico)\n",
        "R=dendrogram(linkage_matrix, orientation=\"top\",\n",
        "             truncate_mode='lastp', p=100, leaf_font_size=10.,no_plot=False)\n",
        "plt.tight_layout()"
      ],
      "execution_count": 98,
      "outputs": [
        {
          "output_type": "display_data",
          "data": {
            "image/png": "[encoded data removed]",
            "text/plain": [
              "<Figure size 720x288 with 1 Axes>"
            ]
          },
          "metadata": {
            "tags": []
          }
        }
      ]
    },
    {
      "cell_type": "markdown",
      "metadata": {
        "id": "FvTftAU7Fcae",
        "colab_type": "text"
      },
      "source": [
        "**Coeficiente Rao**"
      ]
    },
    {
      "cell_type": "code",
      "metadata": {
        "id": "rDxhh7kWCLFb",
        "colab_type": "code",
        "colab": {
          "base_uri": "https://localhost:8080/",
          "height": 297
        },
        "outputId": "19a4be42-5336-4879-cbb9-92d5c967bd75"
      },
      "source": [
        "linkage_matrix=ward(distrao)\n",
        "fig,ax=plt.subplots(figsize=(10,4))\n",
        "# Construímos el dendograma (árbol jerárquico)\n",
        "R=dendrogram(linkage_matrix, orientation=\"top\",\n",
        "             truncate_mode='lastp', p=100, leaf_font_size=10.,no_plot=False)\n",
        "plt.tight_layout()"
      ],
      "execution_count": 99,
      "outputs": [
        {
          "output_type": "display_data",
          "data": {
            "image/png": "[encoded data removed]",
            "text/plain": [
              "<Figure size 720x288 with 1 Axes>"
            ]
          },
          "metadata": {
            "tags": []
          }
        }
      ]
    },
    {
      "cell_type": "markdown",
      "metadata": {
        "id": "lfV6j-NHFgrC",
        "colab_type": "text"
      },
      "source": [
        "**Distancia euclidiana**"
      ]
    },
    {
      "cell_type": "code",
      "metadata": {
        "id": "u497ctgWCSoS",
        "colab_type": "code",
        "colab": {
          "base_uri": "https://localhost:8080/",
          "height": 297
        },
        "outputId": "e3f7d3dd-4ac9-4e2d-e4c8-f0b5c2b9b181"
      },
      "source": [
        "dists=euclidean_distances(Y)\n",
        "linkage_matrix=ward(dists)\n",
        "fig,ax=plt.subplots(figsize=(10,4))\n",
        "# Construímos el dendograma (árbol jerárquico)\n",
        "R=dendrogram(linkage_matrix, orientation=\"top\",\n",
        "             truncate_mode='lastp', p=100, leaf_font_size=10.,no_plot=False)\n",
        "plt.tight_layout()"
      ],
      "execution_count": 100,
      "outputs": [
        {
          "output_type": "display_data",
          "data": {
            "image/png": "[encoded data removed]",
            "text/plain": [
              "<Figure size 720x288 with 1 Axes>"
            ]
          },
          "metadata": {
            "tags": []
          }
        }
      ]
    },
    {
      "cell_type": "markdown",
      "metadata": {
        "id": "KxcKjEs7Frs0",
        "colab_type": "text"
      },
      "source": [
        "## 8) Algoritmos jerárquicos son usados para generar K grupos (K >1) tomando los grupos al nivel Kth del dendograma. Analizando los grupos generados de esta forma, se puede evaluar el comportamiento del algoritmo en diferentes tipos de datos y grupos, e incluso comparar con los resultados generados por el algoritmo K-means.\n",
        "\n",
        "## Si se tiene el siguiente conjunto de puntos en una dimensión: {6,12,18,24,30,42,48}"
      ]
    },
    {
      "cell_type": "markdown",
      "metadata": {
        "id": "SaSxsMxYF13F",
        "colab_type": "text"
      },
      "source": [
        "### a) Por cada uno de los siguientes conjuntos de centroides iniciales, crear dos (2) grupos asumiendo cada punto al centroide más cercano, y luego calcular el error cuadrado total por cada conjunto de dos grupos. Mostrar los grupos y el error cuadrado total por cada conjunto de centroides:\n",
        "### 1) {18, 45}\n"
      ]
    },
    {
      "cell_type": "code",
      "metadata": {
        "id": "GnFBpwUdGQ8U",
        "colab_type": "code",
        "colab": {
          "base_uri": "https://localhost:8080/",
          "height": 51
        },
        "outputId": "e3606048-8fcc-46bb-c44d-f2019e04d3c7"
      },
      "source": [
        "P=np.array([6,12,18,24,30,42,48])\n",
        "c1=18\n",
        "c2=45\n",
        "cluster0=[]\n",
        "cluster1=[]\n",
        "for i in range(0,len(P)):\n",
        "  if abs(c1-P[i])<abs(c2-P[i]):\n",
        "    cluster0.append(P[i])\n",
        "  else:\n",
        "    cluster1.append(P[i])\n",
        "print(f\"cluster0:{cluster0}\")\n",
        "print(f\"cluster1:{cluster1}\")"
      ],
      "execution_count": 101,
      "outputs": [
        {
          "output_type": "stream",
          "text": [
            "cluster0:[6, 12, 18, 24, 30]\n",
            "cluster1:[42, 48]\n"
          ],
          "name": "stdout"
        }
      ]
    },
    {
      "cell_type": "code",
      "metadata": {
        "id": "P_pxErDdKSoL",
        "colab_type": "code",
        "colab": {
          "base_uri": "https://localhost:8080/",
          "height": 51
        },
        "outputId": "82b65988-0e5c-4424-e8d2-458df83496c2"
      },
      "source": [
        "SSE1=0\n",
        "for i in range(0,len(cluster0)):\n",
        "  y=(c1-cluster0[i])**2\n",
        "  SSE1+=y\n",
        "SSE2=0\n",
        "for i in range(0,len(cluster1)):\n",
        "  y=(c2-cluster1[i])**2\n",
        "  SSE2+=y\n",
        "print(f\"La suma de cuadrados de los errores totales en el cluster 0 es {SSE1}\")\n",
        "print(f\"La suma de cuadrados de los errores totales en el cluster 1 es {SSE2}\")"
      ],
      "execution_count": 102,
      "outputs": [
        {
          "output_type": "stream",
          "text": [
            "La suma de cuadrados de los errores totales en el cluster 0 es 360\n",
            "La suma de cuadrados de los errores totales en el cluster 1 es 18\n"
          ],
          "name": "stdout"
        }
      ]
    },
    {
      "cell_type": "markdown",
      "metadata": {
        "id": "5ZBJAUI2IK61",
        "colab_type": "text"
      },
      "source": [
        "### 2) {15, 40}"
      ]
    },
    {
      "cell_type": "code",
      "metadata": {
        "id": "HoPKho79JiYz",
        "colab_type": "code",
        "colab": {
          "base_uri": "https://localhost:8080/",
          "height": 51
        },
        "outputId": "6a40a0f2-e92a-475c-ca9e-1a9be01726cc"
      },
      "source": [
        "c3=15\n",
        "c4=40\n",
        "cluster2=[]\n",
        "cluster3=[]\n",
        "for i in range(0,len(P)):\n",
        "  if abs(c3-P[i])<abs(c4-P[i]):\n",
        "    cluster2.append(P[i])\n",
        "  else:\n",
        "    cluster3.append(P[i])\n",
        "print(f\"cluster0:{cluster2}\")\n",
        "print(f\"cluster1:{cluster3}\")"
      ],
      "execution_count": 103,
      "outputs": [
        {
          "output_type": "stream",
          "text": [
            "cluster0:[6, 12, 18, 24]\n",
            "cluster1:[30, 42, 48]\n"
          ],
          "name": "stdout"
        }
      ]
    },
    {
      "cell_type": "code",
      "metadata": {
        "id": "o5h989WHLT6X",
        "colab_type": "code",
        "colab": {
          "base_uri": "https://localhost:8080/",
          "height": 51
        },
        "outputId": "04d065d8-642a-48d6-f6ba-673fb42229db"
      },
      "source": [
        "SSE3=0\n",
        "for i in range(0,len(cluster2)):\n",
        "  y=(c3-cluster2[i])**2\n",
        "  SSE3+=y\n",
        "SSE4=0\n",
        "for i in range(0,len(cluster3)):\n",
        "  y=(c4-cluster3[i])**2\n",
        "  SSE4+=y\n",
        "print(f\"La suma de cuadrados de los errores totales en el cluster 0 es {SSE3}\")\n",
        "print(f\"La suma de cuadrados de los errores totales en el cluster 1 es {SSE4}\")"
      ],
      "execution_count": 104,
      "outputs": [
        {
          "output_type": "stream",
          "text": [
            "La suma de cuadrados de los errores totales en el cluster 0 es 180\n",
            "La suma de cuadrados de los errores totales en el cluster 1 es 168\n"
          ],
          "name": "stdout"
        }
      ]
    },
    {
      "cell_type": "markdown",
      "metadata": {
        "id": "X4YwhDJCLzdD",
        "colab_type": "text"
      },
      "source": [
        "### b) Ambas soluciones representan soluciones estables. Si el K-means se ejecutara tomando como centroides iniciales los centroides dados, ¿Habría algún cambio en los grupos generados?"
      ]
    },
    {
      "cell_type": "markdown",
      "metadata": {
        "id": "dnB6BpcWQKL7",
        "colab_type": "text"
      },
      "source": [
        "### 1) {18, 45}"
      ]
    },
    {
      "cell_type": "markdown",
      "metadata": {
        "id": "1f0LQ46kQOs2",
        "colab_type": "text"
      },
      "source": [
        "Si se usa KMeans para el mismo conjunto de datos, usando como centroides a {18, 45} se puede observar que se obtiene el mismo agrupamiento:"
      ]
    },
    {
      "cell_type": "code",
      "metadata": {
        "id": "r36CnichNohq",
        "colab_type": "code",
        "colab": {
          "base_uri": "https://localhost:8080/",
          "height": 51
        },
        "outputId": "1c1eb622-3615-4e09-968b-2fe8dcfa851a"
      },
      "source": [
        "P1=np.array([[6,0],[12,0],[18,0],[24,0],[30,0],[42,0],[48,0]])\n",
        "c11=[18,0]\n",
        "c22=[45,0]\n",
        "n_clusters = 2\n",
        "initialpnts=np.array([c11,c22])\n",
        "km = KMeans( n_clusters=n_clusters, init=initialpnts)\n",
        "km.fit(P1)\n",
        "y = km.predict(P1)\n",
        "cluster5=[]\n",
        "cluster6=[]\n",
        "for i in range(0,len(y)):\n",
        "  if y[i]==0:\n",
        "    cluster5.append(P1[i,0])\n",
        "  else:\n",
        "    cluster6.append(P1[i,0])\n",
        "print(f\"cluster0 usando KMeans:{cluster5}\")\n",
        "print(f\"cluster1 usando KMeans:{cluster6}\")\n",
        " "
      ],
      "execution_count": 105,
      "outputs": [
        {
          "output_type": "stream",
          "text": [
            "cluster0 usando KMeans:[6, 12, 18, 24, 30]\n",
            "cluster1 usando KMeans:[42, 48]\n"
          ],
          "name": "stdout"
        }
      ]
    },
    {
      "cell_type": "markdown",
      "metadata": {
        "id": "BfGEfPpmQi2a",
        "colab_type": "text"
      },
      "source": [
        "### 2) {15, 40}"
      ]
    },
    {
      "cell_type": "markdown",
      "metadata": {
        "id": "C6yMqlGWQloz",
        "colab_type": "text"
      },
      "source": [
        "Si se usa KMeans para el mismo conjunto de datos, usando como centroides a {15, 40} se puede observar que se obtiene el siguiente agrupamiento:"
      ]
    },
    {
      "cell_type": "code",
      "metadata": {
        "id": "8rBJkzFvQreL",
        "colab_type": "code",
        "colab": {
          "base_uri": "https://localhost:8080/",
          "height": 51
        },
        "outputId": "8207e561-3db9-4284-abe6-6b94cee51214"
      },
      "source": [
        "c33=[15,0]\n",
        "c44=[40,0]\n",
        "n_clusters = 2\n",
        "initialpnts2=np.array([c33,c44])\n",
        "km = KMeans( n_clusters=n_clusters, init=initialpnts2)\n",
        "km.fit(P1)\n",
        "y2 = km.predict(P1)\n",
        "cluster7=[]\n",
        "cluster8=[]\n",
        "for i in range(0,len(y2)):\n",
        "  if y2[i]==0:\n",
        "    cluster7.append(P1[i,0])\n",
        "  else:\n",
        "    cluster8.append(P1[i,0])\n",
        "print(f\"cluster0 usando KMeans:{cluster7}\")\n",
        "print(f\"cluster1 usando KMeans:{cluster8}\")"
      ],
      "execution_count": 106,
      "outputs": [
        {
          "output_type": "stream",
          "text": [
            "cluster0 usando KMeans:[6, 12, 18, 24]\n",
            "cluster1 usando KMeans:[30, 42, 48]\n"
          ],
          "name": "stdout"
        }
      ]
    },
    {
      "cell_type": "markdown",
      "metadata": {
        "id": "kz7J23P3RE1u",
        "colab_type": "text"
      },
      "source": [
        "Nuevamente, observando lo anterior, se tiene que los clusters son los mismos a los realizados haciendo el procedimiento anterior"
      ]
    },
    {
      "cell_type": "markdown",
      "metadata": {
        "id": "psZbzzsGRWJ7",
        "colab_type": "text"
      },
      "source": [
        "### c) ¿Cuales serían los grupos producidos usando single link?"
      ]
    },
    {
      "cell_type": "code",
      "metadata": {
        "id": "1P6USGCkRdrZ",
        "colab_type": "code",
        "colab": {
          "base_uri": "https://localhost:8080/",
          "height": 297
        },
        "outputId": "3e65d801-2bd6-4d9b-dc0d-9ad2911f4f1e"
      },
      "source": [
        "dists=euclidean_distances(P1)\n",
        "linkage_matrix=single(dists)\n",
        "fig,ax=plt.subplots(figsize=(10,4))\n",
        "# Construímos el dendograma (árbol jerárquico)\n",
        "R=dendrogram(linkage_matrix, orientation=\"top\",\n",
        "             truncate_mode='lastp', p=100, leaf_font_size=10.,no_plot=False)\n",
        "plt.tight_layout()"
      ],
      "execution_count": 107,
      "outputs": [
        {
          "output_type": "display_data",
          "data": {
            "image/png": "[encoded data removed]",
            "text/plain": [
              "<Figure size 720x288 with 1 Axes>"
            ]
          },
          "metadata": {
            "tags": []
          }
        }
      ]
    },
    {
      "cell_type": "markdown",
      "metadata": {
        "id": "HJL5xjjtR4iU",
        "colab_type": "text"
      },
      "source": [
        "Como se observa en el dendograma anterior realizado usando el enlace simple (single link), se puede concluir que los grupos obtenidos son \n",
        "\n",
        "*  K1 = {6, 12, 18, 24, 30}\n",
        "*  K2 = {42, 48}\n",
        "\n",
        "Tal como se encontró en los procedimientos anteriores cuando se usaron como centroides los números {18, 45}"
      ]
    },
    {
      "cell_type": "markdown",
      "metadata": {
        "id": "acYDpOYLSpcr",
        "colab_type": "text"
      },
      "source": [
        "### d) ¿Cuál algoritmo, K-means o Single link, parece producir la solución “más natural”?"
      ]
    },
    {
      "cell_type": "markdown",
      "metadata": {
        "id": "gYMGraHDSwWM",
        "colab_type": "text"
      },
      "source": [
        "Por lo visto anteriormente, se puede decir que se produce de manera más natural el algorítmo usando el enlace simple, esto debido a que la agrupación realizada no depende de la imposición de centroides iniciales, o de cualquier otro tipo de inicialización, y consecuentemente, tampoco de la cantidad de grupos o clusters que se quieren obtener, simplemente con base en sus distancias, el single link, calcula los cluster dada su proximidad. "
      ]
    },
    {
      "cell_type": "markdown",
      "metadata": {
        "id": "IuWsv4ReTfSP",
        "colab_type": "text"
      },
      "source": [
        "### e) ¿Cuál definición de agrupación corresponde mejor a la solución generada? (grupos bien separados, basados en centro, densos, cercanos, etc.). ¿Cuál característica del algoritmo k-means explica ese comportamiento?"
      ]
    },
    {
      "cell_type": "markdown",
      "metadata": {
        "id": "WNKyJ7YoT0dA",
        "colab_type": "text"
      },
      "source": [
        "Debido a la característica de los datos, se podría pensar que la definición que mejor se adecua a la solución generada es la de grupos basados en su cercanía, debido a que se obtuvieron aquellos grupos donde su distancia siempre fue uniforme, y aquellos que no estaban dentro de los estandares de la distancia, los agruparon en otro cluster, lo que haría pensar en que se generó debido a su proximidad.\n",
        "\n",
        "La característica de los KMeans que explica este comportamiento es que trata de minimizar el error cuadrático de los puntos medidos."
      ]
    },
    {
      "cell_type": "markdown",
      "metadata": {
        "id": "GvxTCqk6VE1F",
        "colab_type": "text"
      },
      "source": [
        "## 9) Aplicar el algoritmo DBScan, a los datos del ejercicio 3, usando la distancia Euclidean. Usar Epsilon = 2 y minpoint = 2. Dibujar cada 10 iteraciones el resultado del proceso de agrupación. ¿Que sucede si Epsilon es √10? Explicar."
      ]
    },
    {
      "cell_type": "code",
      "metadata": {
        "id": "mYOGSNZlg25B",
        "colab_type": "code",
        "colab": {
          "base_uri": "https://localhost:8080/",
          "height": 102
        },
        "outputId": "546e4346-d5d3-466e-8b88-e33599676c02"
      },
      "source": [
        "from sklearn.cluster import DBSCAN\n",
        "\n",
        "cluster0=[]\n",
        "cluster1=[]\n",
        "cluster = DBSCAN(eps=2, min_samples=2).fit(X)\n",
        "for i in range(0,len(X)):\n",
        "  if cluster.labels_[i]==0:\n",
        "    cluster0.append(X[i])\n",
        "  elif cluster.labels_[i]==1:\n",
        "    cluster1.append(X[i])\n",
        "  else:\n",
        "    print(X[i])\n",
        "print(cluster0)\n",
        "print(cluster1)"
      ],
      "execution_count": 108,
      "outputs": [
        {
          "output_type": "stream",
          "text": [
            "[ 2 10]\n",
            "[2 5]\n",
            "[1 2]\n",
            "[array([8, 4]), array([7, 5]), array([6, 4])]\n",
            "[array([5, 8]), array([4, 9])]\n"
          ],
          "name": "stdout"
        }
      ]
    },
    {
      "cell_type": "markdown",
      "metadata": {
        "id": "qaL8P_bDZV1z",
        "colab_type": "text"
      },
      "source": [
        "Notemos que al usar el algorítmo SBSCAN, este separa dos grupos, cuyos puntos cumplen con los requisitos, por un lado tenemos\n",
        "\n",
        "\n",
        "*   K1 = {(8, 4), (7, 5), (6, 4)}\n",
        "*   K2 = {(5, 8), (4, 9)}\n",
        "\n",
        "Sin embargo, nótese que los puntos (2, 10), (2, 5) y (1, 2) son considerados como \"outliers\" debido a que no se pueden agrupar con ninguno de los grupos mencionados anteriormente, ni tampoco generar un nuevo grupo.\n",
        "\n"
      ]
    },
    {
      "cell_type": "code",
      "metadata": {
        "id": "Dh3fIDowpZbC",
        "colab_type": "code",
        "colab": {
          "base_uri": "https://localhost:8080/",
          "height": 68
        },
        "outputId": "99039e8f-40ad-432d-8325-fb4400dfd086"
      },
      "source": [
        "import math\n",
        "\n",
        "cluster11 = DBSCAN(eps=math.sqrt(10), min_samples=2).fit(X)\n",
        "cluster0=[]\n",
        "cluster1=[]\n",
        "cluster2=[]\n",
        "\n",
        "for i in range(0,len(X)):\n",
        "  if cluster11.labels_[i]==0:\n",
        "    cluster0.append(X[i])\n",
        "  elif cluster11.labels_[i]==1:\n",
        "    cluster1.append(X[i])\n",
        "  else:\n",
        "    cluster2.append(X[i])\n",
        "print(cluster0)\n",
        "print(cluster1)\n",
        "print(cluster2)\n"
      ],
      "execution_count": 118,
      "outputs": [
        {
          "output_type": "stream",
          "text": [
            "[array([ 2, 10]), array([5, 8]), array([4, 9])]\n",
            "[array([2, 5]), array([1, 2])]\n",
            "[array([8, 4]), array([7, 5]), array([6, 4])]\n"
          ],
          "name": "stdout"
        }
      ]
    },
    {
      "cell_type": "markdown",
      "metadata": {
        "id": "6wMYRIMccILD",
        "colab_type": "text"
      },
      "source": [
        "Si se aumenta el radio, como se hizo anteriormente, que se uso un radio de raíz de 10, los grupos de antes siguen conformados, salvo que ahora a K2 se le agrego el punto (2, 10), y los otros dos puntos que se presentaban como \"outliers\" ahora representan un nuevo grupo."
      ]
    },
    {
      "cell_type": "markdown",
      "metadata": {
        "id": "v294F0FTsEHn",
        "colab_type": "text"
      },
      "source": [
        "## 10. Usar el conjunto de datos “Perfume Data Data Set” del repositorio UCI (Machine Learning), para aplicar los algoritmos: single link, complete link average ling y Ward. Usar cualquier herramienta de software. Mostrar dendogramas y explicar resultados."
      ]
    },
    {
      "cell_type": "code",
      "metadata": {
        "id": "rpLjwQSsswLh",
        "colab_type": "code",
        "colab": {}
      },
      "source": [
        "data = pd.read_csv(\"perfume_data.csv\",sep=';',)\n",
        "data=data.drop(['ajayeb'],axis=1)\n"
      ],
      "execution_count": 0,
      "outputs": []
    },
    {
      "cell_type": "markdown",
      "metadata": {
        "id": "jBnrxOQWdXKA",
        "colab_type": "text"
      },
      "source": [
        "A continuación se realiza el dendograma utilizando el método de enlace simple y las distancias euclidianas, se uede observar que se esta agrupando una cantidad grande de objetos en el centro, mientras que la observación 10 se considera como un outlier."
      ]
    },
    {
      "cell_type": "code",
      "metadata": {
        "id": "r24gRHWSwami",
        "colab_type": "code",
        "colab": {
          "base_uri": "https://localhost:8080/",
          "height": 297
        },
        "outputId": "fb703570-dec4-42ee-94e4-663f61f17f7a"
      },
      "source": [
        "dists=euclidean_distances(data)\n",
        "linkage_matrix=single(dists)\n",
        "fig,ax=plt.subplots(figsize=(10,4))\n",
        "# Construímos el dendograma (árbol jerárquico)\n",
        "R=dendrogram(linkage_matrix, orientation=\"top\",\n",
        "             truncate_mode='lastp', p=100, leaf_font_size=10.,no_plot=False)\n",
        "plt.tight_layout()"
      ],
      "execution_count": 121,
      "outputs": [
        {
          "output_type": "display_data",
          "data": {
            "image/png": "[encoded data removed]",
            "text/plain": [
              "<Figure size 720x288 with 1 Axes>"
            ]
          },
          "metadata": {
            "tags": []
          }
        }
      ]
    },
    {
      "cell_type": "markdown",
      "metadata": {
        "id": "BoNADIcGd1CW",
        "colab_type": "text"
      },
      "source": [
        "Luego, de nuevo usando las distancias euclidianas, se grafica el dendograma, esta vez, con el método de enlace completo, los grupos parecen estar mejor conformados y más uniformes. Nótese que la observación 10 sigue considerándose como un outlier."
      ]
    },
    {
      "cell_type": "code",
      "metadata": {
        "id": "StnXjED-xbc8",
        "colab_type": "code",
        "colab": {
          "base_uri": "https://localhost:8080/",
          "height": 297
        },
        "outputId": "0279ef43-2cba-405f-9ef5-a07d76fcc63d"
      },
      "source": [
        "linkage_matrix=complete(dists)\n",
        "fig,ax=plt.subplots(figsize=(10,4))\n",
        "# Construímos el dendograma (árbol jerárquico)\n",
        "R=dendrogram(linkage_matrix, orientation=\"top\",\n",
        "             truncate_mode='lastp', p=100, leaf_font_size=10.,no_plot=False)\n",
        "plt.tight_layout()"
      ],
      "execution_count": 122,
      "outputs": [
        {
          "output_type": "display_data",
          "data": {
            "image/png": "[encoded data removed]",
            "text/plain": [
              "<Figure size 720x288 with 1 Axes>"
            ]
          },
          "metadata": {
            "tags": []
          }
        }
      ]
    },
    {
      "cell_type": "markdown",
      "metadata": {
        "id": "MVTJFEYoeMCi",
        "colab_type": "text"
      },
      "source": [
        "Ahora, por el método de average, o promedio, se puede observar que los grupos conformados son muy similares a los conformados por el enlace completo."
      ]
    },
    {
      "cell_type": "code",
      "metadata": {
        "id": "PDGQo0zExi5b",
        "colab_type": "code",
        "colab": {
          "base_uri": "https://localhost:8080/",
          "height": 297
        },
        "outputId": "ead68438-66ba-4e30-8ab6-97dd6cb25982"
      },
      "source": [
        "linkage_matrix=average(dists)\n",
        "fig,ax=plt.subplots(figsize=(10,4))\n",
        "# Construímos el dendograma (árbol jerárquico)\n",
        "R=dendrogram(linkage_matrix, orientation=\"top\",\n",
        "             truncate_mode='lastp', p=100, leaf_font_size=10.,no_plot=False)\n",
        "plt.tight_layout()"
      ],
      "execution_count": 123,
      "outputs": [
        {
          "output_type": "display_data",
          "data": {
            "image/png": "[encoded data removed]",
            "text/plain": [
              "<Figure size 720x288 with 1 Axes>"
            ]
          },
          "metadata": {
            "tags": []
          }
        }
      ]
    },
    {
      "cell_type": "markdown",
      "metadata": {
        "id": "m94Ln9U-ee-T",
        "colab_type": "text"
      },
      "source": [
        "Y por último, usando el método Ward, las agrupaciones son, aunque se muestran en un diferente orden a las anteriores, muy similares a las de average y enlace completo, manteniendo al 10 como un outlier."
      ]
    },
    {
      "cell_type": "code",
      "metadata": {
        "id": "w9We-J_Axxbg",
        "colab_type": "code",
        "colab": {
          "base_uri": "https://localhost:8080/",
          "height": 297
        },
        "outputId": "f5cddd6a-289f-4cfd-88f8-b2dc1d2b407c"
      },
      "source": [
        "linkage_matrix=ward(dists)\n",
        "fig,ax=plt.subplots(figsize=(10,4))\n",
        "# Construímos el dendograma (árbol jerárquico)\n",
        "R=dendrogram(linkage_matrix, orientation=\"top\",\n",
        "             truncate_mode='lastp', p=100, leaf_font_size=10.,no_plot=False)\n",
        "plt.tight_layout()"
      ],
      "execution_count": 124,
      "outputs": [
        {
          "output_type": "display_data",
          "data": {
            "image/png": "[encoded data removed]",
            "text/plain": [
              "<Figure size 720x288 with 1 Axes>"
            ]
          },
          "metadata": {
            "tags": []
          }
        }
      ]
    },
    {
      "cell_type": "markdown",
      "metadata": {
        "id": "3DmbqXkix5BC",
        "colab_type": "text"
      },
      "source": [
        "## 11) Calcular pureza y entropía (medidas externas) de la siguiente matriz de confusión,"
      ]
    },
    {
      "cell_type": "code",
      "metadata": {
        "id": "VxFcTjxyyHkF",
        "colab_type": "code",
        "colab": {
          "base_uri": "https://localhost:8080/",
          "height": 266
        },
        "outputId": "a0549c05-4576-4b51-c3bc-b96af2f14442"
      },
      "source": [
        "data2={'grupos/clases':['c1','c2','c3','c4','c5','c6','total'],\n",
        "       '#g1':[1,1,0,11,4,676,693],\n",
        "       '#g2':[27,89,333,827,253,33,1562],\n",
        "       '#g3':[326,465,8,105,16,29,949],\n",
        "       'total':[353,555,341,943,273,738,3204]}\n",
        "df2=pd.DataFrame(data2)\n",
        "Z=df2.drop(['grupos/clases'],axis=1)\n",
        "Z"
      ],
      "execution_count": 125,
      "outputs": [
        {
          "output_type": "execute_result",
          "data": {
            "text/html": [
              "<div>\n",
              "<style scoped>\n",
              "    .dataframe tbody tr th:only-of-type {\n",
              "        vertical-align: middle;\n",
              "    }\n",
              "\n",
              "    .dataframe tbody tr th {\n",
              "        vertical-align: top;\n",
              "    }\n",
              "\n",
              "    .dataframe thead th {\n",
              "        text-align: right;\n",
              "    }\n",
              "</style>\n",
              "<table border=\"1\" class=\"dataframe\">\n",
              "  <thead>\n",
              "    <tr style=\"text-align: right;\">\n",
              "      <th></th>\n",
              "      <th>#g1</th>\n",
              "      <th>#g2</th>\n",
              "      <th>#g3</th>\n",
              "      <th>total</th>\n",
              "    </tr>\n",
              "  </thead>\n",
              "  <tbody>\n",
              "    <tr>\n",
              "      <th>0</th>\n",
              "      <td>1</td>\n",
              "      <td>27</td>\n",
              "      <td>326</td>\n",
              "      <td>353</td>\n",
              "    </tr>\n",
              "    <tr>\n",
              "      <th>1</th>\n",
              "      <td>1</td>\n",
              "      <td>89</td>\n",
              "      <td>465</td>\n",
              "      <td>555</td>\n",
              "    </tr>\n",
              "    <tr>\n",
              "      <th>2</th>\n",
              "      <td>0</td>\n",
              "      <td>333</td>\n",
              "      <td>8</td>\n",
              "      <td>341</td>\n",
              "    </tr>\n",
              "    <tr>\n",
              "      <th>3</th>\n",
              "      <td>11</td>\n",
              "      <td>827</td>\n",
              "      <td>105</td>\n",
              "      <td>943</td>\n",
              "    </tr>\n",
              "    <tr>\n",
              "      <th>4</th>\n",
              "      <td>4</td>\n",
              "      <td>253</td>\n",
              "      <td>16</td>\n",
              "      <td>273</td>\n",
              "    </tr>\n",
              "    <tr>\n",
              "      <th>5</th>\n",
              "      <td>676</td>\n",
              "      <td>33</td>\n",
              "      <td>29</td>\n",
              "      <td>738</td>\n",
              "    </tr>\n",
              "    <tr>\n",
              "      <th>6</th>\n",
              "      <td>693</td>\n",
              "      <td>1562</td>\n",
              "      <td>949</td>\n",
              "      <td>3204</td>\n",
              "    </tr>\n",
              "  </tbody>\n",
              "</table>\n",
              "</div>"
            ],
            "text/plain": [
              "   #g1   #g2  #g3  total\n",
              "0    1    27  326    353\n",
              "1    1    89  465    555\n",
              "2    0   333    8    341\n",
              "3   11   827  105    943\n",
              "4    4   253   16    273\n",
              "5  676    33   29    738\n",
              "6  693  1562  949   3204"
            ]
          },
          "metadata": {
            "tags": []
          },
          "execution_count": 125
        }
      ]
    },
    {
      "cell_type": "code",
      "metadata": {
        "id": "wnwf6h0K053Z",
        "colab_type": "code",
        "colab": {
          "base_uri": "https://localhost:8080/",
          "height": 136
        },
        "outputId": "09a4efc6-39d0-4abd-d5c8-3bdcd0374c52"
      },
      "source": [
        "np.array(Z)"
      ],
      "execution_count": 126,
      "outputs": [
        {
          "output_type": "execute_result",
          "data": {
            "text/plain": [
              "array([[   1,   27,  326,  353],\n",
              "       [   1,   89,  465,  555],\n",
              "       [   0,  333,    8,  341],\n",
              "       [  11,  827,  105,  943],\n",
              "       [   4,  253,   16,  273],\n",
              "       [ 676,   33,   29,  738],\n",
              "       [ 693, 1562,  949, 3204]])"
            ]
          },
          "metadata": {
            "tags": []
          },
          "execution_count": 126
        }
      ]
    },
    {
      "cell_type": "markdown",
      "metadata": {
        "id": "XP5jga4Tcy_p",
        "colab_type": "text"
      },
      "source": [
        ""
      ]
    }
  ]
}