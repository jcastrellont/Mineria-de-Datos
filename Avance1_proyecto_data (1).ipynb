{
  "nbformat": 4,
  "nbformat_minor": 0,
  "metadata": {
    "colab": {
      "name": "Avance1_proyecto_data.ipynb",
      "provenance": [],
      "collapsed_sections": []
    },
    "kernelspec": {
      "name": "python3",
      "display_name": "Python 3"
    }
  },
  "cells": [
    {
      "cell_type": "markdown",
      "metadata": {
        "id": "nIk_88Nls-zL",
        "colab_type": "text"
      },
      "source": [
        "# Avance 1: Análisis exploratorio y preprocesamiento de datos"
      ]
    },
    {
      "cell_type": "markdown",
      "metadata": {
        "id": "rO5yzaqmtEEl",
        "colab_type": "text"
      },
      "source": [
        "## Análisis exploratorio\n"
      ]
    },
    {
      "cell_type": "markdown",
      "metadata": {
        "id": "u_EIn_x8tOyU",
        "colab_type": "text"
      },
      "source": [
        "A continuación, se cargan las librerias necesarias para el trabajo a realizar:"
      ]
    },
    {
      "cell_type": "code",
      "metadata": {
        "id": "clkRG8ntiB8K",
        "colab_type": "code",
        "outputId": "21e33628-4288-4bba-c0b8-5474786de6e4",
        "colab": {
          "base_uri": "https://localhost:8080/",
          "height": 102
        }
      },
      "source": [
        "import json\n",
        "import re\n",
        "import csv\n",
        "import pandas as pd\n",
        "import numpy as np\n",
        "from pandas.io.json import json_normalize\n",
        "import nltk\n",
        "import string\n",
        "import seaborn as sns\n",
        "import matplotlib.pyplot as plt\n",
        "from bs4 import BeautifulSoup\n",
        "from nltk.corpus import stopwords\n",
        "from nltk.tokenize import RegexpTokenizer\n",
        "from nltk.stem import WordNetLemmatizer\n",
        "from nltk.stem.porter import PorterStemmer\n",
        "nltk.download('stopwords')\n",
        "nltk.download('wordnet')"
      ],
      "execution_count": 1,
      "outputs": [
        {
          "output_type": "stream",
          "text": [
            "[nltk_data] Downloading package stopwords to /root/nltk_data...\n",
            "[nltk_data]   Unzipping corpora/stopwords.zip.\n",
            "[nltk_data] Downloading package wordnet to /root/nltk_data...\n",
            "[nltk_data]   Unzipping corpora/wordnet.zip.\n"
          ],
          "name": "stdout"
        },
        {
          "output_type": "execute_result",
          "data": {
            "text/plain": [
              "True"
            ]
          },
          "metadata": {
            "tags": []
          },
          "execution_count": 1
        }
      ]
    },
    {
      "cell_type": "markdown",
      "metadata": {
        "id": "ZpMAa2xxtVqy",
        "colab_type": "text"
      },
      "source": [
        "Se carga nuestro conjunto de datos, que como se puede observar se encuentra en formato JSON, y posteriormente se visualiza:"
      ]
    },
    {
      "cell_type": "code",
      "metadata": {
        "id": "pAeykF5aiIVa",
        "colab_type": "code",
        "colab": {}
      },
      "source": [
        "with open('arxivData.json') as f:\n",
        "  data=json.load(f)"
      ],
      "execution_count": 0,
      "outputs": []
    },
    {
      "cell_type": "markdown",
      "metadata": {
        "id": "Phyzt8Npta3s",
        "colab_type": "text"
      },
      "source": [
        "Se puede notar del conjunto de datos que se tienen 9 atributos en los cuales se caracterizan las dimensiones de nuestros datos:"
      ]
    },
    {
      "cell_type": "code",
      "metadata": {
        "id": "cDEGHGuwiMwe",
        "colab_type": "code",
        "outputId": "af5fa74a-719f-46d6-f91a-5150cd00623a",
        "colab": {
          "base_uri": "https://localhost:8080/",
          "height": 289
        }
      },
      "source": [
        "df=pd.DataFrame.from_dict(json_normalize(data))\n",
        "df.rename(columns={'id':'paper_id','summary':'abstract'},inplace=True)\n",
        "df.tail(5)"
      ],
      "execution_count": 3,
      "outputs": [
        {
          "output_type": "execute_result",
          "data": {
            "text/html": [
              "<div>\n",
              "<style scoped>\n",
              "    .dataframe tbody tr th:only-of-type {\n",
              "        vertical-align: middle;\n",
              "    }\n",
              "\n",
              "    .dataframe tbody tr th {\n",
              "        vertical-align: top;\n",
              "    }\n",
              "\n",
              "    .dataframe thead th {\n",
              "        text-align: right;\n",
              "    }\n",
              "</style>\n",
              "<table border=\"1\" class=\"dataframe\">\n",
              "  <thead>\n",
              "    <tr style=\"text-align: right;\">\n",
              "      <th></th>\n",
              "      <th>author</th>\n",
              "      <th>day</th>\n",
              "      <th>paper_id</th>\n",
              "      <th>link</th>\n",
              "      <th>month</th>\n",
              "      <th>abstract</th>\n",
              "      <th>tag</th>\n",
              "      <th>title</th>\n",
              "      <th>year</th>\n",
              "    </tr>\n",
              "  </thead>\n",
              "  <tbody>\n",
              "    <tr>\n",
              "      <th>40995</th>\n",
              "      <td>[{'name': 'Vitaly Feldman'}, {'name': 'Pravesh...</td>\n",
              "      <td>18</td>\n",
              "      <td>1404.4702v2</td>\n",
              "      <td>[{'rel': 'alternate', 'href': 'http://arxiv.or...</td>\n",
              "      <td>4</td>\n",
              "      <td>We study the complexity of learning and approx...</td>\n",
              "      <td>[{'term': 'cs.LG', 'scheme': 'http://arxiv.org...</td>\n",
              "      <td>Nearly Tight Bounds on $\\ell_1$ Approximation ...</td>\n",
              "      <td>2014</td>\n",
              "    </tr>\n",
              "    <tr>\n",
              "      <th>40996</th>\n",
              "      <td>[{'name': 'Orly Avner'}, {'name': 'Shie Mannor'}]</td>\n",
              "      <td>22</td>\n",
              "      <td>1404.5421v1</td>\n",
              "      <td>[{'rel': 'alternate', 'href': 'http://arxiv.or...</td>\n",
              "      <td>4</td>\n",
              "      <td>We consider the problem of multiple users targ...</td>\n",
              "      <td>[{'term': 'cs.LG', 'scheme': 'http://arxiv.org...</td>\n",
              "      <td>Concurrent bandits and cognitive radio networks</td>\n",
              "      <td>2014</td>\n",
              "    </tr>\n",
              "    <tr>\n",
              "      <th>40997</th>\n",
              "      <td>[{'name': 'Ran Zhao'}, {'name': 'Deanna Needel...</td>\n",
              "      <td>22</td>\n",
              "      <td>1404.5899v1</td>\n",
              "      <td>[{'rel': 'alternate', 'href': 'http://arxiv.or...</td>\n",
              "      <td>4</td>\n",
              "      <td>In this paper, we compare and analyze clusteri...</td>\n",
              "      <td>[{'term': 'math.NA', 'scheme': 'http://arxiv.o...</td>\n",
              "      <td>A Comparison of Clustering and Missing Data Me...</td>\n",
              "      <td>2014</td>\n",
              "    </tr>\n",
              "    <tr>\n",
              "      <th>40998</th>\n",
              "      <td>[{'name': 'Zongyan Huang'}, {'name': 'Matthew ...</td>\n",
              "      <td>25</td>\n",
              "      <td>1404.6369v1</td>\n",
              "      <td>[{'rel': 'related', 'href': 'http://dx.doi.org...</td>\n",
              "      <td>4</td>\n",
              "      <td>Cylindrical algebraic decomposition(CAD) is a ...</td>\n",
              "      <td>[{'term': 'cs.SC', 'scheme': 'http://arxiv.org...</td>\n",
              "      <td>Applying machine learning to the problem of ch...</td>\n",
              "      <td>2014</td>\n",
              "    </tr>\n",
              "    <tr>\n",
              "      <th>40999</th>\n",
              "      <td>[{'name': 'Imen Trabelsi'}, {'name': 'Dorra Be...</td>\n",
              "      <td>27</td>\n",
              "      <td>1407.0380v1</td>\n",
              "      <td>[{'rel': 'alternate', 'href': 'http://arxiv.or...</td>\n",
              "      <td>6</td>\n",
              "      <td>Several speaker identification systems are giv...</td>\n",
              "      <td>[{'term': 'cs.SD', 'scheme': 'http://arxiv.org...</td>\n",
              "      <td>A Multi Level Data Fusion Approach for Speaker...</td>\n",
              "      <td>2014</td>\n",
              "    </tr>\n",
              "  </tbody>\n",
              "</table>\n",
              "</div>"
            ],
            "text/plain": [
              "                                                  author  ...  year\n",
              "40995  [{'name': 'Vitaly Feldman'}, {'name': 'Pravesh...  ...  2014\n",
              "40996  [{'name': 'Orly Avner'}, {'name': 'Shie Mannor'}]  ...  2014\n",
              "40997  [{'name': 'Ran Zhao'}, {'name': 'Deanna Needel...  ...  2014\n",
              "40998  [{'name': 'Zongyan Huang'}, {'name': 'Matthew ...  ...  2014\n",
              "40999  [{'name': 'Imen Trabelsi'}, {'name': 'Dorra Be...  ...  2014\n",
              "\n",
              "[5 rows x 9 columns]"
            ]
          },
          "metadata": {
            "tags": []
          },
          "execution_count": 3
        }
      ]
    },
    {
      "cell_type": "code",
      "metadata": {
        "id": "rgkUThwhmYgX",
        "colab_type": "code",
        "outputId": "4a8a38c2-db28-42ed-b30e-fd3c0a4b7705",
        "colab": {
          "base_uri": "https://localhost:8080/",
          "height": 204
        }
      },
      "source": [
        "dfdr=df.drop([\"link\",\"author\",\"tag\",\"day\",\"month\",\"year\"],axis=1)\n",
        "cols = dfdr.columns.tolist()\n",
        "cols = cols[-3:] + cols[:-3]\n",
        "dfdr = dfdr[cols]\n",
        "dfdr.head(5)"
      ],
      "execution_count": 4,
      "outputs": [
        {
          "output_type": "execute_result",
          "data": {
            "text/html": [
              "<div>\n",
              "<style scoped>\n",
              "    .dataframe tbody tr th:only-of-type {\n",
              "        vertical-align: middle;\n",
              "    }\n",
              "\n",
              "    .dataframe tbody tr th {\n",
              "        vertical-align: top;\n",
              "    }\n",
              "\n",
              "    .dataframe thead th {\n",
              "        text-align: right;\n",
              "    }\n",
              "</style>\n",
              "<table border=\"1\" class=\"dataframe\">\n",
              "  <thead>\n",
              "    <tr style=\"text-align: right;\">\n",
              "      <th></th>\n",
              "      <th>paper_id</th>\n",
              "      <th>abstract</th>\n",
              "      <th>title</th>\n",
              "    </tr>\n",
              "  </thead>\n",
              "  <tbody>\n",
              "    <tr>\n",
              "      <th>0</th>\n",
              "      <td>1802.00209v1</td>\n",
              "      <td>We propose an architecture for VQA which utili...</td>\n",
              "      <td>Dual Recurrent Attention Units for Visual Ques...</td>\n",
              "    </tr>\n",
              "    <tr>\n",
              "      <th>1</th>\n",
              "      <td>1603.03827v1</td>\n",
              "      <td>Recent approaches based on artificial neural n...</td>\n",
              "      <td>Sequential Short-Text Classification with Recu...</td>\n",
              "    </tr>\n",
              "    <tr>\n",
              "      <th>2</th>\n",
              "      <td>1606.00776v2</td>\n",
              "      <td>We introduce the multiresolution recurrent neu...</td>\n",
              "      <td>Multiresolution Recurrent Neural Networks: An ...</td>\n",
              "    </tr>\n",
              "    <tr>\n",
              "      <th>3</th>\n",
              "      <td>1705.08142v2</td>\n",
              "      <td>Multi-task learning is motivated by the observ...</td>\n",
              "      <td>Learning what to share between loosely related...</td>\n",
              "    </tr>\n",
              "    <tr>\n",
              "      <th>4</th>\n",
              "      <td>1709.02349v2</td>\n",
              "      <td>We present MILABOT: a deep reinforcement learn...</td>\n",
              "      <td>A Deep Reinforcement Learning Chatbot</td>\n",
              "    </tr>\n",
              "  </tbody>\n",
              "</table>\n",
              "</div>"
            ],
            "text/plain": [
              "       paper_id  ...                                              title\n",
              "0  1802.00209v1  ...  Dual Recurrent Attention Units for Visual Ques...\n",
              "1  1603.03827v1  ...  Sequential Short-Text Classification with Recu...\n",
              "2  1606.00776v2  ...  Multiresolution Recurrent Neural Networks: An ...\n",
              "3  1705.08142v2  ...  Learning what to share between loosely related...\n",
              "4  1709.02349v2  ...              A Deep Reinforcement Learning Chatbot\n",
              "\n",
              "[5 rows x 3 columns]"
            ]
          },
          "metadata": {
            "tags": []
          },
          "execution_count": 4
        }
      ]
    },
    {
      "cell_type": "code",
      "metadata": {
        "id": "eMn1I6chi-ny",
        "colab_type": "code",
        "outputId": "041c0420-6b46-4d7a-8820-9857d72ae81a",
        "colab": {
          "base_uri": "https://localhost:8080/",
          "height": 34
        }
      },
      "source": [
        "df.shape"
      ],
      "execution_count": 5,
      "outputs": [
        {
          "output_type": "execute_result",
          "data": {
            "text/plain": [
              "(41000, 9)"
            ]
          },
          "metadata": {
            "tags": []
          },
          "execution_count": 5
        }
      ]
    },
    {
      "cell_type": "code",
      "metadata": {
        "id": "6P_gcB5liZHE",
        "colab_type": "code",
        "outputId": "73fbcb94-3b07-4272-fc08-7e52ee7e97f5",
        "colab": {
          "base_uri": "https://localhost:8080/",
          "height": 34
        }
      },
      "source": [
        "dfdr.shape"
      ],
      "execution_count": 6,
      "outputs": [
        {
          "output_type": "execute_result",
          "data": {
            "text/plain": [
              "(41000, 3)"
            ]
          },
          "metadata": {
            "tags": []
          },
          "execution_count": 6
        }
      ]
    },
    {
      "cell_type": "markdown",
      "metadata": {
        "id": "lYGJdWJitjaR",
        "colab_type": "text"
      },
      "source": [
        "Se quiere ver el porcentaje de datos faltantes en nuestro conjunto de datos, y claramente se observa que no hacen falta datos de los que se recolectaron por cada uno de los objetos.\n",
        "\n",
        "Luego de esto se observa el tipo de dato que tenemos en cada uno de los atributos."
      ]
    },
    {
      "cell_type": "code",
      "metadata": {
        "id": "n-bpcsnJidMT",
        "colab_type": "code",
        "outputId": "1e38764d-be1a-4b4f-d136-fb15c71b4bb8",
        "colab": {
          "base_uri": "https://localhost:8080/",
          "height": 85
        }
      },
      "source": [
        "## porcentaje de datos faltantes por columna en df\n",
        "dfdr.isnull().mean().sort_values(ascending=False)"
      ],
      "execution_count": 7,
      "outputs": [
        {
          "output_type": "execute_result",
          "data": {
            "text/plain": [
              "title       0.0\n",
              "abstract    0.0\n",
              "paper_id    0.0\n",
              "dtype: float64"
            ]
          },
          "metadata": {
            "tags": []
          },
          "execution_count": 7
        }
      ]
    },
    {
      "cell_type": "code",
      "metadata": {
        "id": "f0fZmq7vifyR",
        "colab_type": "code",
        "outputId": "67782a59-687e-4fca-e251-3a8a40818e9d",
        "colab": {
          "base_uri": "https://localhost:8080/",
          "height": 85
        }
      },
      "source": [
        "## Tipos de datos en cada columna de df\n",
        "dfdr.dtypes"
      ],
      "execution_count": 8,
      "outputs": [
        {
          "output_type": "execute_result",
          "data": {
            "text/plain": [
              "paper_id    object\n",
              "abstract    object\n",
              "title       object\n",
              "dtype: object"
            ]
          },
          "metadata": {
            "tags": []
          },
          "execution_count": 8
        }
      ]
    },
    {
      "cell_type": "markdown",
      "metadata": {
        "id": "F0lz3L_7tsDd",
        "colab_type": "text"
      },
      "source": [
        "## Pre-procesamiento"
      ]
    },
    {
      "cell_type": "markdown",
      "metadata": {
        "id": "jQTQpGoPtxSw",
        "colab_type": "text"
      },
      "source": [
        "Como nuestro objeto de estudio es el abstract, se quiere ver como influye este en la clasificación de nuestros artículos, para esto, debemos darle un tratamiento de tal manera que se pueda interpretar de manera más sencilla, un primer paso, es eliminar todos los signos de puntuación que esten presente en el, esto debido a que estamos interesados únicamente en las palabras claves más recurrentes que podamos encontrar. Una vez hecho esto, se muestra el resultado del abstract sin sus signos de puntuación.\n",
        "\n"
      ]
    },
    {
      "cell_type": "code",
      "metadata": {
        "id": "NYu5W7vZii1c",
        "colab_type": "code",
        "colab": {}
      },
      "source": [
        "def remove_punctuation(text):\n",
        "  no_punt = \"\".join([c for c in text if c not in string.punctuation])\n",
        "  return no_punt"
      ],
      "execution_count": 0,
      "outputs": []
    },
    {
      "cell_type": "code",
      "metadata": {
        "id": "Vc0dUWGViw_7",
        "colab_type": "code",
        "outputId": "512f408b-fd8f-4ffa-96b1-a6defb7424cb",
        "colab": {
          "base_uri": "https://localhost:8080/",
          "height": 119
        }
      },
      "source": [
        "#Quitar puntuación en abstracts\n",
        "dfnopunt=dfdr\n",
        "dfnopunt['abstract'] = dfnopunt['abstract'].apply(lambda x: remove_punctuation(x))\n",
        "abstr=dfnopunt['abstract']\n",
        "abstr.head(5)"
      ],
      "execution_count": 10,
      "outputs": [
        {
          "output_type": "execute_result",
          "data": {
            "text/plain": [
              "0    We propose an architecture for VQA which utili...\n",
              "1    Recent approaches based on artificial neural n...\n",
              "2    We introduce the multiresolution recurrent neu...\n",
              "3    Multitask learning is motivated by the observa...\n",
              "4    We present MILABOT a deep reinforcement learni...\n",
              "Name: abstract, dtype: object"
            ]
          },
          "metadata": {
            "tags": []
          },
          "execution_count": 10
        }
      ]
    },
    {
      "cell_type": "markdown",
      "metadata": {
        "id": "gAHAc0D_t2CO",
        "colab_type": "text"
      },
      "source": [
        "En este caso, nuestro conjunto de datos no presenta palabras clave, por lo que se quiere hacer un estudio de todas aquellas palabras más frecuentes en los abstract y aquellas que no son tan fecuentes, para poder capturar quellas que sean realmente relevantes en nuestro estudio."
      ]
    },
    {
      "cell_type": "code",
      "metadata": {
        "id": "NSDLlgi5Jpzs",
        "colab_type": "code",
        "outputId": "6abb87d3-da3f-489a-d38c-35879aa2ce48",
        "colab": {
          "base_uri": "https://localhost:8080/",
          "height": 374
        }
      },
      "source": [
        "#Identify common words\n",
        "freq = pd.Series(' '.join(abstr).split()).value_counts()[:20]\n",
        "freq"
      ],
      "execution_count": 11,
      "outputs": [
        {
          "output_type": "execute_result",
          "data": {
            "text/plain": [
              "the     318622\n",
              "of      225982\n",
              "and     163768\n",
              "a       159314\n",
              "to      144855\n",
              "in       99063\n",
              "is       85309\n",
              "for      74793\n",
              "that     69598\n",
              "on       58946\n",
              "we       50401\n",
              "with     47114\n",
              "We       46331\n",
              "are      41910\n",
              "this     40480\n",
              "as       38788\n",
              "by       36049\n",
              "The      35943\n",
              "an       34094\n",
              "from     29325\n",
              "dtype: int64"
            ]
          },
          "metadata": {
            "tags": []
          },
          "execution_count": 11
        }
      ]
    },
    {
      "cell_type": "code",
      "metadata": {
        "id": "OIdfOzakJs1Q",
        "colab_type": "code",
        "outputId": "fefe135f-d4c1-4bb9-bdd3-f3ddb15ab9a9",
        "colab": {
          "base_uri": "https://localhost:8080/",
          "height": 374
        }
      },
      "source": [
        "#Identify uncommon words\n",
        "freq1 =  pd.Series(' '.join(abstr).split()).value_counts()[-20:]\n",
        "freq1"
      ],
      "execution_count": 12,
      "outputs": [
        {
          "output_type": "execute_result",
          "data": {
            "text/plain": [
              "physicianidentified    1\n",
              "GriponBerrou           1\n",
              "trafic                 1\n",
              "fXto                   1\n",
              "scab                   1\n",
              "textitAutoExtend       1\n",
              "DVFs                   1\n",
              "explanability          1\n",
              "PCI1710                1\n",
              "8315                   1\n",
              "agrovision             1\n",
              "6591                   1\n",
              "Sentimental            1\n",
              "Freight                1\n",
              "frivolous              1\n",
              "paralinguistics        1\n",
              "wordlemma              1\n",
              "DICOD                  1\n",
              "noiseerror             1\n",
              "ized                   1\n",
              "dtype: int64"
            ]
          },
          "metadata": {
            "tags": []
          },
          "execution_count": 12
        }
      ]
    },
    {
      "cell_type": "markdown",
      "metadata": {
        "id": "0xm7EYdwuPia",
        "colab_type": "text"
      },
      "source": [
        "Otro aspecto importante a tener en cuenta es que hay palabras que no son relevantes a la hora de tratar de buscar nuestras palabras claves, estas palabras las denominaremos como Stop_words, y el tratamiento que les daremos es eliminarlas y únicamente trabajar con aquellas que me puedan dar información más relevante del artículo, obteniendo así vector con palabras por cada abstract."
      ]
    },
    {
      "cell_type": "code",
      "metadata": {
        "id": "QBThK7CmJEAA",
        "colab_type": "code",
        "colab": {}
      },
      "source": [
        "def text_process(mess):\n",
        "    nopunc=[char for char in mess if char not in string.punctuation]\n",
        "    \n",
        "    nopunc=''.join(nopunc)\n",
        "    \n",
        "    return [word for word in nopunc.split() if word.lower() not in stopwords.words('english') ]"
      ],
      "execution_count": 0,
      "outputs": []
    },
    {
      "cell_type": "code",
      "metadata": {
        "id": "rc0HAVrFJEQI",
        "colab_type": "code",
        "outputId": "f9e8ff12-10b1-4952-bfc9-6c060d2d6d32",
        "colab": {
          "base_uri": "https://localhost:8080/",
          "height": 119
        }
      },
      "source": [
        "abstract=dfdr['abstract'].apply(text_process)\n",
        "abstract.head(5)"
      ],
      "execution_count": 14,
      "outputs": [
        {
          "output_type": "execute_result",
          "data": {
            "text/plain": [
              "0    [propose, architecture, VQA, utilizes, recurre...\n",
              "1    [Recent, approaches, based, artificial, neural...\n",
              "2    [introduce, multiresolution, recurrent, neural...\n",
              "3    [Multitask, learning, motivated, observation, ...\n",
              "4    [present, MILABOT, deep, reinforcement, learni...\n",
              "Name: abstract, dtype: object"
            ]
          },
          "metadata": {
            "tags": []
          },
          "execution_count": 14
        }
      ]
    },
    {
      "cell_type": "code",
      "metadata": {
        "id": "z-oVF3Q9JO8N",
        "colab_type": "code",
        "colab": {}
      },
      "source": [
        "dfdr['year']=abstract.apply(len)\n",
        "dfdr.rename(columns={'year':'abstract_length'},inplace=True)"
      ],
      "execution_count": 0,
      "outputs": []
    },
    {
      "cell_type": "code",
      "metadata": {
        "id": "zELUDe3arLF4",
        "colab_type": "code",
        "colab": {}
      },
      "source": [
        "##Creating a list of stop words and adding custom stopwords\n",
        "stop_words = set(stopwords.words(\"english\"))\n",
        "##Creating a list of custom stopwords\n",
        "new_words = [\"using\", \"show\", \"result\", \"large\", \"also\", \"iv\", \"one\", \"two\", \"new\", \"previously\", \"shown\"]\n",
        "stop_words = stop_words.union(new_words)"
      ],
      "execution_count": 0,
      "outputs": []
    },
    {
      "cell_type": "code",
      "metadata": {
        "id": "_hlAyE4zrLWZ",
        "colab_type": "code",
        "colab": {}
      },
      "source": [
        "corpus = []\n",
        "for i in range(0, 41000):\n",
        "    #Remove punctuations\n",
        "    text = re.sub('[^a-zA-Z]', ' ', abstr[i])\n",
        "    \n",
        "    #Convert to lowercase\n",
        "    text = text.lower()\n",
        "    \n",
        "    #remove tags\n",
        "    text=re.sub(\"&lt;/?.*?&gt;\",\" &lt;&gt; \",text)\n",
        "    \n",
        "    # remove special characters and digits\n",
        "    text=re.sub(\"(\\\\d|\\\\W)+\",\" \",text)\n",
        "    \n",
        "    ##Convert to list from string\n",
        "    text = text.split()\n",
        "    \n",
        "    ##Stemming\n",
        "    ps=PorterStemmer()\n",
        "    #Lemmatisation\n",
        "    lem = WordNetLemmatizer()\n",
        "    text = [lem.lemmatize(word) for word in text if not word in  \n",
        "            stop_words] \n",
        "    text = \" \".join(text)\n",
        "    corpus.append(text)"
      ],
      "execution_count": 0,
      "outputs": []
    },
    {
      "cell_type": "code",
      "metadata": {
        "id": "bqddT0QjrLjP",
        "colab_type": "code",
        "outputId": "4b8bb596-f17c-4f24-acac-397688ceef11",
        "colab": {
          "base_uri": "https://localhost:8080/",
          "height": 54
        }
      },
      "source": [
        "corpus[1]"
      ],
      "execution_count": 18,
      "outputs": [
        {
          "output_type": "execute_result",
          "data": {
            "text/plain": [
              "'recent approach based artificial neural network anns promising result shorttext classification however many short text occur sequence eg sentence document utterance dialog existing annbased system leverage preceding short text classifying subsequent work present model based recurrent neural network convolutional neural network incorporates preceding short text model achieves stateoftheart result three different datasets dialog act prediction'"
            ]
          },
          "metadata": {
            "tags": []
          },
          "execution_count": 18
        }
      ]
    },
    {
      "cell_type": "markdown",
      "metadata": {
        "id": "9scOeFXouXIV",
        "colab_type": "text"
      },
      "source": [
        "Visualizamos aquellas palabras mas mencionadas en todos los abstract, dando así una idea de los temas centrales de los artículos de investigación."
      ]
    },
    {
      "cell_type": "code",
      "metadata": {
        "id": "rTQMbDXHrLwA",
        "colab_type": "code",
        "outputId": "539de781-5659-455e-8574-39d51fa5f15b",
        "colab": {
          "base_uri": "https://localhost:8080/",
          "height": 236
        }
      },
      "source": [
        "from os import path\n",
        "from PIL import Image\n",
        "from wordcloud import WordCloud, STOPWORDS, ImageColorGenerator\n",
        "import matplotlib.pyplot as plt\n",
        "% matplotlib inline\n",
        "wordcloud = WordCloud(\n",
        "                          background_color='white',\n",
        "                          stopwords=stop_words,\n",
        "                          max_words=100,\n",
        "                          max_font_size=50, \n",
        "                          random_state=42\n",
        "                         ).generate(str(corpus))\n",
        "print(wordcloud)\n",
        "fig = plt.figure(1)\n",
        "plt.imshow(wordcloud)\n",
        "plt.axis('off')\n",
        "plt.show()"
      ],
      "execution_count": 19,
      "outputs": [
        {
          "output_type": "stream",
          "text": [
            "<wordcloud.wordcloud.WordCloud object at 0x7ff68d1d4e80>\n"
          ],
          "name": "stdout"
        },
        {
          "output_type": "display_data",
          "data": {
            "image/png": "[encoded data removed]",
            "text/plain": [
              "<Figure size 432x288 with 1 Axes>"
            ]
          },
          "metadata": {
            "tags": []
          }
        }
      ]
    },
    {
      "cell_type": "code",
      "metadata": {
        "id": "ovrfJM9C6jKT",
        "colab_type": "code",
        "outputId": "f8baac36-4d39-412e-e3da-ba536b0e5862",
        "colab": {
          "base_uri": "https://localhost:8080/",
          "height": 425
        }
      },
      "source": [
        "for i in range(0,41000):\n",
        "  dfdr['abstract'][i]=corpus[i]\n",
        "dfdr.head(5)"
      ],
      "execution_count": 20,
      "outputs": [
        {
          "output_type": "stream",
          "text": [
            "/usr/local/lib/python3.6/dist-packages/ipykernel_launcher.py:2: SettingWithCopyWarning: \n",
            "A value is trying to be set on a copy of a slice from a DataFrame\n",
            "\n",
            "See the caveats in the documentation: http://pandas.pydata.org/pandas-docs/stable/indexing.html#indexing-view-versus-copy\n",
            "  \n"
          ],
          "name": "stderr"
        },
        {
          "output_type": "error",
          "ename": "KeyboardInterrupt",
          "evalue": "ignored",
          "traceback": [
            "\u001b[0;31m---------------------------------------------------------------------------\u001b[0m",
            "\u001b[0;31mKeyboardInterrupt\u001b[0m                         Traceback (most recent call last)",
            "\u001b[0;32m<ipython-input-20-97eeb5fe3e59>\u001b[0m in \u001b[0;36m<module>\u001b[0;34m()\u001b[0m\n\u001b[1;32m      1\u001b[0m \u001b[0;32mfor\u001b[0m \u001b[0mi\u001b[0m \u001b[0;32min\u001b[0m \u001b[0mrange\u001b[0m\u001b[0;34m(\u001b[0m\u001b[0;36m0\u001b[0m\u001b[0;34m,\u001b[0m\u001b[0;36m41000\u001b[0m\u001b[0;34m)\u001b[0m\u001b[0;34m:\u001b[0m\u001b[0;34m\u001b[0m\u001b[0;34m\u001b[0m\u001b[0m\n\u001b[0;32m----> 2\u001b[0;31m   \u001b[0mdfdr\u001b[0m\u001b[0;34m[\u001b[0m\u001b[0;34m'abstract'\u001b[0m\u001b[0;34m]\u001b[0m\u001b[0;34m[\u001b[0m\u001b[0mi\u001b[0m\u001b[0;34m]\u001b[0m\u001b[0;34m=\u001b[0m\u001b[0mcorpus\u001b[0m\u001b[0;34m[\u001b[0m\u001b[0mi\u001b[0m\u001b[0;34m]\u001b[0m\u001b[0;34m\u001b[0m\u001b[0;34m\u001b[0m\u001b[0m\n\u001b[0m\u001b[1;32m      3\u001b[0m \u001b[0mdfdr\u001b[0m\u001b[0;34m.\u001b[0m\u001b[0mhead\u001b[0m\u001b[0;34m(\u001b[0m\u001b[0;36m5\u001b[0m\u001b[0;34m)\u001b[0m\u001b[0;34m\u001b[0m\u001b[0;34m\u001b[0m\u001b[0m\n",
            "\u001b[0;32m/usr/local/lib/python3.6/dist-packages/pandas/core/series.py\u001b[0m in \u001b[0;36m__setitem__\u001b[0;34m(self, key, value)\u001b[0m\n\u001b[1;32m   1036\u001b[0m \u001b[0;34m\u001b[0m\u001b[0m\n\u001b[1;32m   1037\u001b[0m         \u001b[0;31m# do the setitem\u001b[0m\u001b[0;34m\u001b[0m\u001b[0;34m\u001b[0m\u001b[0;34m\u001b[0m\u001b[0m\n\u001b[0;32m-> 1038\u001b[0;31m         \u001b[0mcacher_needs_updating\u001b[0m \u001b[0;34m=\u001b[0m \u001b[0mself\u001b[0m\u001b[0;34m.\u001b[0m\u001b[0m_check_is_chained_assignment_possible\u001b[0m\u001b[0;34m(\u001b[0m\u001b[0;34m)\u001b[0m\u001b[0;34m\u001b[0m\u001b[0;34m\u001b[0m\u001b[0m\n\u001b[0m\u001b[1;32m   1039\u001b[0m         \u001b[0msetitem\u001b[0m\u001b[0;34m(\u001b[0m\u001b[0mkey\u001b[0m\u001b[0;34m,\u001b[0m \u001b[0mvalue\u001b[0m\u001b[0;34m)\u001b[0m\u001b[0;34m\u001b[0m\u001b[0;34m\u001b[0m\u001b[0m\n\u001b[1;32m   1040\u001b[0m         \u001b[0;32mif\u001b[0m \u001b[0mcacher_needs_updating\u001b[0m\u001b[0;34m:\u001b[0m\u001b[0;34m\u001b[0m\u001b[0;34m\u001b[0m\u001b[0m\n",
            "\u001b[0;32m/usr/local/lib/python3.6/dist-packages/pandas/core/generic.py\u001b[0m in \u001b[0;36m_check_is_chained_assignment_possible\u001b[0;34m(self)\u001b[0m\n\u001b[1;32m   3197\u001b[0m             \u001b[0;32mif\u001b[0m \u001b[0mref\u001b[0m \u001b[0;32mis\u001b[0m \u001b[0;32mnot\u001b[0m \u001b[0;32mNone\u001b[0m \u001b[0;32mand\u001b[0m \u001b[0mref\u001b[0m\u001b[0;34m.\u001b[0m\u001b[0m_is_mixed_type\u001b[0m\u001b[0;34m:\u001b[0m\u001b[0;34m\u001b[0m\u001b[0;34m\u001b[0m\u001b[0m\n\u001b[1;32m   3198\u001b[0m                 self._check_setitem_copy(stacklevel=4, t='referant',\n\u001b[0;32m-> 3199\u001b[0;31m                                          force=True)\n\u001b[0m\u001b[1;32m   3200\u001b[0m             \u001b[0;32mreturn\u001b[0m \u001b[0;32mTrue\u001b[0m\u001b[0;34m\u001b[0m\u001b[0;34m\u001b[0m\u001b[0m\n\u001b[1;32m   3201\u001b[0m         \u001b[0;32melif\u001b[0m \u001b[0mself\u001b[0m\u001b[0;34m.\u001b[0m\u001b[0m_is_copy\u001b[0m\u001b[0;34m:\u001b[0m\u001b[0;34m\u001b[0m\u001b[0;34m\u001b[0m\u001b[0m\n",
            "\u001b[0;32m/usr/local/lib/python3.6/dist-packages/pandas/core/generic.py\u001b[0m in \u001b[0;36m_check_setitem_copy\u001b[0;34m(self, stacklevel, t, force)\u001b[0m\n\u001b[1;32m   3243\u001b[0m             \u001b[0;31m# the copy weakref\u001b[0m\u001b[0;34m\u001b[0m\u001b[0;34m\u001b[0m\u001b[0;34m\u001b[0m\u001b[0m\n\u001b[1;32m   3244\u001b[0m             \u001b[0;32mtry\u001b[0m\u001b[0;34m:\u001b[0m\u001b[0;34m\u001b[0m\u001b[0;34m\u001b[0m\u001b[0m\n\u001b[0;32m-> 3245\u001b[0;31m                 \u001b[0mgc\u001b[0m\u001b[0;34m.\u001b[0m\u001b[0mcollect\u001b[0m\u001b[0;34m(\u001b[0m\u001b[0;36m2\u001b[0m\u001b[0;34m)\u001b[0m\u001b[0;34m\u001b[0m\u001b[0;34m\u001b[0m\u001b[0m\n\u001b[0m\u001b[1;32m   3246\u001b[0m                 \u001b[0;32mif\u001b[0m \u001b[0;32mnot\u001b[0m \u001b[0mgc\u001b[0m\u001b[0;34m.\u001b[0m\u001b[0mget_referents\u001b[0m\u001b[0;34m(\u001b[0m\u001b[0mself\u001b[0m\u001b[0;34m.\u001b[0m\u001b[0m_is_copy\u001b[0m\u001b[0;34m(\u001b[0m\u001b[0;34m)\u001b[0m\u001b[0;34m)\u001b[0m\u001b[0;34m:\u001b[0m\u001b[0;34m\u001b[0m\u001b[0;34m\u001b[0m\u001b[0m\n\u001b[1;32m   3247\u001b[0m                     \u001b[0mself\u001b[0m\u001b[0;34m.\u001b[0m\u001b[0m_is_copy\u001b[0m \u001b[0;34m=\u001b[0m \u001b[0;32mNone\u001b[0m\u001b[0;34m\u001b[0m\u001b[0;34m\u001b[0m\u001b[0m\n",
            "\u001b[0;31mKeyboardInterrupt\u001b[0m: "
          ]
        }
      ]
    },
    {
      "cell_type": "code",
      "metadata": {
        "id": "m_G_ekYWyaQd",
        "colab_type": "code",
        "colab": {
          "base_uri": "https://localhost:8080/",
          "height": 297
        },
        "outputId": "33cbd297-56b9-4499-faff-bbffd8f0c0fa"
      },
      "source": [
        "dfdr.describe()"
      ],
      "execution_count": 21,
      "outputs": [
        {
          "output_type": "execute_result",
          "data": {
            "text/html": [
              "<div>\n",
              "<style scoped>\n",
              "    .dataframe tbody tr th:only-of-type {\n",
              "        vertical-align: middle;\n",
              "    }\n",
              "\n",
              "    .dataframe tbody tr th {\n",
              "        vertical-align: top;\n",
              "    }\n",
              "\n",
              "    .dataframe thead th {\n",
              "        text-align: right;\n",
              "    }\n",
              "</style>\n",
              "<table border=\"1\" class=\"dataframe\">\n",
              "  <thead>\n",
              "    <tr style=\"text-align: right;\">\n",
              "      <th></th>\n",
              "      <th>abstract_length</th>\n",
              "    </tr>\n",
              "  </thead>\n",
              "  <tbody>\n",
              "    <tr>\n",
              "      <th>count</th>\n",
              "      <td>41000.000000</td>\n",
              "    </tr>\n",
              "    <tr>\n",
              "      <th>mean</th>\n",
              "      <td>92.705195</td>\n",
              "    </tr>\n",
              "    <tr>\n",
              "      <th>std</th>\n",
              "      <td>32.905281</td>\n",
              "    </tr>\n",
              "    <tr>\n",
              "      <th>min</th>\n",
              "      <td>2.000000</td>\n",
              "    </tr>\n",
              "    <tr>\n",
              "      <th>25%</th>\n",
              "      <td>69.000000</td>\n",
              "    </tr>\n",
              "    <tr>\n",
              "      <th>50%</th>\n",
              "      <td>90.000000</td>\n",
              "    </tr>\n",
              "    <tr>\n",
              "      <th>75%</th>\n",
              "      <td>114.000000</td>\n",
              "    </tr>\n",
              "    <tr>\n",
              "      <th>max</th>\n",
              "      <td>312.000000</td>\n",
              "    </tr>\n",
              "  </tbody>\n",
              "</table>\n",
              "</div>"
            ],
            "text/plain": [
              "       abstract_length\n",
              "count     41000.000000\n",
              "mean         92.705195\n",
              "std          32.905281\n",
              "min           2.000000\n",
              "25%          69.000000\n",
              "50%          90.000000\n",
              "75%         114.000000\n",
              "max         312.000000"
            ]
          },
          "metadata": {
            "tags": []
          },
          "execution_count": 21
        }
      ]
    },
    {
      "cell_type": "code",
      "metadata": {
        "id": "569N0jepyq4x",
        "colab_type": "code",
        "colab": {
          "base_uri": "https://localhost:8080/",
          "height": 286
        },
        "outputId": "6af705c1-99f4-4317-b739-9565126a235e"
      },
      "source": [
        "dfdr['abstract_length'].plot.hist(bins=30)"
      ],
      "execution_count": 22,
      "outputs": [
        {
          "output_type": "execute_result",
          "data": {
            "text/plain": [
              "<matplotlib.axes._subplots.AxesSubplot at 0x7ff68d153240>"
            ]
          },
          "metadata": {
            "tags": []
          },
          "execution_count": 22
        },
        {
          "output_type": "display_data",
          "data": {
            "image/png": "[encoded data removed]",
            "text/plain": [
              "<Figure size 432x288 with 1 Axes>"
            ]
          },
          "metadata": {
            "tags": []
          }
        }
      ]
    },
    {
      "cell_type": "code",
      "metadata": {
        "id": "MEHj_sUuznCZ",
        "colab_type": "code",
        "colab": {
          "base_uri": "https://localhost:8080/",
          "height": 296
        },
        "outputId": "3b00ed2e-4395-4c65-9c87-55581d936332"
      },
      "source": [
        "plt.scatter(dfdr.index, dfdr['abstract_length'])\n",
        "plt.title('Scatter plot')\n",
        "plt.xlabel('paper_id')\n",
        "plt.ylabel('abstract_length')\n",
        "plt.show()"
      ],
      "execution_count": 23,
      "outputs": [
        {
          "output_type": "display_data",
          "data": {
            "image/png": "[encoded data removed]",
            "text/plain": [
              "<Figure size 432x288 with 1 Axes>"
            ]
          },
          "metadata": {
            "tags": []
          }
        }
      ]
    }
  ]
}