{
  "nbformat": 4,
  "nbformat_minor": 0,
  "metadata": {
    "colab": {
      "name": "Taller de clasificación",
      "provenance": [],
      "collapsed_sections": []
    },
    "kernelspec": {
      "name": "python3",
      "display_name": "Python 3"
    }
  },
  "cells": [
    {
      "cell_type": "markdown",
      "metadata": {
        "id": "ByRwCJQ2FQL6",
        "colab_type": "text"
      },
      "source": [
        "# TALLER DE CLASIFICACIÓN\n",
        "Por: Jairo Castrellón Torres, Estudiante de la maestría en estadística\n"
      ]
    },
    {
      "cell_type": "markdown",
      "metadata": {
        "id": "_qrpAyyiFd8D",
        "colab_type": "text"
      },
      "source": [
        "## BAYES\n",
        "\n",
        "**1)** Crear un modelo usando Naive Bayes a un conjunto de datos categórico.\n",
        "\n",
        "     a) Realizar una partición del conjunto de datos, usando muestreo estratificado: 70 % para entrenamiento y 30 % para test.\n",
        "     b) Entrenar el modelo\n",
        "     c) Aplicar el modelo al conjunto de test\n",
        "     d) Medir el desempeño del modelo calculando Matriz de confusión, Exactitud (Accuracy), Error de clasificación, Precisión (Precision), Índice de recuperación (Recall), Medida F1"
      ]
    },
    {
      "cell_type": "markdown",
      "metadata": {
        "id": "byMmWjRr6g4n",
        "colab_type": "text"
      },
      "source": [
        "Se instalan las librerias necesarias:"
      ]
    },
    {
      "cell_type": "code",
      "metadata": {
        "id": "_2WO7CqoZjN1",
        "colab_type": "code",
        "outputId": "ca00c33d-878c-4f85-d7aa-d1854f3ef019",
        "colab": {
          "base_uri": "https://localhost:8080/",
          "height": 221
        }
      },
      "source": [
        "!pip install scikit-plot"
      ],
      "execution_count": 1,
      "outputs": [
        {
          "output_type": "stream",
          "text": [
            "Requirement already satisfied: scikit-plot in /usr/local/lib/python3.6/dist-packages (0.3.7)\n",
            "Requirement already satisfied: matplotlib>=1.4.0 in /usr/local/lib/python3.6/dist-packages (from scikit-plot) (3.1.1)\n",
            "Requirement already satisfied: scipy>=0.9 in /usr/local/lib/python3.6/dist-packages (from scikit-plot) (1.3.2)\n",
            "Requirement already satisfied: joblib>=0.10 in /usr/local/lib/python3.6/dist-packages (from scikit-plot) (0.14.0)\n",
            "Requirement already satisfied: scikit-learn>=0.18 in /usr/local/lib/python3.6/dist-packages (from scikit-plot) (0.21.3)\n",
            "Requirement already satisfied: numpy>=1.11 in /usr/local/lib/python3.6/dist-packages (from matplotlib>=1.4.0->scikit-plot) (1.17.4)\n",
            "Requirement already satisfied: pyparsing!=2.0.4,!=2.1.2,!=2.1.6,>=2.0.1 in /usr/local/lib/python3.6/dist-packages (from matplotlib>=1.4.0->scikit-plot) (2.4.5)\n",
            "Requirement already satisfied: cycler>=0.10 in /usr/local/lib/python3.6/dist-packages (from matplotlib>=1.4.0->scikit-plot) (0.10.0)\n",
            "Requirement already satisfied: kiwisolver>=1.0.1 in /usr/local/lib/python3.6/dist-packages (from matplotlib>=1.4.0->scikit-plot) (1.1.0)\n",
            "Requirement already satisfied: python-dateutil>=2.1 in /usr/local/lib/python3.6/dist-packages (from matplotlib>=1.4.0->scikit-plot) (2.6.1)\n",
            "Requirement already satisfied: six in /usr/local/lib/python3.6/dist-packages (from cycler>=0.10->matplotlib>=1.4.0->scikit-plot) (1.12.0)\n",
            "Requirement already satisfied: setuptools in /usr/local/lib/python3.6/dist-packages (from kiwisolver>=1.0.1->matplotlib>=1.4.0->scikit-plot) (41.6.0)\n"
          ],
          "name": "stdout"
        }
      ]
    },
    {
      "cell_type": "code",
      "metadata": {
        "id": "UbMIth3yFeW2",
        "colab_type": "code",
        "colab": {}
      },
      "source": [
        "from sklearn import metrics\n",
        "import scikitplot as skplt\n",
        "from sklearn.naive_bayes import GaussianNB, MultinomialNB\n",
        "from sklearn.metrics import accuracy_score\n",
        "from sklearn.model_selection import train_test_split\n",
        "import numpy as np\n",
        "import pandas as pd"
      ],
      "execution_count": 0,
      "outputs": []
    },
    {
      "cell_type": "markdown",
      "metadata": {
        "id": "B23LkeS46oFW",
        "colab_type": "text"
      },
      "source": [
        "Se carga un conjunto de datos sobre el cancer de seno, con alguna información del tumor presente, y se quiere clasificar con base en el atributo \"irradiat\""
      ]
    },
    {
      "cell_type": "code",
      "metadata": {
        "id": "dw3cX5m2FeSo",
        "colab_type": "code",
        "outputId": "34aa7b46-2150-4673-f8cb-c25d4060347f",
        "colab": {
          "base_uri": "https://localhost:8080/",
          "height": 266
        }
      },
      "source": [
        "data = pd.read_csv('breast-cancer.csv', delimiter=',')\n",
        "data.tail(7)"
      ],
      "execution_count": 3,
      "outputs": [
        {
          "output_type": "execute_result",
          "data": {
            "text/html": [
              "<div>\n",
              "<style scoped>\n",
              "    .dataframe tbody tr th:only-of-type {\n",
              "        vertical-align: middle;\n",
              "    }\n",
              "\n",
              "    .dataframe tbody tr th {\n",
              "        vertical-align: top;\n",
              "    }\n",
              "\n",
              "    .dataframe thead th {\n",
              "        text-align: right;\n",
              "    }\n",
              "</style>\n",
              "<table border=\"1\" class=\"dataframe\">\n",
              "  <thead>\n",
              "    <tr style=\"text-align: right;\">\n",
              "      <th></th>\n",
              "      <th>class</th>\n",
              "      <th>age</th>\n",
              "      <th>menopause</th>\n",
              "      <th>tumor-size</th>\n",
              "      <th>inv-nodes</th>\n",
              "      <th>node-caps</th>\n",
              "      <th>deg-malig</th>\n",
              "      <th>breast</th>\n",
              "      <th>breast-quad</th>\n",
              "      <th>irradiat</th>\n",
              "    </tr>\n",
              "  </thead>\n",
              "  <tbody>\n",
              "    <tr>\n",
              "      <th>279</th>\n",
              "      <td>recurrence-events</td>\n",
              "      <td>50-59</td>\n",
              "      <td>ge40</td>\n",
              "      <td>40-44</td>\n",
              "      <td>6-8</td>\n",
              "      <td>yes</td>\n",
              "      <td>3</td>\n",
              "      <td>left</td>\n",
              "      <td>left_low</td>\n",
              "      <td>yes</td>\n",
              "    </tr>\n",
              "    <tr>\n",
              "      <th>280</th>\n",
              "      <td>recurrence-events</td>\n",
              "      <td>50-59</td>\n",
              "      <td>ge40</td>\n",
              "      <td>40-44</td>\n",
              "      <td>6-8</td>\n",
              "      <td>yes</td>\n",
              "      <td>3</td>\n",
              "      <td>left</td>\n",
              "      <td>left_low</td>\n",
              "      <td>yes</td>\n",
              "    </tr>\n",
              "    <tr>\n",
              "      <th>281</th>\n",
              "      <td>recurrence-events</td>\n",
              "      <td>30-39</td>\n",
              "      <td>premeno</td>\n",
              "      <td>30-34</td>\n",
              "      <td>0-2</td>\n",
              "      <td>no</td>\n",
              "      <td>2</td>\n",
              "      <td>left</td>\n",
              "      <td>left_up</td>\n",
              "      <td>no</td>\n",
              "    </tr>\n",
              "    <tr>\n",
              "      <th>282</th>\n",
              "      <td>recurrence-events</td>\n",
              "      <td>30-39</td>\n",
              "      <td>premeno</td>\n",
              "      <td>20-24</td>\n",
              "      <td>0-2</td>\n",
              "      <td>no</td>\n",
              "      <td>3</td>\n",
              "      <td>left</td>\n",
              "      <td>left_up</td>\n",
              "      <td>yes</td>\n",
              "    </tr>\n",
              "    <tr>\n",
              "      <th>283</th>\n",
              "      <td>recurrence-events</td>\n",
              "      <td>60-69</td>\n",
              "      <td>ge40</td>\n",
              "      <td>20-24</td>\n",
              "      <td>0-2</td>\n",
              "      <td>no</td>\n",
              "      <td>1</td>\n",
              "      <td>right</td>\n",
              "      <td>left_up</td>\n",
              "      <td>no</td>\n",
              "    </tr>\n",
              "    <tr>\n",
              "      <th>284</th>\n",
              "      <td>recurrence-events</td>\n",
              "      <td>40-49</td>\n",
              "      <td>ge40</td>\n",
              "      <td>30-34</td>\n",
              "      <td>3-5</td>\n",
              "      <td>no</td>\n",
              "      <td>3</td>\n",
              "      <td>left</td>\n",
              "      <td>left_low</td>\n",
              "      <td>no</td>\n",
              "    </tr>\n",
              "    <tr>\n",
              "      <th>285</th>\n",
              "      <td>recurrence-events</td>\n",
              "      <td>50-59</td>\n",
              "      <td>ge40</td>\n",
              "      <td>30-34</td>\n",
              "      <td>3-5</td>\n",
              "      <td>no</td>\n",
              "      <td>3</td>\n",
              "      <td>left</td>\n",
              "      <td>left_low</td>\n",
              "      <td>no</td>\n",
              "    </tr>\n",
              "  </tbody>\n",
              "</table>\n",
              "</div>"
            ],
            "text/plain": [
              "                 class    age menopause  ... breast breast-quad irradiat\n",
              "279  recurrence-events  50-59      ge40  ...   left    left_low      yes\n",
              "280  recurrence-events  50-59      ge40  ...   left    left_low      yes\n",
              "281  recurrence-events  30-39   premeno  ...   left     left_up       no\n",
              "282  recurrence-events  30-39   premeno  ...   left     left_up      yes\n",
              "283  recurrence-events  60-69      ge40  ...  right     left_up       no\n",
              "284  recurrence-events  40-49      ge40  ...   left    left_low       no\n",
              "285  recurrence-events  50-59      ge40  ...   left    left_low       no\n",
              "\n",
              "[7 rows x 10 columns]"
            ]
          },
          "metadata": {
            "tags": []
          },
          "execution_count": 3
        }
      ]
    },
    {
      "cell_type": "markdown",
      "metadata": {
        "id": "eplDTALJ665k",
        "colab_type": "text"
      },
      "source": [
        "Para esto, es necesario discretizar algunos de los atributos que se presentan de manera ordinal:"
      ]
    },
    {
      "cell_type": "code",
      "metadata": {
        "id": "LZQFMG76Es2r",
        "colab_type": "code",
        "colab": {}
      },
      "source": [
        "def discrt(x):\n",
        "  z=np.zeros(len(x))\n",
        "  y=x.value_counts()\n",
        "  for j in range(0,len(y)):\n",
        "    for i in range(0,len(x)):\n",
        "      if x[i]== y.index[j]:\n",
        "        z[i]=j\n",
        "  return z\n"
      ],
      "execution_count": 0,
      "outputs": []
    },
    {
      "cell_type": "code",
      "metadata": {
        "id": "hAwmHEwzHMVQ",
        "colab_type": "code",
        "colab": {}
      },
      "source": [
        "data['class']=discrt(data['class'])\n",
        "data['age']=discrt(data['age'])\n",
        "data['menopause']=discrt(data['menopause'])\n",
        "data['tumor-size']=discrt(data['tumor-size'])\n",
        "data['inv-nodes']=discrt(data['inv-nodes'])\n",
        "data['node-caps']=discrt(data['node-caps'])\n",
        "data['breast']=discrt(data['breast'])\n",
        "data['breast-quad']=discrt(data['breast-quad'])\n",
        "data['irradiat']=discrt(data['irradiat'])\n",
        "\n",
        "data=np.array(data)\n",
        "X = data[:,:9]\n",
        "Y = data[:,9:]"
      ],
      "execution_count": 0,
      "outputs": []
    },
    {
      "cell_type": "markdown",
      "metadata": {
        "id": "JTcpoZp17Pin",
        "colab_type": "text"
      },
      "source": [
        "Posteriormente, se divide el conjunto de datos en los datos de entrenamiento y los datos de prueba, de manera que en proporción se tiene un 70%-30% respectivamente:"
      ]
    },
    {
      "cell_type": "code",
      "metadata": {
        "id": "VVtnibcmjsca",
        "colab_type": "code",
        "colab": {}
      },
      "source": [
        "x_train, x_test, y_train, y_test = train_test_split(X, Y, test_size=.3, random_state=5)"
      ],
      "execution_count": 0,
      "outputs": []
    },
    {
      "cell_type": "code",
      "metadata": {
        "id": "AGU4DhPsjzg6",
        "colab_type": "code",
        "outputId": "3138cd13-1fbf-4b8d-de9e-e9a76b04ab6c",
        "colab": {
          "base_uri": "https://localhost:8080/",
          "height": 34
        }
      },
      "source": [
        "clf = MultinomialNB()\n",
        "clf.fit(x_train, y_train.flatten())"
      ],
      "execution_count": 7,
      "outputs": [
        {
          "output_type": "execute_result",
          "data": {
            "text/plain": [
              "MultinomialNB(alpha=1.0, class_prior=None, fit_prior=True)"
            ]
          },
          "metadata": {
            "tags": []
          },
          "execution_count": 7
        }
      ]
    },
    {
      "cell_type": "code",
      "metadata": {
        "id": "sJOMYFD1OGZ8",
        "colab_type": "code",
        "outputId": "b3f22a5c-df0e-449f-fd2c-a7a528a9dc57",
        "colab": {
          "base_uri": "https://localhost:8080/",
          "height": 34
        }
      },
      "source": [
        "predictions = clf.predict(x_test)\n",
        "print('Accuracy Score: ', accuracy_score(predictions, y_test))"
      ],
      "execution_count": 8,
      "outputs": [
        {
          "output_type": "stream",
          "text": [
            "Accuracy Score:  0.8023255813953488\n"
          ],
          "name": "stdout"
        }
      ]
    },
    {
      "cell_type": "markdown",
      "metadata": {
        "id": "gAZH68Xo7dTc",
        "colab_type": "text"
      },
      "source": [
        "Con base en lo anterior se ve que el clasificador acertó en un 80,23% de los datos. A continuación se presenta la matriz de confusión:"
      ]
    },
    {
      "cell_type": "code",
      "metadata": {
        "id": "SOJd-JBYYJ9F",
        "colab_type": "code",
        "outputId": "05c8745d-1c50-4e61-9323-36a107feadb4",
        "colab": {
          "base_uri": "https://localhost:8080/",
          "height": 436
        }
      },
      "source": [
        "print('Accuracy DT', metrics.accuracy_score(y_test, predictions))\n",
        "\n",
        "print('Metricas DT\\n', metrics.classification_report(y_test, predictions)) \n",
        "\n",
        "plot = skplt.metrics.plot_confusion_matrix(y_test, predictions,normalize=True,title='Confusion Matrix')"
      ],
      "execution_count": 9,
      "outputs": [
        {
          "output_type": "stream",
          "text": [
            "Accuracy DT 0.8023255813953488\n",
            "Metricas DT\n",
            "               precision    recall  f1-score   support\n",
            "\n",
            "         0.0       0.83      0.92      0.87        63\n",
            "         1.0       0.69      0.48      0.56        23\n",
            "\n",
            "    accuracy                           0.80        86\n",
            "   macro avg       0.76      0.70      0.72        86\n",
            "weighted avg       0.79      0.80      0.79        86\n",
            "\n"
          ],
          "name": "stdout"
        },
        {
          "output_type": "display_data",
          "data": {
            "image/png": "[encoded data removed]",
            "text/plain": [
              "<Figure size 432x288 with 2 Axes>"
            ]
          },
          "metadata": {
            "tags": []
          }
        }
      ]
    },
    {
      "cell_type": "markdown",
      "metadata": {
        "id": "zzHy4C_4cVOa",
        "colab_type": "text"
      },
      "source": [
        "**2)** Crear un modelo usando Naive Bayes al conjunto de datos de IRIS.\n",
        "\n",
        "     a) Realizar una partición del conjunto de datos, usando muestreo estratificado: 70 % para entrenamiento y 30 % para test.\n",
        "     b) Entrenar el modelo\n",
        "     c) Aplicar el modelo al conjunto de test\n",
        "     d) Medir el desempeño del modelo calculando Matriz de confusión, Exactitud (Accuracy), Error de clasificación, Precisión (Precision), Índice de Recuperación (Recall), Medida F1"
      ]
    },
    {
      "cell_type": "markdown",
      "metadata": {
        "id": "esRLCbmF7ru5",
        "colab_type": "text"
      },
      "source": [
        "Se carga el conjunto de datos iris:"
      ]
    },
    {
      "cell_type": "code",
      "metadata": {
        "id": "nt829a1zdJev",
        "colab_type": "code",
        "outputId": "8baafd1b-0d64-4e11-8917-a0e4db98dca4",
        "colab": {
          "base_uri": "https://localhost:8080/",
          "height": 266
        }
      },
      "source": [
        "iris = pd.read_csv('iris.csv', delimiter=',',header=None)\n",
        "iris.tail(7)"
      ],
      "execution_count": 10,
      "outputs": [
        {
          "output_type": "execute_result",
          "data": {
            "text/html": [
              "<div>\n",
              "<style scoped>\n",
              "    .dataframe tbody tr th:only-of-type {\n",
              "        vertical-align: middle;\n",
              "    }\n",
              "\n",
              "    .dataframe tbody tr th {\n",
              "        vertical-align: top;\n",
              "    }\n",
              "\n",
              "    .dataframe thead th {\n",
              "        text-align: right;\n",
              "    }\n",
              "</style>\n",
              "<table border=\"1\" class=\"dataframe\">\n",
              "  <thead>\n",
              "    <tr style=\"text-align: right;\">\n",
              "      <th></th>\n",
              "      <th>0</th>\n",
              "      <th>1</th>\n",
              "      <th>2</th>\n",
              "      <th>3</th>\n",
              "      <th>4</th>\n",
              "    </tr>\n",
              "  </thead>\n",
              "  <tbody>\n",
              "    <tr>\n",
              "      <th>143</th>\n",
              "      <td>6.8</td>\n",
              "      <td>3.2</td>\n",
              "      <td>5.9</td>\n",
              "      <td>2.3</td>\n",
              "      <td>Iris-virginica</td>\n",
              "    </tr>\n",
              "    <tr>\n",
              "      <th>144</th>\n",
              "      <td>6.7</td>\n",
              "      <td>3.3</td>\n",
              "      <td>5.7</td>\n",
              "      <td>2.5</td>\n",
              "      <td>Iris-virginica</td>\n",
              "    </tr>\n",
              "    <tr>\n",
              "      <th>145</th>\n",
              "      <td>6.7</td>\n",
              "      <td>3.0</td>\n",
              "      <td>5.2</td>\n",
              "      <td>2.3</td>\n",
              "      <td>Iris-virginica</td>\n",
              "    </tr>\n",
              "    <tr>\n",
              "      <th>146</th>\n",
              "      <td>6.3</td>\n",
              "      <td>2.5</td>\n",
              "      <td>5.0</td>\n",
              "      <td>1.9</td>\n",
              "      <td>Iris-virginica</td>\n",
              "    </tr>\n",
              "    <tr>\n",
              "      <th>147</th>\n",
              "      <td>6.5</td>\n",
              "      <td>3.0</td>\n",
              "      <td>5.2</td>\n",
              "      <td>2.0</td>\n",
              "      <td>Iris-virginica</td>\n",
              "    </tr>\n",
              "    <tr>\n",
              "      <th>148</th>\n",
              "      <td>6.2</td>\n",
              "      <td>3.4</td>\n",
              "      <td>5.4</td>\n",
              "      <td>2.3</td>\n",
              "      <td>Iris-virginica</td>\n",
              "    </tr>\n",
              "    <tr>\n",
              "      <th>149</th>\n",
              "      <td>5.9</td>\n",
              "      <td>3.0</td>\n",
              "      <td>5.1</td>\n",
              "      <td>1.8</td>\n",
              "      <td>Iris-virginica</td>\n",
              "    </tr>\n",
              "  </tbody>\n",
              "</table>\n",
              "</div>"
            ],
            "text/plain": [
              "       0    1    2    3               4\n",
              "143  6.8  3.2  5.9  2.3  Iris-virginica\n",
              "144  6.7  3.3  5.7  2.5  Iris-virginica\n",
              "145  6.7  3.0  5.2  2.3  Iris-virginica\n",
              "146  6.3  2.5  5.0  1.9  Iris-virginica\n",
              "147  6.5  3.0  5.2  2.0  Iris-virginica\n",
              "148  6.2  3.4  5.4  2.3  Iris-virginica\n",
              "149  5.9  3.0  5.1  1.8  Iris-virginica"
            ]
          },
          "metadata": {
            "tags": []
          },
          "execution_count": 10
        }
      ]
    },
    {
      "cell_type": "code",
      "metadata": {
        "id": "rEUPMI4edRMR",
        "colab_type": "code",
        "colab": {}
      },
      "source": [
        "iris=np.array(iris)\n",
        "X = iris[:,:4]\n",
        "Y = iris[:,4:]"
      ],
      "execution_count": 0,
      "outputs": []
    },
    {
      "cell_type": "markdown",
      "metadata": {
        "id": "h3mMt3HN7vVh",
        "colab_type": "text"
      },
      "source": [
        "Se hace la partición de los datos 70%-30% para los datos de entrenamiento y de prueba respectivamente:"
      ]
    },
    {
      "cell_type": "code",
      "metadata": {
        "id": "iIRzuVAKdygq",
        "colab_type": "code",
        "colab": {}
      },
      "source": [
        "x_train, x_test, y_train, y_test = train_test_split(X, Y, test_size=.3, random_state=5)"
      ],
      "execution_count": 0,
      "outputs": []
    },
    {
      "cell_type": "code",
      "metadata": {
        "id": "Ba6mqn7Ad0GT",
        "colab_type": "code",
        "outputId": "e75ea7fb-cbbe-4cbe-b602-37619b935e2a",
        "colab": {
          "base_uri": "https://localhost:8080/",
          "height": 34
        }
      },
      "source": [
        "clf = GaussianNB()\n",
        "clf.fit(x_train, y_train.flatten())"
      ],
      "execution_count": 13,
      "outputs": [
        {
          "output_type": "execute_result",
          "data": {
            "text/plain": [
              "GaussianNB(priors=None, var_smoothing=1e-09)"
            ]
          },
          "metadata": {
            "tags": []
          },
          "execution_count": 13
        }
      ]
    },
    {
      "cell_type": "code",
      "metadata": {
        "id": "pZBC7rEaeCCz",
        "colab_type": "code",
        "outputId": "cd3505b1-8c9d-461c-f0c0-e5d3e3debcbe",
        "colab": {
          "base_uri": "https://localhost:8080/",
          "height": 34
        }
      },
      "source": [
        "predictions = clf.predict(x_test)\n",
        "print('Accuracy Score: ', accuracy_score(predictions, y_test))"
      ],
      "execution_count": 14,
      "outputs": [
        {
          "output_type": "stream",
          "text": [
            "Accuracy Score:  0.9333333333333333\n"
          ],
          "name": "stdout"
        }
      ]
    },
    {
      "cell_type": "markdown",
      "metadata": {
        "id": "995rGMRg77w4",
        "colab_type": "text"
      },
      "source": [
        "obteniendo un acierto en el 93% de los datos de prueba en su clasificación. Y se presenta la matríz de confusión como sigue:"
      ]
    },
    {
      "cell_type": "code",
      "metadata": {
        "id": "BC0gNSZfeHcF",
        "colab_type": "code",
        "outputId": "674c2975-313b-4ccf-994f-4dfbe360f867",
        "colab": {
          "base_uri": "https://localhost:8080/",
          "height": 468
        }
      },
      "source": [
        "print('Accuracy DT', metrics.accuracy_score(y_test, predictions))\n",
        "\n",
        "print('Metricas DT\\n', metrics.classification_report(y_test, predictions)) \n",
        "\n",
        "plot = skplt.metrics.plot_confusion_matrix(y_test, predictions,normalize=True,title='Confusion Matrix')"
      ],
      "execution_count": 15,
      "outputs": [
        {
          "output_type": "stream",
          "text": [
            "Accuracy DT 0.9333333333333333\n",
            "Metricas DT\n",
            "                  precision    recall  f1-score   support\n",
            "\n",
            "    Iris-setosa       1.00      1.00      1.00        15\n",
            "Iris-versicolor       0.88      0.94      0.91        16\n",
            " Iris-virginica       0.92      0.86      0.89        14\n",
            "\n",
            "       accuracy                           0.93        45\n",
            "      macro avg       0.94      0.93      0.93        45\n",
            "   weighted avg       0.93      0.93      0.93        45\n",
            "\n"
          ],
          "name": "stdout"
        },
        {
          "output_type": "display_data",
          "data": {
            "image/png": "[encoded data removed]",
            "text/plain": [
              "<Figure size 432x288 with 2 Axes>"
            ]
          },
          "metadata": {
            "tags": []
          }
        }
      ]
    },
    {
      "cell_type": "markdown",
      "metadata": {
        "id": "SPBx-TVhkzis",
        "colab_type": "text"
      },
      "source": [
        "____________________________"
      ]
    },
    {
      "cell_type": "markdown",
      "metadata": {
        "id": "Q4ea7Drzk0zn",
        "colab_type": "text"
      },
      "source": [
        "## ARBOL DE DECISION"
      ]
    },
    {
      "cell_type": "markdown",
      "metadata": {
        "id": "MTVWO42YuJzu",
        "colab_type": "text"
      },
      "source": [
        "**1)** Descargar el conjunto de datos nba.txt . Leer la descripción del conjunto de datos en la cabecera del archivo."
      ]
    },
    {
      "cell_type": "markdown",
      "metadata": {
        "id": "aJfhGe93uVJm",
        "colab_type": "text"
      },
      "source": [
        "**2)** Carguar el conjunto de datos en Weka, RapidMiner o python."
      ]
    },
    {
      "cell_type": "code",
      "metadata": {
        "id": "uPR5qvGiuR9W",
        "colab_type": "code",
        "colab": {
          "base_uri": "https://localhost:8080/",
          "height": 204
        },
        "outputId": "eab98bc1-5bf1-416c-9e8d-11e929a5b2e5"
      },
      "source": [
        "df = pd.read_csv(\"nba.csv\")\n",
        "df.head(5)"
      ],
      "execution_count": 16,
      "outputs": [
        {
          "output_type": "execute_result",
          "data": {
            "text/html": [
              "<div>\n",
              "<style scoped>\n",
              "    .dataframe tbody tr th:only-of-type {\n",
              "        vertical-align: middle;\n",
              "    }\n",
              "\n",
              "    .dataframe tbody tr th {\n",
              "        vertical-align: top;\n",
              "    }\n",
              "\n",
              "    .dataframe thead th {\n",
              "        text-align: right;\n",
              "    }\n",
              "</style>\n",
              "<table border=\"1\" class=\"dataframe\">\n",
              "  <thead>\n",
              "    <tr style=\"text-align: right;\">\n",
              "      <th></th>\n",
              "      <th>G</th>\n",
              "      <th>GS</th>\n",
              "      <th>MPG</th>\n",
              "      <th>FG%</th>\n",
              "      <th>3p%</th>\n",
              "      <th>FT%</th>\n",
              "      <th>OFF</th>\n",
              "      <th>DEF</th>\n",
              "      <th>RPG</th>\n",
              "      <th>APG</th>\n",
              "      <th>SPG</th>\n",
              "      <th>BPG</th>\n",
              "      <th>TO</th>\n",
              "      <th>PF</th>\n",
              "      <th>PPG</th>\n",
              "      <th>Class</th>\n",
              "    </tr>\n",
              "  </thead>\n",
              "  <tbody>\n",
              "    <tr>\n",
              "      <th>0</th>\n",
              "      <td>362</td>\n",
              "      <td>223</td>\n",
              "      <td>24.4</td>\n",
              "      <td>0.466</td>\n",
              "      <td>0.405</td>\n",
              "      <td>0.800</td>\n",
              "      <td>0.6</td>\n",
              "      <td>2.1</td>\n",
              "      <td>2.7</td>\n",
              "      <td>1.5</td>\n",
              "      <td>0.5</td>\n",
              "      <td>0.3</td>\n",
              "      <td>0.8</td>\n",
              "      <td>2.0</td>\n",
              "      <td>8.8</td>\n",
              "      <td>1</td>\n",
              "    </tr>\n",
              "    <tr>\n",
              "      <th>1</th>\n",
              "      <td>19</td>\n",
              "      <td>0</td>\n",
              "      <td>11.9</td>\n",
              "      <td>0.273</td>\n",
              "      <td>0.298</td>\n",
              "      <td>0.970</td>\n",
              "      <td>0.1</td>\n",
              "      <td>1.1</td>\n",
              "      <td>1.2</td>\n",
              "      <td>1.2</td>\n",
              "      <td>0.4</td>\n",
              "      <td>0.0</td>\n",
              "      <td>1.2</td>\n",
              "      <td>1.4</td>\n",
              "      <td>4.6</td>\n",
              "      <td>1</td>\n",
              "    </tr>\n",
              "    <tr>\n",
              "      <th>2</th>\n",
              "      <td>1148</td>\n",
              "      <td>1140</td>\n",
              "      <td>36.9</td>\n",
              "      <td>0.452</td>\n",
              "      <td>0.400</td>\n",
              "      <td>0.894</td>\n",
              "      <td>1.0</td>\n",
              "      <td>3.2</td>\n",
              "      <td>4.2</td>\n",
              "      <td>3.6</td>\n",
              "      <td>1.2</td>\n",
              "      <td>0.2</td>\n",
              "      <td>2.2</td>\n",
              "      <td>2.3</td>\n",
              "      <td>20.0</td>\n",
              "      <td>1</td>\n",
              "    </tr>\n",
              "    <tr>\n",
              "      <th>3</th>\n",
              "      <td>466</td>\n",
              "      <td>170</td>\n",
              "      <td>19.8</td>\n",
              "      <td>0.482</td>\n",
              "      <td>0.284</td>\n",
              "      <td>0.745</td>\n",
              "      <td>0.9</td>\n",
              "      <td>1.9</td>\n",
              "      <td>2.8</td>\n",
              "      <td>1.3</td>\n",
              "      <td>1.2</td>\n",
              "      <td>0.4</td>\n",
              "      <td>1.4</td>\n",
              "      <td>2.2</td>\n",
              "      <td>7.8</td>\n",
              "      <td>1</td>\n",
              "    </tr>\n",
              "    <tr>\n",
              "      <th>4</th>\n",
              "      <td>38</td>\n",
              "      <td>1</td>\n",
              "      <td>9.5</td>\n",
              "      <td>0.381</td>\n",
              "      <td>0.292</td>\n",
              "      <td>0.743</td>\n",
              "      <td>0.3</td>\n",
              "      <td>0.9</td>\n",
              "      <td>1.2</td>\n",
              "      <td>0.3</td>\n",
              "      <td>0.3</td>\n",
              "      <td>0.1</td>\n",
              "      <td>0.5</td>\n",
              "      <td>1.1</td>\n",
              "      <td>3.1</td>\n",
              "      <td>1</td>\n",
              "    </tr>\n",
              "  </tbody>\n",
              "</table>\n",
              "</div>"
            ],
            "text/plain": [
              "      G    GS   MPG    FG%    3p%    FT%  ...  SPG  BPG   TO   PF   PPG  Class\n",
              "0   362   223  24.4  0.466  0.405  0.800  ...  0.5  0.3  0.8  2.0   8.8      1\n",
              "1    19     0  11.9  0.273  0.298  0.970  ...  0.4  0.0  1.2  1.4   4.6      1\n",
              "2  1148  1140  36.9  0.452  0.400  0.894  ...  1.2  0.2  2.2  2.3  20.0      1\n",
              "3   466   170  19.8  0.482  0.284  0.745  ...  1.2  0.4  1.4  2.2   7.8      1\n",
              "4    38     1   9.5  0.381  0.292  0.743  ...  0.3  0.1  0.5  1.1   3.1      1\n",
              "\n",
              "[5 rows x 16 columns]"
            ]
          },
          "metadata": {
            "tags": []
          },
          "execution_count": 16
        }
      ]
    },
    {
      "cell_type": "markdown",
      "metadata": {
        "id": "67wkpCxXlEDv",
        "colab_type": "text"
      },
      "source": [
        "**3)** Construir un modelo de clasificación usando un árbol de decisión:\n",
        "\n",
        "     a) Realizar una partición del conjunto de datos, usando muestreo estratificado: 70 % para entrenamiento y 30 % para test.\n",
        "     b) Entrenar el modelo\n",
        "     c) Aplicar el modelo al conjunto de test\n",
        "     d) Medir el desempeño del modelo calculando Matriz de confusión, Exactitud (Accuracy), Error de clasificación, Precisión (Precision), Índice de Recuperación (Recall), Medida F1 y Área bajo la curva ROC.\n",
        "     e) Interprete el modelo obtenido:\n",
        "        1) ¿Cuál el el atributo más discriminante? De una explicación a partir del conocimiento del problema.\n",
        "        2) Genere 3 diferentes reglas de clasificación a partir del árbol. Explíquelas."
      ]
    },
    {
      "cell_type": "markdown",
      "metadata": {
        "id": "0LLP3wWot5PR",
        "colab_type": "text"
      },
      "source": [
        "**a)**"
      ]
    },
    {
      "cell_type": "code",
      "metadata": {
        "id": "cVZdMkVkt2hv",
        "colab_type": "code",
        "colab": {}
      },
      "source": [
        "nba=np.array(df)\n",
        "X = nba[:,:15]\n",
        "Y = nba[:,15:]\n",
        "x_train, x_test, y_train, y_test = train_test_split(X, Y, test_size=.3, random_state=5)"
      ],
      "execution_count": 0,
      "outputs": []
    },
    {
      "cell_type": "markdown",
      "metadata": {
        "id": "jCj19-Icw1-Y",
        "colab_type": "text"
      },
      "source": [
        "**b)**"
      ]
    },
    {
      "cell_type": "code",
      "metadata": {
        "id": "DTWtSuejw1DG",
        "colab_type": "code",
        "colab": {}
      },
      "source": [
        "from sklearn.tree import DecisionTreeClassifier\n",
        "import graphviz\n",
        "from sklearn.tree import export_graphviz\n",
        "import matplotlib.pyplot as plt"
      ],
      "execution_count": 0,
      "outputs": []
    },
    {
      "cell_type": "code",
      "metadata": {
        "id": "74imxir9xANm",
        "colab_type": "code",
        "colab": {
          "base_uri": "https://localhost:8080/",
          "height": 119
        },
        "outputId": "dc2cc9e7-d6c7-433e-f14b-e971e1736a66"
      },
      "source": [
        "arbol=DecisionTreeClassifier()\n",
        "arbol.fit(x_train, y_train)"
      ],
      "execution_count": 19,
      "outputs": [
        {
          "output_type": "execute_result",
          "data": {
            "text/plain": [
              "DecisionTreeClassifier(class_weight=None, criterion='gini', max_depth=None,\n",
              "                       max_features=None, max_leaf_nodes=None,\n",
              "                       min_impurity_decrease=0.0, min_impurity_split=None,\n",
              "                       min_samples_leaf=1, min_samples_split=2,\n",
              "                       min_weight_fraction_leaf=0.0, presort=False,\n",
              "                       random_state=None, splitter='best')"
            ]
          },
          "metadata": {
            "tags": []
          },
          "execution_count": 19
        }
      ]
    },
    {
      "cell_type": "markdown",
      "metadata": {
        "id": "eRheg6R2xNEY",
        "colab_type": "text"
      },
      "source": [
        "**c)**"
      ]
    },
    {
      "cell_type": "code",
      "metadata": {
        "id": "v__1Sc7MxPm1",
        "colab_type": "code",
        "colab": {
          "base_uri": "https://localhost:8080/",
          "height": 34
        },
        "outputId": "f4bd0a13-d21a-4093-d4b8-11e7afd94646"
      },
      "source": [
        "arbol.score(x_test, y_test) "
      ],
      "execution_count": 20,
      "outputs": [
        {
          "output_type": "execute_result",
          "data": {
            "text/plain": [
              "0.9354838709677419"
            ]
          },
          "metadata": {
            "tags": []
          },
          "execution_count": 20
        }
      ]
    },
    {
      "cell_type": "code",
      "metadata": {
        "id": "Y1_0gZGixp61",
        "colab_type": "code",
        "colab": {
          "base_uri": "https://localhost:8080/",
          "height": 34
        },
        "outputId": "31b1fc5d-507b-4344-fff6-d3d8eac76973"
      },
      "source": [
        "predictions = arbol.predict(x_test)\n",
        "print('Accuracy Score: ', accuracy_score(predictions, y_test))"
      ],
      "execution_count": 21,
      "outputs": [
        {
          "output_type": "stream",
          "text": [
            "Accuracy Score:  0.9354838709677419\n"
          ],
          "name": "stdout"
        }
      ]
    },
    {
      "cell_type": "markdown",
      "metadata": {
        "id": "1lDRRuJ1xbL0",
        "colab_type": "text"
      },
      "source": [
        "**d)**"
      ]
    },
    {
      "cell_type": "code",
      "metadata": {
        "id": "GafWwz1gxgqu",
        "colab_type": "code",
        "colab": {
          "base_uri": "https://localhost:8080/",
          "height": 435
        },
        "outputId": "86fb9586-4d84-4bb1-c097-57115dc5c6b1"
      },
      "source": [
        "print('Accuracy DT', metrics.accuracy_score(y_test, predictions))\n",
        "\n",
        "print('Metricas DT\\n', metrics.classification_report(y_test, predictions)) \n",
        "\n",
        "plot = skplt.metrics.plot_confusion_matrix(y_test, predictions,normalize=True,title='Confusion Matrix')"
      ],
      "execution_count": 22,
      "outputs": [
        {
          "output_type": "stream",
          "text": [
            "Accuracy DT 0.9354838709677419\n",
            "Metricas DT\n",
            "               precision    recall  f1-score   support\n",
            "\n",
            "         1.0       0.96      0.93      0.95        56\n",
            "         2.0       0.90      0.95      0.92        37\n",
            "\n",
            "    accuracy                           0.94        93\n",
            "   macro avg       0.93      0.94      0.93        93\n",
            "weighted avg       0.94      0.94      0.94        93\n",
            "\n"
          ],
          "name": "stdout"
        },
        {
          "output_type": "display_data",
          "data": {
            "image/png": "[encoded data removed]",
            "text/plain": [
              "<Figure size 432x288 with 2 Axes>"
            ]
          },
          "metadata": {
            "tags": []
          }
        }
      ]
    },
    {
      "cell_type": "markdown",
      "metadata": {
        "id": "lL_Vi2bex-vq",
        "colab_type": "text"
      },
      "source": [
        "**e)** "
      ]
    },
    {
      "cell_type": "code",
      "metadata": {
        "id": "OSLp2TQaypXc",
        "colab_type": "code",
        "colab": {}
      },
      "source": [
        "t=[\"G\", \"GS\", \"MPG\", \"FG%\", \"3p%\", \"FT%\", \"OFF\", \"DEF\", \"RPG\", \"APG\", \"SPG\", \"BPG\", \"TO\", \"PF\", \"PPG\"]\n",
        "export_graphviz(arbol, out_file='arbol.dot', class_names=[\"perimetral\",\"internos\"],\n",
        "                feature_names=t, impurity=False, filled=True)"
      ],
      "execution_count": 0,
      "outputs": []
    },
    {
      "cell_type": "code",
      "metadata": {
        "id": "MNy76ZVL27sj",
        "colab_type": "code",
        "colab": {
          "base_uri": "https://localhost:8080/",
          "height": 954
        },
        "outputId": "7c67335a-d567-4886-e98c-e6b882b7409b"
      },
      "source": [
        "with open('arbol.dot') as f:\n",
        "    dot_graph=f.read()\n",
        "graphviz.Source(dot_graph)"
      ],
      "execution_count": 24,
      "outputs": [
        {
          "output_type": "execute_result",
          "data": {
            "text/plain": [
              "<graphviz.files.Source at 0x7f7175fbe8d0>"
            ],
            "image/svg+xml": "<?xml version=\"1.0\" encoding=\"UTF-8\" standalone=\"no\"?>\n<!DOCTYPE svg PUBLIC \"-//W3C//DTD SVG 1.1//EN\"\n \"http://www.w3.org/Graphics/SVG/1.1/DTD/svg11.dtd\">\n<!-- Generated by graphviz version 2.40.1 (20161225.0304)\n -->\n<!-- Title: Tree Pages: 1 -->\n<svg width=\"1026pt\" height=\"685pt\"\n viewBox=\"0.00 0.00 1026.00 685.00\" xmlns=\"http://www.w3.org/2000/svg\" xmlns:xlink=\"http://www.w3.org/1999/xlink\">\n<g id=\"graph0\" class=\"graph\" transform=\"scale(1 1) rotate(0) translate(4 681)\">\n<title>Tree</title>\n<polygon fill=\"#ffffff\" stroke=\"transparent\" points=\"-4,4 -4,-681 1022,-681 1022,4 -4,4\"/>\n<!-- 0 -->\n<g id=\"node1\" class=\"node\">\n<title>0</title>\n<polygon fill=\"#f3c3a1\" stroke=\"#000000\" points=\"568.5,-677 451.5,-677 451.5,-609 568.5,-609 568.5,-677\"/>\n<text text-anchor=\"middle\" x=\"510\" y=\"-661.8\" font-family=\"Times,serif\" font-size=\"14.00\" fill=\"#000000\">OFF &lt;= 1.35</text>\n<text text-anchor=\"middle\" x=\"510\" y=\"-646.8\" font-family=\"Times,serif\" font-size=\"14.00\" fill=\"#000000\">samples = 215</text>\n<text text-anchor=\"middle\" x=\"510\" y=\"-631.8\" font-family=\"Times,serif\" font-size=\"14.00\" fill=\"#000000\">value = [141, 74]</text>\n<text text-anchor=\"middle\" x=\"510\" y=\"-616.8\" font-family=\"Times,serif\" font-size=\"14.00\" fill=\"#000000\">class = perimetral</text>\n</g>\n<!-- 1 -->\n<g id=\"node2\" class=\"node\">\n<title>1</title>\n<polygon fill=\"#e99254\" stroke=\"#000000\" points=\"437.5,-573 320.5,-573 320.5,-505 437.5,-505 437.5,-573\"/>\n<text text-anchor=\"middle\" x=\"379\" y=\"-557.8\" font-family=\"Times,serif\" font-size=\"14.00\" fill=\"#000000\">3p% &lt;= 0.113</text>\n<text text-anchor=\"middle\" x=\"379\" y=\"-542.8\" font-family=\"Times,serif\" font-size=\"14.00\" fill=\"#000000\">samples = 157</text>\n<text text-anchor=\"middle\" x=\"379\" y=\"-527.8\" font-family=\"Times,serif\" font-size=\"14.00\" fill=\"#000000\">value = [138, 19]</text>\n<text text-anchor=\"middle\" x=\"379\" y=\"-512.8\" font-family=\"Times,serif\" font-size=\"14.00\" fill=\"#000000\">class = perimetral</text>\n</g>\n<!-- 0&#45;&gt;1 -->\n<g id=\"edge1\" class=\"edge\">\n<title>0&#45;&gt;1</title>\n<path fill=\"none\" stroke=\"#000000\" d=\"M467.1057,-608.9465C455.2307,-599.519 442.2259,-589.1946 429.9407,-579.4415\"/>\n<polygon fill=\"#000000\" stroke=\"#000000\" points=\"431.9989,-576.6066 421.9907,-573.13 427.6464,-582.089 431.9989,-576.6066\"/>\n<text text-anchor=\"middle\" x=\"424.8442\" y=\"-594.2666\" font-family=\"Times,serif\" font-size=\"14.00\" fill=\"#000000\">True</text>\n</g>\n<!-- 16 -->\n<g id=\"node17\" class=\"node\">\n<title>16</title>\n<polygon fill=\"#44a2e6\" stroke=\"#000000\" points=\"692,-573 588,-573 588,-505 692,-505 692,-573\"/>\n<text text-anchor=\"middle\" x=\"640\" y=\"-557.8\" font-family=\"Times,serif\" font-size=\"14.00\" fill=\"#000000\">FT% &lt;= 0.811</text>\n<text text-anchor=\"middle\" x=\"640\" y=\"-542.8\" font-family=\"Times,serif\" font-size=\"14.00\" fill=\"#000000\">samples = 58</text>\n<text text-anchor=\"middle\" x=\"640\" y=\"-527.8\" font-family=\"Times,serif\" font-size=\"14.00\" fill=\"#000000\">value = [3, 55]</text>\n<text text-anchor=\"middle\" x=\"640\" y=\"-512.8\" font-family=\"Times,serif\" font-size=\"14.00\" fill=\"#000000\">class = internos</text>\n</g>\n<!-- 0&#45;&gt;16 -->\n<g id=\"edge16\" class=\"edge\">\n<title>0&#45;&gt;16</title>\n<path fill=\"none\" stroke=\"#000000\" d=\"M552.5669,-608.9465C564.3512,-599.519 577.2568,-589.1946 589.4481,-579.4415\"/>\n<polygon fill=\"#000000\" stroke=\"#000000\" points=\"591.7152,-582.11 597.3375,-573.13 587.3423,-576.6439 591.7152,-582.11\"/>\n<text text-anchor=\"middle\" x=\"594.5767\" y=\"-594.2771\" font-family=\"Times,serif\" font-size=\"14.00\" fill=\"#000000\">False</text>\n</g>\n<!-- 2 -->\n<g id=\"node3\" class=\"node\">\n<title>2</title>\n<polygon fill=\"#53aae8\" stroke=\"#000000\" points=\"238,-469 134,-469 134,-401 238,-401 238,-469\"/>\n<text text-anchor=\"middle\" x=\"186\" y=\"-453.8\" font-family=\"Times,serif\" font-size=\"14.00\" fill=\"#000000\">OFF &lt;= 0.45</text>\n<text text-anchor=\"middle\" x=\"186\" y=\"-438.8\" font-family=\"Times,serif\" font-size=\"14.00\" fill=\"#000000\">samples = 17</text>\n<text text-anchor=\"middle\" x=\"186\" y=\"-423.8\" font-family=\"Times,serif\" font-size=\"14.00\" fill=\"#000000\">value = [2, 15]</text>\n<text text-anchor=\"middle\" x=\"186\" y=\"-408.8\" font-family=\"Times,serif\" font-size=\"14.00\" fill=\"#000000\">class = internos</text>\n</g>\n<!-- 1&#45;&gt;2 -->\n<g id=\"edge2\" class=\"edge\">\n<title>1&#45;&gt;2</title>\n<path fill=\"none\" stroke=\"#000000\" d=\"M320.3076,-507.373C297.0996,-494.8672 270.4263,-480.494 246.9974,-467.869\"/>\n<polygon fill=\"#000000\" stroke=\"#000000\" points=\"248.6544,-464.7862 238.1908,-463.1236 245.3338,-470.9485 248.6544,-464.7862\"/>\n</g>\n<!-- 5 -->\n<g id=\"node6\" class=\"node\">\n<title>5</title>\n<polygon fill=\"#e6853f\" stroke=\"#000000\" points=\"437,-469 321,-469 321,-401 437,-401 437,-469\"/>\n<text text-anchor=\"middle\" x=\"379\" y=\"-453.8\" font-family=\"Times,serif\" font-size=\"14.00\" fill=\"#000000\">PF &lt;= 2.65</text>\n<text text-anchor=\"middle\" x=\"379\" y=\"-438.8\" font-family=\"Times,serif\" font-size=\"14.00\" fill=\"#000000\">samples = 140</text>\n<text text-anchor=\"middle\" x=\"379\" y=\"-423.8\" font-family=\"Times,serif\" font-size=\"14.00\" fill=\"#000000\">value = [136, 4]</text>\n<text text-anchor=\"middle\" x=\"379\" y=\"-408.8\" font-family=\"Times,serif\" font-size=\"14.00\" fill=\"#000000\">class = perimetral</text>\n</g>\n<!-- 1&#45;&gt;5 -->\n<g id=\"edge5\" class=\"edge\">\n<title>1&#45;&gt;5</title>\n<path fill=\"none\" stroke=\"#000000\" d=\"M379,-504.9465C379,-496.776 379,-487.9318 379,-479.3697\"/>\n<polygon fill=\"#000000\" stroke=\"#000000\" points=\"382.5001,-479.13 379,-469.13 375.5001,-479.13 382.5001,-479.13\"/>\n</g>\n<!-- 3 -->\n<g id=\"node4\" class=\"node\">\n<title>3</title>\n<polygon fill=\"#e58139\" stroke=\"#000000\" points=\"116,-357.5 0,-357.5 0,-304.5 116,-304.5 116,-357.5\"/>\n<text text-anchor=\"middle\" x=\"58\" y=\"-342.3\" font-family=\"Times,serif\" font-size=\"14.00\" fill=\"#000000\">samples = 2</text>\n<text text-anchor=\"middle\" x=\"58\" y=\"-327.3\" font-family=\"Times,serif\" font-size=\"14.00\" fill=\"#000000\">value = [2, 0]</text>\n<text text-anchor=\"middle\" x=\"58\" y=\"-312.3\" font-family=\"Times,serif\" font-size=\"14.00\" fill=\"#000000\">class = perimetral</text>\n</g>\n<!-- 2&#45;&gt;3 -->\n<g id=\"edge3\" class=\"edge\">\n<title>2&#45;&gt;3</title>\n<path fill=\"none\" stroke=\"#000000\" d=\"M144.088,-400.9465C129.4467,-389.0504 113.0474,-375.726 98.5215,-363.9237\"/>\n<polygon fill=\"#000000\" stroke=\"#000000\" points=\"100.6355,-361.1317 90.6673,-357.5422 96.2214,-366.5645 100.6355,-361.1317\"/>\n</g>\n<!-- 4 -->\n<g id=\"node5\" class=\"node\">\n<title>4</title>\n<polygon fill=\"#399de5\" stroke=\"#000000\" points=\"238,-357.5 134,-357.5 134,-304.5 238,-304.5 238,-357.5\"/>\n<text text-anchor=\"middle\" x=\"186\" y=\"-342.3\" font-family=\"Times,serif\" font-size=\"14.00\" fill=\"#000000\">samples = 15</text>\n<text text-anchor=\"middle\" x=\"186\" y=\"-327.3\" font-family=\"Times,serif\" font-size=\"14.00\" fill=\"#000000\">value = [0, 15]</text>\n<text text-anchor=\"middle\" x=\"186\" y=\"-312.3\" font-family=\"Times,serif\" font-size=\"14.00\" fill=\"#000000\">class = internos</text>\n</g>\n<!-- 2&#45;&gt;4 -->\n<g id=\"edge4\" class=\"edge\">\n<title>2&#45;&gt;4</title>\n<path fill=\"none\" stroke=\"#000000\" d=\"M186,-400.9465C186,-390.2621 186,-378.4254 186,-367.5742\"/>\n<polygon fill=\"#000000\" stroke=\"#000000\" points=\"189.5001,-367.5421 186,-357.5422 182.5001,-367.5422 189.5001,-367.5421\"/>\n</g>\n<!-- 6 -->\n<g id=\"node7\" class=\"node\">\n<title>6</title>\n<polygon fill=\"#e5833c\" stroke=\"#000000\" points=\"372,-365 256,-365 256,-297 372,-297 372,-365\"/>\n<text text-anchor=\"middle\" x=\"314\" y=\"-349.8\" font-family=\"Times,serif\" font-size=\"14.00\" fill=\"#000000\">APG &lt;= 0.85</text>\n<text text-anchor=\"middle\" x=\"314\" y=\"-334.8\" font-family=\"Times,serif\" font-size=\"14.00\" fill=\"#000000\">samples = 135</text>\n<text text-anchor=\"middle\" x=\"314\" y=\"-319.8\" font-family=\"Times,serif\" font-size=\"14.00\" fill=\"#000000\">value = [133, 2]</text>\n<text text-anchor=\"middle\" x=\"314\" y=\"-304.8\" font-family=\"Times,serif\" font-size=\"14.00\" fill=\"#000000\">class = perimetral</text>\n</g>\n<!-- 5&#45;&gt;6 -->\n<g id=\"edge6\" class=\"edge\">\n<title>5&#45;&gt;6</title>\n<path fill=\"none\" stroke=\"#000000\" d=\"M357.7166,-400.9465C352.2733,-392.2373 346.3516,-382.7626 340.675,-373.6801\"/>\n<polygon fill=\"#000000\" stroke=\"#000000\" points=\"343.5993,-371.755 335.3312,-365.13 337.6633,-375.465 343.5993,-371.755\"/>\n</g>\n<!-- 13 -->\n<g id=\"node14\" class=\"node\">\n<title>13</title>\n<polygon fill=\"#f6d5bd\" stroke=\"#000000\" points=\"506,-365 390,-365 390,-297 506,-297 506,-365\"/>\n<text text-anchor=\"middle\" x=\"448\" y=\"-349.8\" font-family=\"Times,serif\" font-size=\"14.00\" fill=\"#000000\">OFF &lt;= 0.85</text>\n<text text-anchor=\"middle\" x=\"448\" y=\"-334.8\" font-family=\"Times,serif\" font-size=\"14.00\" fill=\"#000000\">samples = 5</text>\n<text text-anchor=\"middle\" x=\"448\" y=\"-319.8\" font-family=\"Times,serif\" font-size=\"14.00\" fill=\"#000000\">value = [3, 2]</text>\n<text text-anchor=\"middle\" x=\"448\" y=\"-304.8\" font-family=\"Times,serif\" font-size=\"14.00\" fill=\"#000000\">class = perimetral</text>\n</g>\n<!-- 5&#45;&gt;13 -->\n<g id=\"edge13\" class=\"edge\">\n<title>5&#45;&gt;13</title>\n<path fill=\"none\" stroke=\"#000000\" d=\"M401.5932,-400.9465C407.3714,-392.2373 413.6575,-382.7626 419.6834,-373.6801\"/>\n<polygon fill=\"#000000\" stroke=\"#000000\" points=\"422.744,-375.3978 425.3561,-365.13 416.911,-371.5278 422.744,-375.3978\"/>\n</g>\n<!-- 7 -->\n<g id=\"node8\" class=\"node\">\n<title>7</title>\n<polygon fill=\"#e99457\" stroke=\"#000000\" points=\"238,-261 122,-261 122,-193 238,-193 238,-261\"/>\n<text text-anchor=\"middle\" x=\"180\" y=\"-245.8\" font-family=\"Times,serif\" font-size=\"14.00\" fill=\"#000000\">RPG &lt;= 2.55</text>\n<text text-anchor=\"middle\" x=\"180\" y=\"-230.8\" font-family=\"Times,serif\" font-size=\"14.00\" fill=\"#000000\">samples = 15</text>\n<text text-anchor=\"middle\" x=\"180\" y=\"-215.8\" font-family=\"Times,serif\" font-size=\"14.00\" fill=\"#000000\">value = [13, 2]</text>\n<text text-anchor=\"middle\" x=\"180\" y=\"-200.8\" font-family=\"Times,serif\" font-size=\"14.00\" fill=\"#000000\">class = perimetral</text>\n</g>\n<!-- 6&#45;&gt;7 -->\n<g id=\"edge7\" class=\"edge\">\n<title>6&#45;&gt;7</title>\n<path fill=\"none\" stroke=\"#000000\" d=\"M270.1234,-296.9465C257.9765,-287.519 244.6738,-277.1946 232.1073,-267.4415\"/>\n<polygon fill=\"#000000\" stroke=\"#000000\" points=\"234.021,-264.4963 223.9752,-261.13 229.7291,-270.0262 234.021,-264.4963\"/>\n</g>\n<!-- 12 -->\n<g id=\"node13\" class=\"node\">\n<title>12</title>\n<polygon fill=\"#e58139\" stroke=\"#000000\" points=\"372,-253.5 256,-253.5 256,-200.5 372,-200.5 372,-253.5\"/>\n<text text-anchor=\"middle\" x=\"314\" y=\"-238.3\" font-family=\"Times,serif\" font-size=\"14.00\" fill=\"#000000\">samples = 120</text>\n<text text-anchor=\"middle\" x=\"314\" y=\"-223.3\" font-family=\"Times,serif\" font-size=\"14.00\" fill=\"#000000\">value = [120, 0]</text>\n<text text-anchor=\"middle\" x=\"314\" y=\"-208.3\" font-family=\"Times,serif\" font-size=\"14.00\" fill=\"#000000\">class = perimetral</text>\n</g>\n<!-- 6&#45;&gt;12 -->\n<g id=\"edge12\" class=\"edge\">\n<title>6&#45;&gt;12</title>\n<path fill=\"none\" stroke=\"#000000\" d=\"M314,-296.9465C314,-286.2621 314,-274.4254 314,-263.5742\"/>\n<polygon fill=\"#000000\" stroke=\"#000000\" points=\"317.5001,-263.5421 314,-253.5422 310.5001,-263.5422 317.5001,-263.5421\"/>\n</g>\n<!-- 8 -->\n<g id=\"node9\" class=\"node\">\n<title>8</title>\n<polygon fill=\"#e58139\" stroke=\"#000000\" points=\"174,-149.5 58,-149.5 58,-96.5 174,-96.5 174,-149.5\"/>\n<text text-anchor=\"middle\" x=\"116\" y=\"-134.3\" font-family=\"Times,serif\" font-size=\"14.00\" fill=\"#000000\">samples = 12</text>\n<text text-anchor=\"middle\" x=\"116\" y=\"-119.3\" font-family=\"Times,serif\" font-size=\"14.00\" fill=\"#000000\">value = [12, 0]</text>\n<text text-anchor=\"middle\" x=\"116\" y=\"-104.3\" font-family=\"Times,serif\" font-size=\"14.00\" fill=\"#000000\">class = perimetral</text>\n</g>\n<!-- 7&#45;&gt;8 -->\n<g id=\"edge8\" class=\"edge\">\n<title>7&#45;&gt;8</title>\n<path fill=\"none\" stroke=\"#000000\" d=\"M159.044,-192.9465C152.1978,-181.8215 144.5829,-169.4473 137.6843,-158.237\"/>\n<polygon fill=\"#000000\" stroke=\"#000000\" points=\"140.5555,-156.2244 132.3336,-149.5422 134.5939,-159.8931 140.5555,-156.2244\"/>\n</g>\n<!-- 9 -->\n<g id=\"node10\" class=\"node\">\n<title>9</title>\n<polygon fill=\"#9ccef2\" stroke=\"#000000\" points=\"296,-157 192,-157 192,-89 296,-89 296,-157\"/>\n<text text-anchor=\"middle\" x=\"244\" y=\"-141.8\" font-family=\"Times,serif\" font-size=\"14.00\" fill=\"#000000\">TO &lt;= 0.8</text>\n<text text-anchor=\"middle\" x=\"244\" y=\"-126.8\" font-family=\"Times,serif\" font-size=\"14.00\" fill=\"#000000\">samples = 3</text>\n<text text-anchor=\"middle\" x=\"244\" y=\"-111.8\" font-family=\"Times,serif\" font-size=\"14.00\" fill=\"#000000\">value = [1, 2]</text>\n<text text-anchor=\"middle\" x=\"244\" y=\"-96.8\" font-family=\"Times,serif\" font-size=\"14.00\" fill=\"#000000\">class = internos</text>\n</g>\n<!-- 7&#45;&gt;9 -->\n<g id=\"edge9\" class=\"edge\">\n<title>7&#45;&gt;9</title>\n<path fill=\"none\" stroke=\"#000000\" d=\"M200.956,-192.9465C206.3155,-184.2373 212.1461,-174.7626 217.7353,-165.6801\"/>\n<polygon fill=\"#000000\" stroke=\"#000000\" points=\"220.7367,-167.481 222.9969,-157.13 214.7751,-163.8122 220.7367,-167.481\"/>\n</g>\n<!-- 10 -->\n<g id=\"node11\" class=\"node\">\n<title>10</title>\n<polygon fill=\"#399de5\" stroke=\"#000000\" points=\"232,-53 128,-53 128,0 232,0 232,-53\"/>\n<text text-anchor=\"middle\" x=\"180\" y=\"-37.8\" font-family=\"Times,serif\" font-size=\"14.00\" fill=\"#000000\">samples = 2</text>\n<text text-anchor=\"middle\" x=\"180\" y=\"-22.8\" font-family=\"Times,serif\" font-size=\"14.00\" fill=\"#000000\">value = [0, 2]</text>\n<text text-anchor=\"middle\" x=\"180\" y=\"-7.8\" font-family=\"Times,serif\" font-size=\"14.00\" fill=\"#000000\">class = internos</text>\n</g>\n<!-- 9&#45;&gt;10 -->\n<g id=\"edge10\" class=\"edge\">\n<title>9&#45;&gt;10</title>\n<path fill=\"none\" stroke=\"#000000\" d=\"M221.436,-88.9777C215.6059,-80.187 209.3169,-70.7044 203.443,-61.8477\"/>\n<polygon fill=\"#000000\" stroke=\"#000000\" points=\"206.1838,-59.6478 197.7399,-53.2485 200.3502,-63.5167 206.1838,-59.6478\"/>\n</g>\n<!-- 11 -->\n<g id=\"node12\" class=\"node\">\n<title>11</title>\n<polygon fill=\"#e58139\" stroke=\"#000000\" points=\"366,-53 250,-53 250,0 366,0 366,-53\"/>\n<text text-anchor=\"middle\" x=\"308\" y=\"-37.8\" font-family=\"Times,serif\" font-size=\"14.00\" fill=\"#000000\">samples = 1</text>\n<text text-anchor=\"middle\" x=\"308\" y=\"-22.8\" font-family=\"Times,serif\" font-size=\"14.00\" fill=\"#000000\">value = [1, 0]</text>\n<text text-anchor=\"middle\" x=\"308\" y=\"-7.8\" font-family=\"Times,serif\" font-size=\"14.00\" fill=\"#000000\">class = perimetral</text>\n</g>\n<!-- 9&#45;&gt;11 -->\n<g id=\"edge11\" class=\"edge\">\n<title>9&#45;&gt;11</title>\n<path fill=\"none\" stroke=\"#000000\" d=\"M266.564,-88.9777C272.3941,-80.187 278.6831,-70.7044 284.557,-61.8477\"/>\n<polygon fill=\"#000000\" stroke=\"#000000\" points=\"287.6498,-63.5167 290.2601,-53.2485 281.8162,-59.6478 287.6498,-63.5167\"/>\n</g>\n<!-- 14 -->\n<g id=\"node15\" class=\"node\">\n<title>14</title>\n<polygon fill=\"#e58139\" stroke=\"#000000\" points=\"506,-253.5 390,-253.5 390,-200.5 506,-200.5 506,-253.5\"/>\n<text text-anchor=\"middle\" x=\"448\" y=\"-238.3\" font-family=\"Times,serif\" font-size=\"14.00\" fill=\"#000000\">samples = 3</text>\n<text text-anchor=\"middle\" x=\"448\" y=\"-223.3\" font-family=\"Times,serif\" font-size=\"14.00\" fill=\"#000000\">value = [3, 0]</text>\n<text text-anchor=\"middle\" x=\"448\" y=\"-208.3\" font-family=\"Times,serif\" font-size=\"14.00\" fill=\"#000000\">class = perimetral</text>\n</g>\n<!-- 13&#45;&gt;14 -->\n<g id=\"edge14\" class=\"edge\">\n<title>13&#45;&gt;14</title>\n<path fill=\"none\" stroke=\"#000000\" d=\"M448,-296.9465C448,-286.2621 448,-274.4254 448,-263.5742\"/>\n<polygon fill=\"#000000\" stroke=\"#000000\" points=\"451.5001,-263.5421 448,-253.5422 444.5001,-263.5422 451.5001,-263.5421\"/>\n</g>\n<!-- 15 -->\n<g id=\"node16\" class=\"node\">\n<title>15</title>\n<polygon fill=\"#399de5\" stroke=\"#000000\" points=\"628,-253.5 524,-253.5 524,-200.5 628,-200.5 628,-253.5\"/>\n<text text-anchor=\"middle\" x=\"576\" y=\"-238.3\" font-family=\"Times,serif\" font-size=\"14.00\" fill=\"#000000\">samples = 2</text>\n<text text-anchor=\"middle\" x=\"576\" y=\"-223.3\" font-family=\"Times,serif\" font-size=\"14.00\" fill=\"#000000\">value = [0, 2]</text>\n<text text-anchor=\"middle\" x=\"576\" y=\"-208.3\" font-family=\"Times,serif\" font-size=\"14.00\" fill=\"#000000\">class = internos</text>\n</g>\n<!-- 13&#45;&gt;15 -->\n<g id=\"edge15\" class=\"edge\">\n<title>13&#45;&gt;15</title>\n<path fill=\"none\" stroke=\"#000000\" d=\"M489.912,-296.9465C504.5533,-285.0504 520.9526,-271.726 535.4785,-259.9237\"/>\n<polygon fill=\"#000000\" stroke=\"#000000\" points=\"537.7786,-262.5645 543.3327,-253.5422 533.3645,-257.1317 537.7786,-262.5645\"/>\n</g>\n<!-- 17 -->\n<g id=\"node18\" class=\"node\">\n<title>17</title>\n<polygon fill=\"#3d9fe5\" stroke=\"#000000\" points=\"692,-469 588,-469 588,-401 692,-401 692,-469\"/>\n<text text-anchor=\"middle\" x=\"640\" y=\"-453.8\" font-family=\"Times,serif\" font-size=\"14.00\" fill=\"#000000\">3p% &lt;= 0.375</text>\n<text text-anchor=\"middle\" x=\"640\" y=\"-438.8\" font-family=\"Times,serif\" font-size=\"14.00\" fill=\"#000000\">samples = 55</text>\n<text text-anchor=\"middle\" x=\"640\" y=\"-423.8\" font-family=\"Times,serif\" font-size=\"14.00\" fill=\"#000000\">value = [1, 54]</text>\n<text text-anchor=\"middle\" x=\"640\" y=\"-408.8\" font-family=\"Times,serif\" font-size=\"14.00\" fill=\"#000000\">class = internos</text>\n</g>\n<!-- 16&#45;&gt;17 -->\n<g id=\"edge17\" class=\"edge\">\n<title>16&#45;&gt;17</title>\n<path fill=\"none\" stroke=\"#000000\" d=\"M640,-504.9465C640,-496.776 640,-487.9318 640,-479.3697\"/>\n<polygon fill=\"#000000\" stroke=\"#000000\" points=\"643.5001,-479.13 640,-469.13 636.5001,-479.13 643.5001,-479.13\"/>\n</g>\n<!-- 22 -->\n<g id=\"node23\" class=\"node\">\n<title>22</title>\n<polygon fill=\"#f2c09c\" stroke=\"#000000\" points=\"890,-469 774,-469 774,-401 890,-401 890,-469\"/>\n<text text-anchor=\"middle\" x=\"832\" y=\"-453.8\" font-family=\"Times,serif\" font-size=\"14.00\" fill=\"#000000\">SPG &lt;= 0.8</text>\n<text text-anchor=\"middle\" x=\"832\" y=\"-438.8\" font-family=\"Times,serif\" font-size=\"14.00\" fill=\"#000000\">samples = 3</text>\n<text text-anchor=\"middle\" x=\"832\" y=\"-423.8\" font-family=\"Times,serif\" font-size=\"14.00\" fill=\"#000000\">value = [2, 1]</text>\n<text text-anchor=\"middle\" x=\"832\" y=\"-408.8\" font-family=\"Times,serif\" font-size=\"14.00\" fill=\"#000000\">class = perimetral</text>\n</g>\n<!-- 16&#45;&gt;22 -->\n<g id=\"edge22\" class=\"edge\">\n<title>16&#45;&gt;22</title>\n<path fill=\"none\" stroke=\"#000000\" d=\"M692.2112,-510.7189C714.5629,-498.6118 740.9452,-484.3213 764.7344,-471.4355\"/>\n<polygon fill=\"#000000\" stroke=\"#000000\" points=\"766.5852,-474.4136 773.7111,-466.5732 763.2511,-468.2585 766.5852,-474.4136\"/>\n</g>\n<!-- 18 -->\n<g id=\"node19\" class=\"node\">\n<title>18</title>\n<polygon fill=\"#399de5\" stroke=\"#000000\" points=\"628,-357.5 524,-357.5 524,-304.5 628,-304.5 628,-357.5\"/>\n<text text-anchor=\"middle\" x=\"576\" y=\"-342.3\" font-family=\"Times,serif\" font-size=\"14.00\" fill=\"#000000\">samples = 53</text>\n<text text-anchor=\"middle\" x=\"576\" y=\"-327.3\" font-family=\"Times,serif\" font-size=\"14.00\" fill=\"#000000\">value = [0, 53]</text>\n<text text-anchor=\"middle\" x=\"576\" y=\"-312.3\" font-family=\"Times,serif\" font-size=\"14.00\" fill=\"#000000\">class = internos</text>\n</g>\n<!-- 17&#45;&gt;18 -->\n<g id=\"edge18\" class=\"edge\">\n<title>17&#45;&gt;18</title>\n<path fill=\"none\" stroke=\"#000000\" d=\"M619.044,-400.9465C612.1978,-389.8215 604.5829,-377.4473 597.6843,-366.237\"/>\n<polygon fill=\"#000000\" stroke=\"#000000\" points=\"600.5555,-364.2244 592.3336,-357.5422 594.5939,-367.8931 600.5555,-364.2244\"/>\n</g>\n<!-- 19 -->\n<g id=\"node20\" class=\"node\">\n<title>19</title>\n<polygon fill=\"#ffffff\" stroke=\"#000000\" points=\"762,-365 646,-365 646,-297 762,-297 762,-365\"/>\n<text text-anchor=\"middle\" x=\"704\" y=\"-349.8\" font-family=\"Times,serif\" font-size=\"14.00\" fill=\"#000000\">OFF &lt;= 1.75</text>\n<text text-anchor=\"middle\" x=\"704\" y=\"-334.8\" font-family=\"Times,serif\" font-size=\"14.00\" fill=\"#000000\">samples = 2</text>\n<text text-anchor=\"middle\" x=\"704\" y=\"-319.8\" font-family=\"Times,serif\" font-size=\"14.00\" fill=\"#000000\">value = [1, 1]</text>\n<text text-anchor=\"middle\" x=\"704\" y=\"-304.8\" font-family=\"Times,serif\" font-size=\"14.00\" fill=\"#000000\">class = perimetral</text>\n</g>\n<!-- 17&#45;&gt;19 -->\n<g id=\"edge19\" class=\"edge\">\n<title>17&#45;&gt;19</title>\n<path fill=\"none\" stroke=\"#000000\" d=\"M660.956,-400.9465C666.3155,-392.2373 672.1461,-382.7626 677.7353,-373.6801\"/>\n<polygon fill=\"#000000\" stroke=\"#000000\" points=\"680.7367,-375.481 682.9969,-365.13 674.7751,-371.8122 680.7367,-375.481\"/>\n</g>\n<!-- 20 -->\n<g id=\"node21\" class=\"node\">\n<title>20</title>\n<polygon fill=\"#e58139\" stroke=\"#000000\" points=\"762,-253.5 646,-253.5 646,-200.5 762,-200.5 762,-253.5\"/>\n<text text-anchor=\"middle\" x=\"704\" y=\"-238.3\" font-family=\"Times,serif\" font-size=\"14.00\" fill=\"#000000\">samples = 1</text>\n<text text-anchor=\"middle\" x=\"704\" y=\"-223.3\" font-family=\"Times,serif\" font-size=\"14.00\" fill=\"#000000\">value = [1, 0]</text>\n<text text-anchor=\"middle\" x=\"704\" y=\"-208.3\" font-family=\"Times,serif\" font-size=\"14.00\" fill=\"#000000\">class = perimetral</text>\n</g>\n<!-- 19&#45;&gt;20 -->\n<g id=\"edge20\" class=\"edge\">\n<title>19&#45;&gt;20</title>\n<path fill=\"none\" stroke=\"#000000\" d=\"M704,-296.9465C704,-286.2621 704,-274.4254 704,-263.5742\"/>\n<polygon fill=\"#000000\" stroke=\"#000000\" points=\"707.5001,-263.5421 704,-253.5422 700.5001,-263.5422 707.5001,-263.5421\"/>\n</g>\n<!-- 21 -->\n<g id=\"node22\" class=\"node\">\n<title>21</title>\n<polygon fill=\"#399de5\" stroke=\"#000000\" points=\"884,-253.5 780,-253.5 780,-200.5 884,-200.5 884,-253.5\"/>\n<text text-anchor=\"middle\" x=\"832\" y=\"-238.3\" font-family=\"Times,serif\" font-size=\"14.00\" fill=\"#000000\">samples = 1</text>\n<text text-anchor=\"middle\" x=\"832\" y=\"-223.3\" font-family=\"Times,serif\" font-size=\"14.00\" fill=\"#000000\">value = [0, 1]</text>\n<text text-anchor=\"middle\" x=\"832\" y=\"-208.3\" font-family=\"Times,serif\" font-size=\"14.00\" fill=\"#000000\">class = internos</text>\n</g>\n<!-- 19&#45;&gt;21 -->\n<g id=\"edge21\" class=\"edge\">\n<title>19&#45;&gt;21</title>\n<path fill=\"none\" stroke=\"#000000\" d=\"M745.912,-296.9465C760.5533,-285.0504 776.9526,-271.726 791.4785,-259.9237\"/>\n<polygon fill=\"#000000\" stroke=\"#000000\" points=\"793.7786,-262.5645 799.3327,-253.5422 789.3645,-257.1317 793.7786,-262.5645\"/>\n</g>\n<!-- 23 -->\n<g id=\"node24\" class=\"node\">\n<title>23</title>\n<polygon fill=\"#399de5\" stroke=\"#000000\" points=\"884,-357.5 780,-357.5 780,-304.5 884,-304.5 884,-357.5\"/>\n<text text-anchor=\"middle\" x=\"832\" y=\"-342.3\" font-family=\"Times,serif\" font-size=\"14.00\" fill=\"#000000\">samples = 1</text>\n<text text-anchor=\"middle\" x=\"832\" y=\"-327.3\" font-family=\"Times,serif\" font-size=\"14.00\" fill=\"#000000\">value = [0, 1]</text>\n<text text-anchor=\"middle\" x=\"832\" y=\"-312.3\" font-family=\"Times,serif\" font-size=\"14.00\" fill=\"#000000\">class = internos</text>\n</g>\n<!-- 22&#45;&gt;23 -->\n<g id=\"edge23\" class=\"edge\">\n<title>22&#45;&gt;23</title>\n<path fill=\"none\" stroke=\"#000000\" d=\"M832,-400.9465C832,-390.2621 832,-378.4254 832,-367.5742\"/>\n<polygon fill=\"#000000\" stroke=\"#000000\" points=\"835.5001,-367.5421 832,-357.5422 828.5001,-367.5422 835.5001,-367.5421\"/>\n</g>\n<!-- 24 -->\n<g id=\"node25\" class=\"node\">\n<title>24</title>\n<polygon fill=\"#e58139\" stroke=\"#000000\" points=\"1018,-357.5 902,-357.5 902,-304.5 1018,-304.5 1018,-357.5\"/>\n<text text-anchor=\"middle\" x=\"960\" y=\"-342.3\" font-family=\"Times,serif\" font-size=\"14.00\" fill=\"#000000\">samples = 2</text>\n<text text-anchor=\"middle\" x=\"960\" y=\"-327.3\" font-family=\"Times,serif\" font-size=\"14.00\" fill=\"#000000\">value = [2, 0]</text>\n<text text-anchor=\"middle\" x=\"960\" y=\"-312.3\" font-family=\"Times,serif\" font-size=\"14.00\" fill=\"#000000\">class = perimetral</text>\n</g>\n<!-- 22&#45;&gt;24 -->\n<g id=\"edge24\" class=\"edge\">\n<title>22&#45;&gt;24</title>\n<path fill=\"none\" stroke=\"#000000\" d=\"M873.912,-400.9465C888.5533,-389.0504 904.9526,-375.726 919.4785,-363.9237\"/>\n<polygon fill=\"#000000\" stroke=\"#000000\" points=\"921.7786,-366.5645 927.3327,-357.5422 917.3645,-361.1317 921.7786,-366.5645\"/>\n</g>\n</g>\n</svg>\n"
          },
          "metadata": {
            "tags": []
          },
          "execution_count": 24
        }
      ]
    },
    {
      "cell_type": "markdown",
      "metadata": {
        "id": "bvhSUNOmHb8v",
        "colab_type": "text"
      },
      "source": [
        "**Reglas:** lo anterior se puede ver las reglas de decisión en el árbol para su respectiva clasificación."
      ]
    },
    {
      "cell_type": "code",
      "metadata": {
        "id": "I1B3eEGsGOqB",
        "colab_type": "code",
        "colab": {
          "base_uri": "https://localhost:8080/",
          "height": 280
        },
        "outputId": "84f5196a-b577-41f2-ca89-0858f03a3516"
      },
      "source": [
        "caract=X.shape[1]\n",
        "plt.barh(range(caract),arbol.feature_importances_)\n",
        "plt.yticks(np.arange(caract),t)\n",
        "plt.xlabel('Importancia de las características')\n",
        "plt.ylabel('Características')\n",
        "plt.show()"
      ],
      "execution_count": 25,
      "outputs": [
        {
          "output_type": "display_data",
          "data": {
            "image/png": "[encoded data removed]",
            "text/plain": [
              "<Figure size 432x288 with 1 Axes>"
            ]
          },
          "metadata": {
            "tags": []
          }
        }
      ]
    },
    {
      "cell_type": "markdown",
      "metadata": {
        "id": "hCQ0W3X_HyWz",
        "colab_type": "text"
      },
      "source": [
        "**Atributos mas determinantes** Según la gráfica anterior se pueden ver que las características o atributos mas determinantes son OFF (Rebotes ofensivos) y 3p% (Porcentaje de tiro de tres puntos), lo cuál tiene sentido debido a que los jugadores en posiciones delanteras, tienen más oportunidades de ganar rebotes, o mayor efectividad a la hora de realizar lanzamientos de 3 puntos.\n",
        "\n",
        "------------------------------------------------------"
      ]
    },
    {
      "cell_type": "markdown",
      "metadata": {
        "id": "TKv_gRGOIuVC",
        "colab_type": "text"
      },
      "source": [
        "**4)** Complejidad del modelo y sobre-aprendizaje:\n",
        "\n",
        "     a) Modifique el modelo anterior para que también calcule el desempeño en el conjunto de entrenamiento.\n",
        "\n",
        "     b) Haga diferentes pruebas cambiando la profundidad máxima del árbol. Pruebe los valores 1,2,...,10.\n",
        "     c) Grafique a profundidad del árbol contra la evolución del error de entrenamiento y el error de prueba.\n",
        "     d) De acuerdo con la gráfica, ¿Cuál sería un buen valor de profundidad para el árbol?"
      ]
    },
    {
      "cell_type": "markdown",
      "metadata": {
        "id": "Cg7uNnI5Mamo",
        "colab_type": "text"
      },
      "source": [
        "**a)**"
      ]
    },
    {
      "cell_type": "code",
      "metadata": {
        "id": "XuwOsEpLwwuI",
        "colab_type": "code",
        "colab": {
          "base_uri": "https://localhost:8080/",
          "height": 34
        },
        "outputId": "aad6bc18-26d4-4c40-e5e6-0cd852ca7872"
      },
      "source": [
        "arbol.score(x_train, y_train) "
      ],
      "execution_count": 26,
      "outputs": [
        {
          "output_type": "execute_result",
          "data": {
            "text/plain": [
              "1.0"
            ]
          },
          "metadata": {
            "tags": []
          },
          "execution_count": 26
        }
      ]
    },
    {
      "cell_type": "markdown",
      "metadata": {
        "id": "JUkHcE2VmADR",
        "colab_type": "text"
      },
      "source": [
        "**b)**  Probando para los diferentes valores de la profundidad del arbol se tiene:"
      ]
    },
    {
      "cell_type": "code",
      "metadata": {
        "id": "MLJK11PY0HGs",
        "colab_type": "code",
        "colab": {
          "base_uri": "https://localhost:8080/",
          "height": 187
        },
        "outputId": "6cf3fa7f-6f33-4298-997d-a5ebd49f3c06"
      },
      "source": [
        "train_err=[]\n",
        "test_err=[]\n",
        "I=range(1,11)\n",
        "for i in I:\n",
        "  arboli=DecisionTreeClassifier(max_depth=i)\n",
        "  arboli.fit(x_train, y_train)\n",
        "  test_err.append(1-arboli.score(x_test, y_test))\n",
        "  train_err.append(1-arboli.score(x_train, y_train))\n",
        "  print(f\"Prof del árbol {i}: Precisión para el modelo en el datatest es {arboli.score(x_test, y_test)} y para los datos de entrenamiento {arboli.score(x_train, y_train)}\")"
      ],
      "execution_count": 27,
      "outputs": [
        {
          "output_type": "stream",
          "text": [
            "Prof del árbol 1: Precisión para el modelo en el datatest es 0.8064516129032258 y para los datos de entrenamiento 0.8976744186046511\n",
            "Prof del árbol 2: Precisión para el modelo en el datatest es 0.8924731182795699 y para los datos de entrenamiento 0.9627906976744186\n",
            "Prof del árbol 3: Precisión para el modelo en el datatest es 0.9032258064516129 y para los datos de entrenamiento 0.9813953488372092\n",
            "Prof del árbol 4: Precisión para el modelo en el datatest es 0.9139784946236559 y para los datos de entrenamiento 0.9906976744186047\n",
            "Prof del árbol 5: Precisión para el modelo en el datatest es 0.9139784946236559 y para los datos de entrenamiento 0.9953488372093023\n",
            "Prof del árbol 6: Precisión para el modelo en el datatest es 0.9139784946236559 y para los datos de entrenamiento 1.0\n",
            "Prof del árbol 7: Precisión para el modelo en el datatest es 0.9247311827956989 y para los datos de entrenamiento 1.0\n",
            "Prof del árbol 8: Precisión para el modelo en el datatest es 0.9354838709677419 y para los datos de entrenamiento 1.0\n",
            "Prof del árbol 9: Precisión para el modelo en el datatest es 0.9247311827956989 y para los datos de entrenamiento 1.0\n",
            "Prof del árbol 10: Precisión para el modelo en el datatest es 0.9032258064516129 y para los datos de entrenamiento 1.0\n"
          ],
          "name": "stdout"
        }
      ]
    },
    {
      "cell_type": "markdown",
      "metadata": {
        "id": "HTSBfmNvo-64",
        "colab_type": "text"
      },
      "source": [
        "Se puede ver que entre más profundo son las ramas del árbol, el modelo sobreajusta cada vez más, aunque en el conjunto de test no parezca haber una relación entre la precisión y la profundidad del árbol."
      ]
    },
    {
      "cell_type": "markdown",
      "metadata": {
        "id": "1EfpZGJ6sq-q",
        "colab_type": "text"
      },
      "source": [
        "**C)** Graficando la profundidad del árbol vs el error de entrenamiento, se obtiene:"
      ]
    },
    {
      "cell_type": "code",
      "metadata": {
        "id": "T-ljzae_0K13",
        "colab_type": "code",
        "colab": {
          "base_uri": "https://localhost:8080/",
          "height": 280
        },
        "outputId": "e267c281-068e-4962-f70c-acc3922ab17c"
      },
      "source": [
        "plt.plot(I, train_err, 'bx-')\n",
        "plt.xlabel('profundidad del árbol')\n",
        "plt.ylabel('error de entrenamiento')\n",
        "plt.show()"
      ],
      "execution_count": 28,
      "outputs": [
        {
          "output_type": "display_data",
          "data": {
            "image/png": "[encoded data removed]",
            "text/plain": [
              "<Figure size 432x288 with 1 Axes>"
            ]
          },
          "metadata": {
            "tags": []
          }
        }
      ]
    },
    {
      "cell_type": "markdown",
      "metadata": {
        "id": "Zb3mBIOSs3HC",
        "colab_type": "text"
      },
      "source": [
        "Donde se puede notar, que a medida que la profundidad del árbol es mayor, el modelo cada vez más se sobreajusta a los datos, en particular, cuando el profundidad del árbol es mayor o igual que 6, el error es 0. Por otro lado graficando la profundidad del árbol vs el error en el conjunto de prueba se tiene:"
      ]
    },
    {
      "cell_type": "code",
      "metadata": {
        "id": "G6rFGVOnvBrp",
        "colab_type": "code",
        "colab": {
          "base_uri": "https://localhost:8080/",
          "height": 284
        },
        "outputId": "ee456f3f-6958-4347-df5c-83572c96105c"
      },
      "source": [
        "plt.plot(I, test_err, 'bx-')\n",
        "plt.xlabel('profundidad del árbol')\n",
        "plt.ylabel('error de prueba')\n",
        "plt.show()"
      ],
      "execution_count": 29,
      "outputs": [
        {
          "output_type": "display_data",
          "data": {
            "image/png": "[encoded data removed]",
            "text/plain": [
              "<Figure size 432x288 with 1 Axes>"
            ]
          },
          "metadata": {
            "tags": []
          }
        }
      ]
    },
    {
      "cell_type": "markdown",
      "metadata": {
        "id": "8U0dbE29vMp3",
        "colab_type": "text"
      },
      "source": [
        "Donde no se ve una uniformidad en el comportamiento de los errores, apenas se puede ver que toma su menor valor en 6 y 7, mientras que en 1 toma el mayor valor de error."
      ]
    },
    {
      "cell_type": "markdown",
      "metadata": {
        "id": "rzMk61uxvfMx",
        "colab_type": "text"
      },
      "source": [
        "**d)** De acuerdo con las gráficas, un valor adecuado, sin incurrir en sobreajuste y un valor bajo del error de prueba es cuando la profundidad del árbol es igual a 5."
      ]
    },
    {
      "cell_type": "markdown",
      "metadata": {
        "id": "LhPB7PVLvoBj",
        "colab_type": "text"
      },
      "source": [
        "**5)** Curva de aprendizaje:\n",
        "\n",
        "     a) Cambie la proporción de datos usados para entrenar usando diferentes valores: 10 %, 20 %,...,90 %.\n",
        "     b) Grafique la evolución del error de entrenamiento y el de prueba contra el porcentaje de ejemplos de entrenamiento.\n",
        "     c) Explique el comportamiento de las curvas.\n"
      ]
    },
    {
      "cell_type": "markdown",
      "metadata": {
        "id": "qcV3AR8MyN_q",
        "colab_type": "text"
      },
      "source": [
        "**a)**"
      ]
    },
    {
      "cell_type": "code",
      "metadata": {
        "id": "3jopD1fBv6f6",
        "colab_type": "code",
        "colab": {
          "base_uri": "https://localhost:8080/",
          "height": 170
        },
        "outputId": "c2b70e01-3816-4eae-a37b-9caceb00a4e9"
      },
      "source": [
        "nba=np.array(df)\n",
        "X = nba[:,:15]\n",
        "Y = nba[:,15:]\n",
        "traink_err=[]\n",
        "testk_err=[]\n",
        "K=range(1,10)\n",
        "for k in K:\n",
        "  x_train, x_test, y_train, y_test = train_test_split(X, Y, test_size=k/10, random_state=5)\n",
        "  arbolk=DecisionTreeClassifier()\n",
        "  arbolk.fit(x_train, y_train)\n",
        "  testk_err.append(1-arbolk.score(x_test, y_test))\n",
        "  traink_err.append(1-arbolk.score(x_train, y_train))\n",
        "  print(f\"Porcentaje de datos de prueba: {k*10}%; Error de prueba: {1-arbolk.score(x_test, y_test)}; Error de entrenamiento: {1-arbolk.score(x_train, y_train)}\")"
      ],
      "execution_count": 30,
      "outputs": [
        {
          "output_type": "stream",
          "text": [
            "Porcentaje de datos de prueba: 10%; Error de prueba: 0.25806451612903225; Error de entrenamiento: 0.0\n",
            "Porcentaje de datos de prueba: 20%; Error de prueba: 0.08064516129032262; Error de entrenamiento: 0.0\n",
            "Porcentaje de datos de prueba: 30%; Error de prueba: 0.09677419354838712; Error de entrenamiento: 0.0\n",
            "Porcentaje de datos de prueba: 40%; Error de prueba: 0.07258064516129037; Error de entrenamiento: 0.0\n",
            "Porcentaje de datos de prueba: 50%; Error de prueba: 0.07792207792207795; Error de entrenamiento: 0.0\n",
            "Porcentaje de datos de prueba: 60%; Error de prueba: 0.05945945945945941; Error de entrenamiento: 0.0\n",
            "Porcentaje de datos de prueba: 70%; Error de prueba: 0.05555555555555558; Error de entrenamiento: 0.0\n",
            "Porcentaje de datos de prueba: 80%; Error de prueba: 0.09311740890688258; Error de entrenamiento: 0.0\n",
            "Porcentaje de datos de prueba: 90%; Error de prueba: 0.19784172661870503; Error de entrenamiento: 0.0\n"
          ],
          "name": "stdout"
        }
      ]
    },
    {
      "cell_type": "markdown",
      "metadata": {
        "id": "GgSpB8FcyVxg",
        "colab_type": "text"
      },
      "source": [
        "**b)**"
      ]
    },
    {
      "cell_type": "code",
      "metadata": {
        "id": "zyINwvIiyXNx",
        "colab_type": "code",
        "colab": {
          "base_uri": "https://localhost:8080/",
          "height": 279
        },
        "outputId": "e5badb02-8e83-4d2d-f6b1-10dbb6bde180"
      },
      "source": [
        "Kp=[\"10%\",\"20%\",\"30%\",\"40%\",\"50%\",\"60%\",\"70%\",\"80%\",\"90%\"]\n",
        "plt.plot(Kp, testk_err, 'bo-')\n",
        "plt.xlabel('porcentaje datos de prueba')\n",
        "plt.ylabel('error de prueba')\n",
        "plt.show()"
      ],
      "execution_count": 31,
      "outputs": [
        {
          "output_type": "display_data",
          "data": {
            "image/png": "[encoded data removed]",
            "text/plain": [
              "<Figure size 432x288 with 1 Axes>"
            ]
          },
          "metadata": {
            "tags": []
          }
        }
      ]
    },
    {
      "cell_type": "code",
      "metadata": {
        "id": "rOte_OrmzY60",
        "colab_type": "code",
        "colab": {
          "base_uri": "https://localhost:8080/",
          "height": 279
        },
        "outputId": "e560492d-f10e-4e36-d6c4-2ca5f2badfe4"
      },
      "source": [
        "Kp=[\"10%\",\"20%\",\"30%\",\"40%\",\"50%\",\"60%\",\"70%\",\"80%\",\"90%\"]\n",
        "plt.plot(Kp, traink_err, 'bo-')\n",
        "plt.xlabel('porcentaje datos de prueba')\n",
        "plt.ylabel('error de entrenamiento')\n",
        "plt.show()"
      ],
      "execution_count": 32,
      "outputs": [
        {
          "output_type": "display_data",
          "data": {
            "image/png": "[encoded data removed]",
            "text/plain": [
              "<Figure size 432x288 with 1 Axes>"
            ]
          },
          "metadata": {
            "tags": []
          }
        }
      ]
    },
    {
      "cell_type": "markdown",
      "metadata": {
        "id": "I6EXqZ_b08Zn",
        "colab_type": "text"
      },
      "source": [
        "**c)**"
      ]
    },
    {
      "cell_type": "markdown",
      "metadata": {
        "id": "3zc9XbhGzolX",
        "colab_type": "text"
      },
      "source": [
        "Como se puede notar en las gráficas anteriores, el error de entrenamiento no cambia con respecto a la partición que se haga de los datos, debido a que el algorítmo de árboles de decisión trata de ajustarse muy bien a los datos con los que cuenta, lo que implicaría un sobre ajuste. Por otro lado, los errores de prueba se ven que disminuyen cuando se hace una partición donde el data test está entre el 40% y 70% de los datos, aunque ususalmente, un porcentaje mayor del 50% parece bastante, se puede notar que en 70% el error alcanza su valor mínimo."
      ]
    },
    {
      "cell_type": "markdown",
      "metadata": {
        "id": "yjTHiis90_Ka",
        "colab_type": "text"
      },
      "source": [
        "## NEARETS NEIGHBOR"
      ]
    },
    {
      "cell_type": "markdown",
      "metadata": {
        "id": "cQkJKa3n1MHh",
        "colab_type": "text"
      },
      "source": [
        "**1)**  Suponga que los ejemplos categóricos de 5 dimensiones:"
      ]
    },
    {
      "cell_type": "code",
      "metadata": {
        "id": "iIRls5b21kWR",
        "colab_type": "code",
        "colab": {
          "base_uri": "https://localhost:8080/",
          "height": 119
        },
        "outputId": "57c0fc9c-02b6-418b-95be-8a96abe8faaf"
      },
      "source": [
        "A=[1,0,1,1,0]\n",
        "B=[1,1,0,1,0]\n",
        "C=[0,0,1,1,0]\n",
        "D=[0,1,0,1,0]\n",
        "E=[1,0,1,0,1]\n",
        "F=[0,1,1,0,0]\n",
        "Z=[\"C1\",\"C1\",\"C2\",\"C2\",\"C1\",\"C2\"]\n",
        "data=[A,B,C,D,E,F]\n",
        "data"
      ],
      "execution_count": 33,
      "outputs": [
        {
          "output_type": "execute_result",
          "data": {
            "text/plain": [
              "[[1, 0, 1, 1, 0],\n",
              " [1, 1, 0, 1, 0],\n",
              " [0, 0, 1, 1, 0],\n",
              " [0, 1, 0, 1, 0],\n",
              " [1, 0, 1, 0, 1],\n",
              " [0, 1, 1, 0, 0]]"
            ]
          },
          "metadata": {
            "tags": []
          },
          "execution_count": 33
        }
      ]
    },
    {
      "cell_type": "markdown",
      "metadata": {
        "id": "BJvdEPJ_4PMn",
        "colab_type": "text"
      },
      "source": [
        "**a)** Use el algoritmo de k-nearest neighbor para encontrar la clasificación de los siguientes ejemplos:\n",
        "\n",
        "\n",
        "*   Y={1,1,0,1,1} usando K = 1"
      ]
    },
    {
      "cell_type": "code",
      "metadata": {
        "id": "fVQ0GGBh4bIt",
        "colab_type": "code",
        "colab": {
          "base_uri": "https://localhost:8080/",
          "height": 68
        },
        "outputId": "4045998e-df19-4067-8873-80a647ac0189"
      },
      "source": [
        "from sklearn.neighbors import KNeighborsClassifier\n",
        "neigh = KNeighborsClassifier(n_neighbors=1)\n",
        "neigh.fit(data,Z)\n",
        "  "
      ],
      "execution_count": 34,
      "outputs": [
        {
          "output_type": "execute_result",
          "data": {
            "text/plain": [
              "KNeighborsClassifier(algorithm='auto', leaf_size=30, metric='minkowski',\n",
              "                     metric_params=None, n_jobs=None, n_neighbors=1, p=2,\n",
              "                     weights='uniform')"
            ]
          },
          "metadata": {
            "tags": []
          },
          "execution_count": 34
        }
      ]
    },
    {
      "cell_type": "code",
      "metadata": {
        "id": "TolQa5Wc5COW",
        "colab_type": "code",
        "colab": {
          "base_uri": "https://localhost:8080/",
          "height": 34
        },
        "outputId": "aca4179d-f2ec-4dcf-e3ad-af7ca82061fc"
      },
      "source": [
        "Y=[1,1,0,1,1]\n",
        "print(f\"La clase de Y={Y} es {neigh.predict([Y])} cuando K={1}\")"
      ],
      "execution_count": 35,
      "outputs": [
        {
          "output_type": "stream",
          "text": [
            "La clase de Y=[1, 1, 0, 1, 1] es ['C1'] cuando K=1\n"
          ],
          "name": "stdout"
        }
      ]
    },
    {
      "cell_type": "markdown",
      "metadata": {
        "id": "W7PgV3oa6waK",
        "colab_type": "text"
      },
      "source": [
        "*   Y={1,1,0,1,1} usando K = 3"
      ]
    },
    {
      "cell_type": "code",
      "metadata": {
        "id": "qoZDUknI64aa",
        "colab_type": "code",
        "colab": {
          "base_uri": "https://localhost:8080/",
          "height": 68
        },
        "outputId": "53419d55-db2a-49ce-c1ef-9422e8856c29"
      },
      "source": [
        "neigh = KNeighborsClassifier(n_neighbors=3)\n",
        "neigh.fit(data,Z)"
      ],
      "execution_count": 36,
      "outputs": [
        {
          "output_type": "execute_result",
          "data": {
            "text/plain": [
              "KNeighborsClassifier(algorithm='auto', leaf_size=30, metric='minkowski',\n",
              "                     metric_params=None, n_jobs=None, n_neighbors=3, p=2,\n",
              "                     weights='uniform')"
            ]
          },
          "metadata": {
            "tags": []
          },
          "execution_count": 36
        }
      ]
    },
    {
      "cell_type": "code",
      "metadata": {
        "id": "B0DaPugQCiPM",
        "colab_type": "code",
        "colab": {
          "base_uri": "https://localhost:8080/",
          "height": 34
        },
        "outputId": "0c45eaac-577c-45cd-dfce-08a0ec4fcfe4"
      },
      "source": [
        "print(f\"La clase de Y={Y} es {neigh.predict([Y])} cuando K={3}\")"
      ],
      "execution_count": 37,
      "outputs": [
        {
          "output_type": "stream",
          "text": [
            "La clase de Y=[1, 1, 0, 1, 1] es ['C1'] cuando K=3\n"
          ],
          "name": "stdout"
        }
      ]
    },
    {
      "cell_type": "markdown",
      "metadata": {
        "id": "BTWllyBt63cc",
        "colab_type": "text"
      },
      "source": [
        "*    Y={0,1,0,0,0] usando K = 1"
      ]
    },
    {
      "cell_type": "code",
      "metadata": {
        "id": "ZfOD9Lc-DEkg",
        "colab_type": "code",
        "colab": {
          "base_uri": "https://localhost:8080/",
          "height": 34
        },
        "outputId": "8ae72e72-eb04-4c27-abac-3cfdc5eff7a5"
      },
      "source": [
        "neighs = KNeighborsClassifier(n_neighbors=1)\n",
        "neighs.fit(data,Z)\n",
        "Y=[0,1,0,0,0]\n",
        "print(f\"La clase de Y={Y} es {neigh.predict([Y])} cuando K={1}\")"
      ],
      "execution_count": 38,
      "outputs": [
        {
          "output_type": "stream",
          "text": [
            "La clase de Y=[0, 1, 0, 0, 0] es ['C2'] cuando K=1\n"
          ],
          "name": "stdout"
        }
      ]
    },
    {
      "cell_type": "markdown",
      "metadata": {
        "id": "sIxaqlguDVkG",
        "colab_type": "text"
      },
      "source": [
        "*    Y={0,1,0,0,0] usando K = 5"
      ]
    },
    {
      "cell_type": "code",
      "metadata": {
        "id": "KX553FSGDYl2",
        "colab_type": "code",
        "colab": {
          "base_uri": "https://localhost:8080/",
          "height": 34
        },
        "outputId": "6846e71b-7844-49ec-9f93-403d030f4493"
      },
      "source": [
        "neighs = KNeighborsClassifier(n_neighbors=5)\n",
        "neighs.fit(data,Z)\n",
        "Y=[0,1,0,0,0]\n",
        "print(f\"La clase de Y={Y} es {neigh.predict([Y])} cuando K={5}\")"
      ],
      "execution_count": 39,
      "outputs": [
        {
          "output_type": "stream",
          "text": [
            "La clase de Y=[0, 1, 0, 0, 0] es ['C2'] cuando K=5\n"
          ],
          "name": "stdout"
        }
      ]
    },
    {
      "cell_type": "markdown",
      "metadata": {
        "id": "7Dr_SuCkDpG4",
        "colab_type": "text"
      },
      "source": [
        "**b)** Discuta los resultados:\n",
        "\n",
        "Lo que se puede concluir de los resultados anteriores es que a pesar que se aumento, para ambos objetos, el numero de vecinos para la clasificación, el algorítmo siempre siguió caracterizaándolos en la misma clase. Para el segundo caso, en particular, cuando K=5, se hizo una agrupación de todo el conjunto de datos, y aún así lo siguió agrupando en la clase C2, por lo que pareciera que el clasificador actua bien en este tipo de casos."
      ]
    },
    {
      "cell_type": "markdown",
      "metadata": {
        "id": "YdVmqTkUElQT",
        "colab_type": "text"
      },
      "source": [
        "## VALIDACIÓN"
      ]
    },
    {
      "cell_type": "markdown",
      "metadata": {
        "id": "Q6aKXgiaEt27",
        "colab_type": "text"
      },
      "source": [
        "Se tiene la siguiente tabla correspondiente a 10 registros con su clase (5 +, y 5 -), la clase corresponde\n",
        "a la segunda columna. La tercera columna corresponde a la probabilidad “Posterior” P(+|x) generada\n",
        "por un clasificador “Naive Bayes” ordenados. Las otras columnas corresponden a TP, FP, TN y FN\n",
        "cuando se clasifican todos los registros mayores a la P(+|x) del registro actual como clase +, y los\n",
        "que son menores a P(+|x) como clase -. Por ejemplo, los valores de la primera fila indican que los 10\n",
        "resgistros fueron clasificados como +, pero 5 son de la clase - (FP); los valores de la segunda fila indican\n",
        "que 9 registros fueron clasificados como +, y 1 como - (5 son de la clase -); los valores de la tercera fila\n",
        "indican que 8 registros fueron clasificados como +, de los cuales 4 son de la clase -."
      ]
    },
    {
      "cell_type": "markdown",
      "metadata": {
        "id": "p5YK-VzEHAs-",
        "colab_type": "text"
      },
      "source": [
        "**a)** Calcular la TPR y FPR\n",
        "\n",
        "\n",
        "\n",
        "![image.png](data:image/png;base64,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)"
      ]
    },
    {
      "cell_type": "markdown",
      "metadata": {
        "id": "xVRlv6knKMnn",
        "colab_type": "text"
      },
      "source": [
        "**1)** Dibujar la curva Receiver Operating Characteristics (ROC)"
      ]
    },
    {
      "cell_type": "code",
      "metadata": {
        "id": "nfz_1DXoG_2d",
        "colab_type": "code",
        "colab": {
          "base_uri": "https://localhost:8080/",
          "height": 295
        },
        "outputId": "042e27fa-0c94-4490-a289-874d5c3b179d"
      },
      "source": [
        "TPR=[1,0.8,0.8,0.6,0.6,0.6,0.6,0.4,0.4,0.2]\n",
        "FPR=[1,1,0.8,0.8,0.6,0.4,0.2,0.2,0,0]\n",
        "plt.plot(FPR, TPR, 'b-')\n",
        "plt.xlabel('Razón False-Positives')\n",
        "plt.ylabel('Razón True-Positives')\n",
        "plt.title('Curva ROC (Receiver operating characteristic)')\n",
        "plt.show()"
      ],
      "execution_count": 40,
      "outputs": [
        {
          "output_type": "display_data",
          "data": {
            "image/png": "[encoded data removed]",
            "text/plain": [
              "<Figure size 432x288 with 1 Axes>"
            ]
          },
          "metadata": {
            "tags": []
          }
        }
      ]
    },
    {
      "cell_type": "markdown",
      "metadata": {
        "id": "H9WMGhCyWE08",
        "colab_type": "text"
      },
      "source": [
        "## COMPARACION DE MODELOS"
      ]
    },
    {
      "cell_type": "markdown",
      "metadata": {
        "id": "_QFUDz76WLtE",
        "colab_type": "text"
      },
      "source": [
        "*    Usando los datos de la NBA,\n",
        "             1. Entrene un modelo de clasificación Naïve Bayes y evalúelo usando validación cruzada de tamaño 10\n",
        "             2. Entrene un árbol de decisión y evalúelo usando validación cruzada con 10\n",
        "             3. Cuál de los dos modelos es mejor?"
      ]
    },
    {
      "cell_type": "markdown",
      "metadata": {
        "id": "vYKuUJ5IWd9S",
        "colab_type": "text"
      },
      "source": [
        "**1)**"
      ]
    },
    {
      "cell_type": "code",
      "metadata": {
        "id": "E5_8w_JAWC-u",
        "colab_type": "code",
        "colab": {
          "base_uri": "https://localhost:8080/",
          "height": 377
        },
        "outputId": "aec18dca-24cd-438b-fb67-19fe7cba3eb0"
      },
      "source": [
        "from sklearn.model_selection import cross_validate\n",
        "\n",
        "nba=np.array(df)\n",
        "X = nba[:,:15]\n",
        "Y = nba[:,15:]\n",
        "NBayes = GaussianNB()\n",
        "cvNB= cross_validate(NBayes, X, Y, cv=10)\n"
      ],
      "execution_count": 41,
      "outputs": [
        {
          "output_type": "stream",
          "text": [
            "/usr/local/lib/python3.6/dist-packages/sklearn/utils/validation.py:724: DataConversionWarning: A column-vector y was passed when a 1d array was expected. Please change the shape of y to (n_samples, ), for example using ravel().\n",
            "  y = column_or_1d(y, warn=True)\n",
            "/usr/local/lib/python3.6/dist-packages/sklearn/utils/validation.py:724: DataConversionWarning: A column-vector y was passed when a 1d array was expected. Please change the shape of y to (n_samples, ), for example using ravel().\n",
            "  y = column_or_1d(y, warn=True)\n",
            "/usr/local/lib/python3.6/dist-packages/sklearn/utils/validation.py:724: DataConversionWarning: A column-vector y was passed when a 1d array was expected. Please change the shape of y to (n_samples, ), for example using ravel().\n",
            "  y = column_or_1d(y, warn=True)\n",
            "/usr/local/lib/python3.6/dist-packages/sklearn/utils/validation.py:724: DataConversionWarning: A column-vector y was passed when a 1d array was expected. Please change the shape of y to (n_samples, ), for example using ravel().\n",
            "  y = column_or_1d(y, warn=True)\n",
            "/usr/local/lib/python3.6/dist-packages/sklearn/utils/validation.py:724: DataConversionWarning: A column-vector y was passed when a 1d array was expected. Please change the shape of y to (n_samples, ), for example using ravel().\n",
            "  y = column_or_1d(y, warn=True)\n",
            "/usr/local/lib/python3.6/dist-packages/sklearn/utils/validation.py:724: DataConversionWarning: A column-vector y was passed when a 1d array was expected. Please change the shape of y to (n_samples, ), for example using ravel().\n",
            "  y = column_or_1d(y, warn=True)\n",
            "/usr/local/lib/python3.6/dist-packages/sklearn/utils/validation.py:724: DataConversionWarning: A column-vector y was passed when a 1d array was expected. Please change the shape of y to (n_samples, ), for example using ravel().\n",
            "  y = column_or_1d(y, warn=True)\n",
            "/usr/local/lib/python3.6/dist-packages/sklearn/utils/validation.py:724: DataConversionWarning: A column-vector y was passed when a 1d array was expected. Please change the shape of y to (n_samples, ), for example using ravel().\n",
            "  y = column_or_1d(y, warn=True)\n",
            "/usr/local/lib/python3.6/dist-packages/sklearn/utils/validation.py:724: DataConversionWarning: A column-vector y was passed when a 1d array was expected. Please change the shape of y to (n_samples, ), for example using ravel().\n",
            "  y = column_or_1d(y, warn=True)\n",
            "/usr/local/lib/python3.6/dist-packages/sklearn/utils/validation.py:724: DataConversionWarning: A column-vector y was passed when a 1d array was expected. Please change the shape of y to (n_samples, ), for example using ravel().\n",
            "  y = column_or_1d(y, warn=True)\n"
          ],
          "name": "stderr"
        }
      ]
    },
    {
      "cell_type": "code",
      "metadata": {
        "id": "sHI5Yx0SwSau",
        "colab_type": "code",
        "colab": {
          "base_uri": "https://localhost:8080/",
          "height": 51
        },
        "outputId": "aa6a1336-f1e5-4e72-f96d-c52ec2acecf0"
      },
      "source": [
        "cvNB['test_score']"
      ],
      "execution_count": 42,
      "outputs": [
        {
          "output_type": "execute_result",
          "data": {
            "text/plain": [
              "array([0.9375    , 0.90322581, 0.96774194, 0.96774194, 1.        ,\n",
              "       0.87096774, 1.        , 1.        , 1.        , 0.96666667])"
            ]
          },
          "metadata": {
            "tags": []
          },
          "execution_count": 42
        }
      ]
    },
    {
      "cell_type": "markdown",
      "metadata": {
        "id": "raHz_3u8x2ui",
        "colab_type": "text"
      },
      "source": [
        "**2)**"
      ]
    },
    {
      "cell_type": "code",
      "metadata": {
        "id": "Da7wi0l1x6fs",
        "colab_type": "code",
        "colab": {
          "base_uri": "https://localhost:8080/",
          "height": 51
        },
        "outputId": "641c861a-8218-464b-93a0-0c2af13adda3"
      },
      "source": [
        "Dectree=DecisionTreeClassifier()\n",
        "cvdectree= cross_validate(Dectree, X, Y, cv=10)\n",
        "cvdectree['test_score']"
      ],
      "execution_count": 43,
      "outputs": [
        {
          "output_type": "execute_result",
          "data": {
            "text/plain": [
              "array([0.84375   , 0.87096774, 0.90322581, 0.87096774, 0.96774194,\n",
              "       0.83870968, 0.96774194, 0.96666667, 0.96666667, 0.86666667])"
            ]
          },
          "metadata": {
            "tags": []
          },
          "execution_count": 43
        }
      ]
    },
    {
      "cell_type": "markdown",
      "metadata": {
        "id": "-qIVeE8jyd-K",
        "colab_type": "text"
      },
      "source": [
        "**3)** De los resultados obtenidos para cada una de los clasificadores en cada subconjunto de datos se puede ver que el que mejor clasifica es el hecho por el modelo de Naive bayes."
      ]
    },
    {
      "cell_type": "markdown",
      "metadata": {
        "id": "g7eEUB6qy4l8",
        "colab_type": "text"
      },
      "source": [
        "## CLASIFICACION CON COSTOS"
      ]
    },
    {
      "cell_type": "markdown",
      "metadata": {
        "id": "JbhlLVt-y8iu",
        "colab_type": "text"
      },
      "source": [
        "1. Utilice el conjunto de datos credit-german.csv\n",
        "2. Entrene un modelo Naïve Bayes usando validación cruzada\n",
        "3. Suponiendo que la clase Good es positiva, cuántos falsos positivos tiene el modelo resultante? cuántos\n",
        "falsos negativos? De acuerdo con el problem, qué tipo de error debería ser más costoso?\n",
        "4. Utilice MetaCost (operador: MetaCost) para sesgar el modelo de manera que se disminuya el número\n",
        "de errores costosos. Utilice una matriz de costo donde un tipo de error sea 10 veces más costoso que el\n",
        "otro.\n",
        "5. Evalue la matriz de confusión resultante y compárela con la original. Se cumplió el objetivo?"
      ]
    },
    {
      "cell_type": "markdown",
      "metadata": {
        "id": "CS0xoSImzIzg",
        "colab_type": "text"
      },
      "source": [
        "**1)**"
      ]
    },
    {
      "cell_type": "code",
      "metadata": {
        "id": "BilB7xiEzH_d",
        "colab_type": "code",
        "colab": {
          "base_uri": "https://localhost:8080/",
          "height": 292
        },
        "outputId": "bed09dfd-cf9b-44d0-ce05-b38b6c1e1759"
      },
      "source": [
        "dataf=pd.read_csv('credit-german.csv', sep=';')\n",
        "dataf.head(5)"
      ],
      "execution_count": 44,
      "outputs": [
        {
          "output_type": "execute_result",
          "data": {
            "text/html": [
              "<div>\n",
              "<style scoped>\n",
              "    .dataframe tbody tr th:only-of-type {\n",
              "        vertical-align: middle;\n",
              "    }\n",
              "\n",
              "    .dataframe tbody tr th {\n",
              "        vertical-align: top;\n",
              "    }\n",
              "\n",
              "    .dataframe thead th {\n",
              "        text-align: right;\n",
              "    }\n",
              "</style>\n",
              "<table border=\"1\" class=\"dataframe\">\n",
              "  <thead>\n",
              "    <tr style=\"text-align: right;\">\n",
              "      <th></th>\n",
              "      <th>checking_status</th>\n",
              "      <th>disc_duration</th>\n",
              "      <th>credit_history</th>\n",
              "      <th>purpose</th>\n",
              "      <th>credit_amount</th>\n",
              "      <th>savings_status</th>\n",
              "      <th>employment</th>\n",
              "      <th>personal_status</th>\n",
              "      <th>other_parties</th>\n",
              "      <th>property_magnitude</th>\n",
              "      <th>age</th>\n",
              "      <th>other_payment_plans</th>\n",
              "      <th>housing</th>\n",
              "      <th>existing_credits</th>\n",
              "      <th>job</th>\n",
              "      <th>num_dependents</th>\n",
              "      <th>own_telephone</th>\n",
              "      <th>foreign_worker</th>\n",
              "      <th>class</th>\n",
              "    </tr>\n",
              "  </thead>\n",
              "  <tbody>\n",
              "    <tr>\n",
              "      <th>0</th>\n",
              "      <td>&lt;0</td>\n",
              "      <td>6</td>\n",
              "      <td>critical/other existing</td>\n",
              "      <td>radio/tv</td>\n",
              "      <td>1169</td>\n",
              "      <td>no known savings</td>\n",
              "      <td>&gt;=7</td>\n",
              "      <td>male single</td>\n",
              "      <td>none</td>\n",
              "      <td>real estate</td>\n",
              "      <td>67</td>\n",
              "      <td>none</td>\n",
              "      <td>own</td>\n",
              "      <td>two</td>\n",
              "      <td>skilled</td>\n",
              "      <td>one</td>\n",
              "      <td>yes</td>\n",
              "      <td>yes</td>\n",
              "      <td>good</td>\n",
              "    </tr>\n",
              "    <tr>\n",
              "      <th>1</th>\n",
              "      <td>0&lt;=X&lt;200</td>\n",
              "      <td>48</td>\n",
              "      <td>existing paid</td>\n",
              "      <td>radio/tv</td>\n",
              "      <td>5951</td>\n",
              "      <td>&lt;100</td>\n",
              "      <td>1&lt;=X&lt;4</td>\n",
              "      <td>female div/dep/mar</td>\n",
              "      <td>none</td>\n",
              "      <td>real estate</td>\n",
              "      <td>22</td>\n",
              "      <td>none</td>\n",
              "      <td>own</td>\n",
              "      <td>one</td>\n",
              "      <td>skilled</td>\n",
              "      <td>one</td>\n",
              "      <td>none</td>\n",
              "      <td>yes</td>\n",
              "      <td>bad</td>\n",
              "    </tr>\n",
              "    <tr>\n",
              "      <th>2</th>\n",
              "      <td>no checking</td>\n",
              "      <td>12</td>\n",
              "      <td>critical/other existing</td>\n",
              "      <td>education</td>\n",
              "      <td>2096</td>\n",
              "      <td>&lt;100</td>\n",
              "      <td>4&lt;=X&lt;7</td>\n",
              "      <td>male single</td>\n",
              "      <td>none</td>\n",
              "      <td>real estate</td>\n",
              "      <td>49</td>\n",
              "      <td>none</td>\n",
              "      <td>own</td>\n",
              "      <td>one</td>\n",
              "      <td>unskilled resident</td>\n",
              "      <td>two</td>\n",
              "      <td>none</td>\n",
              "      <td>yes</td>\n",
              "      <td>good</td>\n",
              "    </tr>\n",
              "    <tr>\n",
              "      <th>3</th>\n",
              "      <td>&lt;0</td>\n",
              "      <td>42</td>\n",
              "      <td>existing paid</td>\n",
              "      <td>furniture/equipment</td>\n",
              "      <td>7882</td>\n",
              "      <td>&lt;100</td>\n",
              "      <td>4&lt;=X&lt;7</td>\n",
              "      <td>male single</td>\n",
              "      <td>guarantor</td>\n",
              "      <td>life insurance</td>\n",
              "      <td>45</td>\n",
              "      <td>none</td>\n",
              "      <td>for free</td>\n",
              "      <td>one</td>\n",
              "      <td>skilled</td>\n",
              "      <td>two</td>\n",
              "      <td>none</td>\n",
              "      <td>yes</td>\n",
              "      <td>good</td>\n",
              "    </tr>\n",
              "    <tr>\n",
              "      <th>4</th>\n",
              "      <td>&lt;0</td>\n",
              "      <td>24</td>\n",
              "      <td>delayed previously</td>\n",
              "      <td>new car</td>\n",
              "      <td>4870</td>\n",
              "      <td>&lt;100</td>\n",
              "      <td>1&lt;=X&lt;4</td>\n",
              "      <td>male single</td>\n",
              "      <td>none</td>\n",
              "      <td>no known property</td>\n",
              "      <td>53</td>\n",
              "      <td>none</td>\n",
              "      <td>for free</td>\n",
              "      <td>two</td>\n",
              "      <td>skilled</td>\n",
              "      <td>two</td>\n",
              "      <td>none</td>\n",
              "      <td>yes</td>\n",
              "      <td>bad</td>\n",
              "    </tr>\n",
              "  </tbody>\n",
              "</table>\n",
              "</div>"
            ],
            "text/plain": [
              "  checking_status  disc_duration  ... foreign_worker class\n",
              "0              <0              6  ...            yes  good\n",
              "1        0<=X<200             48  ...            yes   bad\n",
              "2     no checking             12  ...            yes  good\n",
              "3              <0             42  ...            yes  good\n",
              "4              <0             24  ...            yes   bad\n",
              "\n",
              "[5 rows x 19 columns]"
            ]
          },
          "metadata": {
            "tags": []
          },
          "execution_count": 44
        }
      ]
    },
    {
      "cell_type": "markdown",
      "metadata": {
        "id": "yRFFAf5Vz1b1",
        "colab_type": "text"
      },
      "source": [
        "**2)**"
      ]
    },
    {
      "cell_type": "code",
      "metadata": {
        "id": "7ryGiU4f4PeC",
        "colab_type": "code",
        "colab": {
          "base_uri": "https://localhost:8080/",
          "height": 275
        },
        "outputId": "92eeb021-bc6a-4842-8a59-1d71012f7597"
      },
      "source": [
        "df=dataf\n",
        "for i in df.columns:\n",
        "  if type(df[i][5])!= np.int64:\n",
        "    df[i]=discrt(df[i])\n",
        "credit=np.array(df)\n",
        "X = credit[:,:18]\n",
        "Y = credit[:,18:]\n",
        "NB = GaussianNB()\n",
        "cvNB= cross_validate(NB, X, Y, cv=7)"
      ],
      "execution_count": 45,
      "outputs": [
        {
          "output_type": "stream",
          "text": [
            "/usr/local/lib/python3.6/dist-packages/sklearn/utils/validation.py:724: DataConversionWarning: A column-vector y was passed when a 1d array was expected. Please change the shape of y to (n_samples, ), for example using ravel().\n",
            "  y = column_or_1d(y, warn=True)\n",
            "/usr/local/lib/python3.6/dist-packages/sklearn/utils/validation.py:724: DataConversionWarning: A column-vector y was passed when a 1d array was expected. Please change the shape of y to (n_samples, ), for example using ravel().\n",
            "  y = column_or_1d(y, warn=True)\n",
            "/usr/local/lib/python3.6/dist-packages/sklearn/utils/validation.py:724: DataConversionWarning: A column-vector y was passed when a 1d array was expected. Please change the shape of y to (n_samples, ), for example using ravel().\n",
            "  y = column_or_1d(y, warn=True)\n",
            "/usr/local/lib/python3.6/dist-packages/sklearn/utils/validation.py:724: DataConversionWarning: A column-vector y was passed when a 1d array was expected. Please change the shape of y to (n_samples, ), for example using ravel().\n",
            "  y = column_or_1d(y, warn=True)\n",
            "/usr/local/lib/python3.6/dist-packages/sklearn/utils/validation.py:724: DataConversionWarning: A column-vector y was passed when a 1d array was expected. Please change the shape of y to (n_samples, ), for example using ravel().\n",
            "  y = column_or_1d(y, warn=True)\n",
            "/usr/local/lib/python3.6/dist-packages/sklearn/utils/validation.py:724: DataConversionWarning: A column-vector y was passed when a 1d array was expected. Please change the shape of y to (n_samples, ), for example using ravel().\n",
            "  y = column_or_1d(y, warn=True)\n",
            "/usr/local/lib/python3.6/dist-packages/sklearn/utils/validation.py:724: DataConversionWarning: A column-vector y was passed when a 1d array was expected. Please change the shape of y to (n_samples, ), for example using ravel().\n",
            "  y = column_or_1d(y, warn=True)\n"
          ],
          "name": "stderr"
        }
      ]
    },
    {
      "cell_type": "code",
      "metadata": {
        "id": "JE5QiJTnz-Yf",
        "colab_type": "code",
        "colab": {
          "base_uri": "https://localhost:8080/",
          "height": 51
        },
        "outputId": "1e379655-7487-4b8c-ffa7-58fd579574c5"
      },
      "source": [
        "pred=cvNB['test_score']\n",
        "pred"
      ],
      "execution_count": 48,
      "outputs": [
        {
          "output_type": "execute_result",
          "data": {
            "text/plain": [
              "array([0.73426573, 0.74825175, 0.67132867, 0.69230769, 0.68531469,\n",
              "       0.69230769, 0.73239437])"
            ]
          },
          "metadata": {
            "tags": []
          },
          "execution_count": 48
        }
      ]
    }
  ]
}