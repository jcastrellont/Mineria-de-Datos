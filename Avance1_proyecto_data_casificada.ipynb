{
  "nbformat": 4,
  "nbformat_minor": 0,
  "metadata": {
    "colab": {
      "name": "Avance1_proyecto_data_casificada.ipynb",
      "provenance": [],
      "collapsed_sections": []
    },
    "kernelspec": {
      "name": "python3",
      "display_name": "Python 3"
    }
  },
  "cells": [
    {
      "cell_type": "markdown",
      "metadata": {
        "id": "T1qXJTK6dQEC",
        "colab_type": "text"
      },
      "source": [
        "# Avance 1: Análisis exploratorio y preprocesamiento de datos"
      ]
    },
    {
      "cell_type": "markdown",
      "metadata": {
        "id": "Uz8JeR2-exAo",
        "colab_type": "text"
      },
      "source": [
        "## Pre-Procesamiento:"
      ]
    },
    {
      "cell_type": "markdown",
      "metadata": {
        "id": "oheomCLwdeyX",
        "colab_type": "text"
      },
      "source": [
        "A continuación, se cargan las librerias necesarias para el trabajo a realizar:"
      ]
    },
    {
      "cell_type": "code",
      "metadata": {
        "id": "8qaNlHK8Kb6B",
        "colab_type": "code",
        "colab": {}
      },
      "source": [
        "import json\n",
        "import csv\n",
        "import pandas as pd\n",
        "import numpy as np\n",
        "from pandas.io.json import json_normalize\n",
        "import nltk\n",
        "import string\n",
        "import seaborn as sns\n",
        "import matplotlib.pyplot as plt\n",
        "from bs4 import BeautifulSoup\n",
        "from nltk.corpus import stopwords\n",
        "from nltk.tokenize import RegexpTokenizer\n",
        "from nltk.stem import WordNetLemmatizer\n",
        "from nltk.stem.porter import PorterStemmer\n",
        "nltk.download('wordnet')"
      ],
      "execution_count": 0,
      "outputs": []
    },
    {
      "cell_type": "markdown",
      "metadata": {
        "id": "GV1HEUt0dmvx",
        "colab_type": "text"
      },
      "source": [
        "Se carga nuestro conjunto de datos, que como se puede observar se encuentra en formato JSON, y posteriormente se visualiza:"
      ]
    },
    {
      "cell_type": "code",
      "metadata": {
        "id": "u5q_OUrDKfMP",
        "colab_type": "code",
        "colab": {}
      },
      "source": [
        "with open('ICMLA.json') as file:\n",
        "  data2=json.load(file)"
      ],
      "execution_count": 0,
      "outputs": []
    },
    {
      "cell_type": "markdown",
      "metadata": {
        "id": "aalIE0EEd1DR",
        "colab_type": "text"
      },
      "source": [
        "Se puede notar del conjunto de datos que se tienen 6 atributos en los cuales se caracterizan las dimensiones de nuestros datos:"
      ]
    },
    {
      "cell_type": "code",
      "metadata": {
        "id": "JOsGPZrzNY_X",
        "colab_type": "code",
        "outputId": "bcd9b8cf-b30f-4f8c-aeb9-bbf902a7a471",
        "colab": {
          "base_uri": "https://localhost:8080/",
          "height": 289
        }
      },
      "source": [
        "df2=pd.DataFrame.from_dict(json_normalize(data2))\n",
        "df2.head(5)"
      ],
      "execution_count": 0,
      "outputs": [
        {
          "output_type": "execute_result",
          "data": {
            "text/html": [
              "<div>\n",
              "<style scoped>\n",
              "    .dataframe tbody tr th:only-of-type {\n",
              "        vertical-align: middle;\n",
              "    }\n",
              "\n",
              "    .dataframe tbody tr th {\n",
              "        vertical-align: top;\n",
              "    }\n",
              "\n",
              "    .dataframe thead th {\n",
              "        text-align: right;\n",
              "    }\n",
              "</style>\n",
              "<table border=\"1\" class=\"dataframe\">\n",
              "  <thead>\n",
              "    <tr style=\"text-align: right;\">\n",
              "      <th></th>\n",
              "      <th>abstract</th>\n",
              "      <th>keywords</th>\n",
              "      <th>paper_id</th>\n",
              "      <th>session</th>\n",
              "      <th>title</th>\n",
              "      <th>year</th>\n",
              "    </tr>\n",
              "  </thead>\n",
              "  <tbody>\n",
              "    <tr>\n",
              "      <th>0</th>\n",
              "      <td>Statistical word alignment models need large a...</td>\n",
              "      <td>statistical word alignment, ensemble learning,...</td>\n",
              "      <td>1</td>\n",
              "      <td>Ensemble Methods</td>\n",
              "      <td>Ensemble Statistical and Heuristic Models for ...</td>\n",
              "      <td>2014</td>\n",
              "    </tr>\n",
              "    <tr>\n",
              "      <th>1</th>\n",
              "      <td>Spectral learning algorithms learn an unknown ...</td>\n",
              "      <td>representation, spectral learning, discrete fo...</td>\n",
              "      <td>2</td>\n",
              "      <td>Ensemble Methods</td>\n",
              "      <td>Improving Spectral Learning by Using Multiple ...</td>\n",
              "      <td>2014</td>\n",
              "    </tr>\n",
              "    <tr>\n",
              "      <th>2</th>\n",
              "      <td>Number of defects remaining in a system provid...</td>\n",
              "      <td>software defect prediction, particle swarm opt...</td>\n",
              "      <td>3</td>\n",
              "      <td>Ensemble Methods</td>\n",
              "      <td>Applying Swarm Ensemble Clustering Technique f...</td>\n",
              "      <td>2014</td>\n",
              "    </tr>\n",
              "    <tr>\n",
              "      <th>3</th>\n",
              "      <td>Not all instances in a data set are equally be...</td>\n",
              "      <td>filtering, label noise, instance weighting</td>\n",
              "      <td>4</td>\n",
              "      <td>Ensemble Methods</td>\n",
              "      <td>Reducing the Effects of Detrimental Instances</td>\n",
              "      <td>2014</td>\n",
              "    </tr>\n",
              "    <tr>\n",
              "      <th>4</th>\n",
              "      <td>Learning in non-stationary environments is not...</td>\n",
              "      <td>twitter, adaptation models, time-frequency ana...</td>\n",
              "      <td>5</td>\n",
              "      <td>Ensemble Methods</td>\n",
              "      <td>Concept Drift Awareness in Twitter Streams</td>\n",
              "      <td>2014</td>\n",
              "    </tr>\n",
              "  </tbody>\n",
              "</table>\n",
              "</div>"
            ],
            "text/plain": [
              "                                            abstract  ...  year\n",
              "0  Statistical word alignment models need large a...  ...  2014\n",
              "1  Spectral learning algorithms learn an unknown ...  ...  2014\n",
              "2  Number of defects remaining in a system provid...  ...  2014\n",
              "3  Not all instances in a data set are equally be...  ...  2014\n",
              "4  Learning in non-stationary environments is not...  ...  2014\n",
              "\n",
              "[5 rows x 6 columns]"
            ]
          },
          "metadata": {
            "tags": []
          },
          "execution_count": 3
        }
      ]
    },
    {
      "cell_type": "code",
      "metadata": {
        "id": "oBCSKztmbqBe",
        "colab_type": "code",
        "outputId": "6154c799-0091-4b73-e981-e7e3dc0327b0",
        "colab": {
          "base_uri": "https://localhost:8080/",
          "height": 34
        }
      },
      "source": [
        "df2.shape"
      ],
      "execution_count": 0,
      "outputs": [
        {
          "output_type": "execute_result",
          "data": {
            "text/plain": [
              "(448, 6)"
            ]
          },
          "metadata": {
            "tags": []
          },
          "execution_count": 4
        }
      ]
    },
    {
      "cell_type": "markdown",
      "metadata": {
        "id": "JSeNd2_WeCDs",
        "colab_type": "text"
      },
      "source": [
        "Se quiere ver el porcentaje de datos faltantes en nuestro conjunto de datos, y claramente se observa que no hacen falta datos de los que se recolectaron por cada uno de los objetos. \n",
        "\n",
        "Luego de esto se observa el tipo de dato que tenemos en cada uno de los atributos."
      ]
    },
    {
      "cell_type": "code",
      "metadata": {
        "id": "2rfVqhgC3HbN",
        "colab_type": "code",
        "outputId": "d58cd774-aa0f-4f94-9e49-c61a8ebff2ce",
        "colab": {
          "base_uri": "https://localhost:8080/",
          "height": 136
        }
      },
      "source": [
        "## porcentaje de datos faltantes por columna en df2\n",
        "df2.isnull().mean().sort_values(ascending=False)"
      ],
      "execution_count": 0,
      "outputs": [
        {
          "output_type": "execute_result",
          "data": {
            "text/plain": [
              "year        0.0\n",
              "title       0.0\n",
              "session     0.0\n",
              "paper_id    0.0\n",
              "keywords    0.0\n",
              "abstract    0.0\n",
              "dtype: float64"
            ]
          },
          "metadata": {
            "tags": []
          },
          "execution_count": 5
        }
      ]
    },
    {
      "cell_type": "code",
      "metadata": {
        "id": "JP_NGmlw4Hg7",
        "colab_type": "code",
        "outputId": "d72f6d09-45eb-493e-ef5c-d411524e4174",
        "colab": {
          "base_uri": "https://localhost:8080/",
          "height": 136
        }
      },
      "source": [
        "## Tipos de datos en cada columna de df\n",
        "df2.dtypes"
      ],
      "execution_count": 0,
      "outputs": [
        {
          "output_type": "execute_result",
          "data": {
            "text/plain": [
              "abstract    object\n",
              "keywords    object\n",
              "paper_id     int64\n",
              "session     object\n",
              "title       object\n",
              "year         int64\n",
              "dtype: object"
            ]
          },
          "metadata": {
            "tags": []
          },
          "execution_count": 6
        }
      ]
    },
    {
      "cell_type": "markdown",
      "metadata": {
        "id": "JKQpFFZKedI1",
        "colab_type": "text"
      },
      "source": [
        "Dado que nuestro objetivo es clasificar los artículos, se procede a contar la cantidad de clases que se tienen y su frecuencia, se nota que aquel con mas frecuencia tiene 20 artículos."
      ]
    },
    {
      "cell_type": "code",
      "metadata": {
        "id": "HArMnEvf54am",
        "colab_type": "code",
        "outputId": "9013074a-0d4c-491f-f999-ff40b3db0955",
        "colab": {
          "base_uri": "https://localhost:8080/",
          "height": 204
        }
      },
      "source": [
        "# listar los objetos en Session de df2\n",
        "clase = pd.DataFrame(df2['session'].value_counts())\n",
        "clase.head(5)"
      ],
      "execution_count": 0,
      "outputs": [
        {
          "output_type": "execute_result",
          "data": {
            "text/html": [
              "<div>\n",
              "<style scoped>\n",
              "    .dataframe tbody tr th:only-of-type {\n",
              "        vertical-align: middle;\n",
              "    }\n",
              "\n",
              "    .dataframe tbody tr th {\n",
              "        vertical-align: top;\n",
              "    }\n",
              "\n",
              "    .dataframe thead th {\n",
              "        text-align: right;\n",
              "    }\n",
              "</style>\n",
              "<table border=\"1\" class=\"dataframe\">\n",
              "  <thead>\n",
              "    <tr style=\"text-align: right;\">\n",
              "      <th></th>\n",
              "      <th>session</th>\n",
              "    </tr>\n",
              "  </thead>\n",
              "  <tbody>\n",
              "    <tr>\n",
              "      <th>Machine Learning in Energy Applications</th>\n",
              "      <td>20</td>\n",
              "    </tr>\n",
              "    <tr>\n",
              "      <th>Machine Learning for Predictive Models in Engineering Applications</th>\n",
              "      <td>19</td>\n",
              "    </tr>\n",
              "    <tr>\n",
              "      <th>Machine Learning Algorithms Systems and Applications</th>\n",
              "      <td>16</td>\n",
              "    </tr>\n",
              "    <tr>\n",
              "      <th>Machine Learning in Information and System Security Issues</th>\n",
              "      <td>15</td>\n",
              "    </tr>\n",
              "    <tr>\n",
              "      <th>Machine Learning Algorithms, Systems and Applications Workshop</th>\n",
              "      <td>11</td>\n",
              "    </tr>\n",
              "  </tbody>\n",
              "</table>\n",
              "</div>"
            ],
            "text/plain": [
              "                                                    session\n",
              "Machine Learning in Energy Applications                  20\n",
              "Machine Learning for Predictive Models in Engin...       19\n",
              "Machine Learning Algorithms Systems and Applica...       16\n",
              "Machine Learning in Information and System Secu...       15\n",
              "Machine Learning Algorithms, Systems and Applic...       11"
            ]
          },
          "metadata": {
            "tags": []
          },
          "execution_count": 7
        }
      ]
    },
    {
      "cell_type": "markdown",
      "metadata": {
        "id": "VrSQARYde38D",
        "colab_type": "text"
      },
      "source": [
        "## Pre-procesamiento"
      ]
    },
    {
      "cell_type": "markdown",
      "metadata": {
        "id": "ziscpoUue7Bv",
        "colab_type": "text"
      },
      "source": [
        "Lo que se realiza ahora es discretizar la clasificación de los artículos, para esto, se le asigna un número a cada clase y se trabajara de esta manera con las clases como números discretos."
      ]
    },
    {
      "cell_type": "code",
      "metadata": {
        "id": "d8iV_xZl6hUu",
        "colab_type": "code",
        "outputId": "b74c3822-57fd-45be-804d-7d63d3f8adc9",
        "colab": {
          "base_uri": "https://localhost:8080/",
          "height": 122
        }
      },
      "source": [
        "dfdiscr=df2\n",
        "for j in range(0,83):\n",
        "  for i in range(0,448):\n",
        "    if dfdiscr['session'][i]==clase.index[j]:\n",
        "      dfdiscr['session'][i]=j\n",
        "     \n"
      ],
      "execution_count": 0,
      "outputs": [
        {
          "output_type": "stream",
          "text": [
            "/usr/local/lib/python3.6/dist-packages/ipykernel_launcher.py:5: SettingWithCopyWarning: \n",
            "A value is trying to be set on a copy of a slice from a DataFrame\n",
            "\n",
            "See the caveats in the documentation: http://pandas.pydata.org/pandas-docs/stable/indexing.html#indexing-view-versus-copy\n",
            "  \"\"\"\n"
          ],
          "name": "stderr"
        }
      ]
    },
    {
      "cell_type": "code",
      "metadata": {
        "id": "-PUfHy3NlpMT",
        "colab_type": "code",
        "outputId": "80af42df-1e90-41f1-f1d1-f776c30b8c46",
        "colab": {
          "base_uri": "https://localhost:8080/",
          "height": 320
        }
      },
      "source": [
        "dfdiscr=dfdiscr.set_index('paper_id')\n",
        "dfdiscr.rename(columns={'session':'classification'},inplace=True)\n",
        "cols = dfdiscr.columns.tolist()\n",
        "cols = cols[-2:] + cols[:-2]\n",
        "dfdisc = dfdiscr[cols]\n",
        "\n",
        "\n",
        "\n",
        "\n",
        "dfdisc.head(5)"
      ],
      "execution_count": 0,
      "outputs": [
        {
          "output_type": "execute_result",
          "data": {
            "text/html": [
              "<div>\n",
              "<style scoped>\n",
              "    .dataframe tbody tr th:only-of-type {\n",
              "        vertical-align: middle;\n",
              "    }\n",
              "\n",
              "    .dataframe tbody tr th {\n",
              "        vertical-align: top;\n",
              "    }\n",
              "\n",
              "    .dataframe thead th {\n",
              "        text-align: right;\n",
              "    }\n",
              "</style>\n",
              "<table border=\"1\" class=\"dataframe\">\n",
              "  <thead>\n",
              "    <tr style=\"text-align: right;\">\n",
              "      <th></th>\n",
              "      <th>title</th>\n",
              "      <th>year</th>\n",
              "      <th>abstract</th>\n",
              "      <th>keywords</th>\n",
              "      <th>classification</th>\n",
              "    </tr>\n",
              "    <tr>\n",
              "      <th>paper_id</th>\n",
              "      <th></th>\n",
              "      <th></th>\n",
              "      <th></th>\n",
              "      <th></th>\n",
              "      <th></th>\n",
              "    </tr>\n",
              "  </thead>\n",
              "  <tbody>\n",
              "    <tr>\n",
              "      <th>1</th>\n",
              "      <td>Ensemble Statistical and Heuristic Models for ...</td>\n",
              "      <td>2014</td>\n",
              "      <td>Statistical word alignment models need large a...</td>\n",
              "      <td>statistical word alignment, ensemble learning,...</td>\n",
              "      <td>10</td>\n",
              "    </tr>\n",
              "    <tr>\n",
              "      <th>2</th>\n",
              "      <td>Improving Spectral Learning by Using Multiple ...</td>\n",
              "      <td>2014</td>\n",
              "      <td>Spectral learning algorithms learn an unknown ...</td>\n",
              "      <td>representation, spectral learning, discrete fo...</td>\n",
              "      <td>10</td>\n",
              "    </tr>\n",
              "    <tr>\n",
              "      <th>3</th>\n",
              "      <td>Applying Swarm Ensemble Clustering Technique f...</td>\n",
              "      <td>2014</td>\n",
              "      <td>Number of defects remaining in a system provid...</td>\n",
              "      <td>software defect prediction, particle swarm opt...</td>\n",
              "      <td>10</td>\n",
              "    </tr>\n",
              "    <tr>\n",
              "      <th>4</th>\n",
              "      <td>Reducing the Effects of Detrimental Instances</td>\n",
              "      <td>2014</td>\n",
              "      <td>Not all instances in a data set are equally be...</td>\n",
              "      <td>filtering, label noise, instance weighting</td>\n",
              "      <td>10</td>\n",
              "    </tr>\n",
              "    <tr>\n",
              "      <th>5</th>\n",
              "      <td>Concept Drift Awareness in Twitter Streams</td>\n",
              "      <td>2014</td>\n",
              "      <td>Learning in non-stationary environments is not...</td>\n",
              "      <td>twitter, adaptation models, time-frequency ana...</td>\n",
              "      <td>10</td>\n",
              "    </tr>\n",
              "  </tbody>\n",
              "</table>\n",
              "</div>"
            ],
            "text/plain": [
              "                                                      title  ...  classification\n",
              "paper_id                                                     ...                \n",
              "1         Ensemble Statistical and Heuristic Models for ...  ...              10\n",
              "2         Improving Spectral Learning by Using Multiple ...  ...              10\n",
              "3         Applying Swarm Ensemble Clustering Technique f...  ...              10\n",
              "4             Reducing the Effects of Detrimental Instances  ...              10\n",
              "5                Concept Drift Awareness in Twitter Streams  ...              10\n",
              "\n",
              "[5 rows x 5 columns]"
            ]
          },
          "metadata": {
            "tags": []
          },
          "execution_count": 9
        }
      ]
    },
    {
      "cell_type": "markdown",
      "metadata": {
        "id": "1UrPeN0-fQ88",
        "colab_type": "text"
      },
      "source": [
        "Como nuestro objeto de estudio es el abstract, se quiere ver como influye este en la clasificación de nuestros artículos, para esto, debemos darle un tratamiento de tal manera que se pueda interpretar de manera más sencilla, un primer paso, es eliminar todos los signos de puntuación que esten presente en el, esto debido a que estamos interesados únicamente en las palabras claves más recurrentes que podamos encontrar. Una vez hecho esto, se muestra el resultado del abstract sin sus signos de puntuación."
      ]
    },
    {
      "cell_type": "code",
      "metadata": {
        "id": "tqWm7j5nK2dI",
        "colab_type": "code",
        "colab": {}
      },
      "source": [
        "def remove_punctuation(text):\n",
        "  no_punt = \"\".join([c for c in text if c not in string.punctuation])\n",
        "  return no_punt"
      ],
      "execution_count": 0,
      "outputs": []
    },
    {
      "cell_type": "code",
      "metadata": {
        "id": "0oktpPE0LH4m",
        "colab_type": "code",
        "outputId": "46736e25-b925-41b0-9d7a-510b6a364a79",
        "colab": {
          "base_uri": "https://localhost:8080/",
          "height": 136
        }
      },
      "source": [
        "#Quitar puntuación en abstracts\n",
        "dfnopunt=dfdisc\n",
        "dfnopunt['abstract'] = dfnopunt['abstract'].apply(lambda x: remove_punctuation(x))\n",
        "abstr=dfnopunt['abstract']\n",
        "abstr.head(5)"
      ],
      "execution_count": 0,
      "outputs": [
        {
          "output_type": "execute_result",
          "data": {
            "text/plain": [
              "paper_id\n",
              "1    Statistical word alignment models need large a...\n",
              "2    Spectral learning algorithms learn an unknown ...\n",
              "3    Number of defects remaining in a system provid...\n",
              "4    Not all instances in a data set are equally be...\n",
              "5    Learning in nonstationary environments is not ...\n",
              "Name: abstract, dtype: object"
            ]
          },
          "metadata": {
            "tags": []
          },
          "execution_count": 11
        }
      ]
    },
    {
      "cell_type": "markdown",
      "metadata": {
        "id": "b2AxzoMif-GZ",
        "colab_type": "text"
      },
      "source": [
        "Otro aspecto importante a tener en cuenta es que hay palabras que no son relevantes a la hora de tratar de buscar nuestras palabras claves, estas palabras las denominaremos como Stop_words, y el tratamiento que les daremos es eliminarlas y únicamente trabajar con aquellas que me puedan dar información más relevante del artículo, obteniendo así vector con palabras por cada abstract."
      ]
    },
    {
      "cell_type": "code",
      "metadata": {
        "id": "F3UL8EgwH745",
        "colab_type": "code",
        "colab": {}
      },
      "source": [
        "def text_process(mess):\n",
        "    nopunc=[char for char in mess if char not in string.punctuation]\n",
        "    \n",
        "    nopunc=''.join(nopunc)\n",
        "    \n",
        "    return [word for word in nopunc.split() if word.lower() not in stopwords.words('english') ]"
      ],
      "execution_count": 0,
      "outputs": []
    },
    {
      "cell_type": "code",
      "metadata": {
        "id": "MdxaWh7UIDY8",
        "colab_type": "code",
        "outputId": "d53f6df6-5994-4f0d-aa9f-d48e03a9de08",
        "colab": {
          "base_uri": "https://localhost:8080/",
          "height": 170
        }
      },
      "source": [
        "nltk.download('stopwords')\n",
        "abstract=dfdisc['abstract'].apply(text_process)\n",
        "abstract.head(5)"
      ],
      "execution_count": 0,
      "outputs": [
        {
          "output_type": "stream",
          "text": [
            "[nltk_data] Downloading package stopwords to /root/nltk_data...\n",
            "[nltk_data]   Unzipping corpora/stopwords.zip.\n"
          ],
          "name": "stdout"
        },
        {
          "output_type": "execute_result",
          "data": {
            "text/plain": [
              "paper_id\n",
              "1    [Statistical, word, alignment, models, need, l...\n",
              "2    [Spectral, learning, algorithms, learn, unknow...\n",
              "3    [Number, defects, remaining, system, provides,...\n",
              "4    [instances, data, set, equally, beneficial, in...\n",
              "5    [Learning, nonstationary, environments, easy, ...\n",
              "Name: abstract, dtype: object"
            ]
          },
          "metadata": {
            "tags": []
          },
          "execution_count": 15
        }
      ]
    },
    {
      "cell_type": "markdown",
      "metadata": {
        "id": "1ZeyWcZ0gmt7",
        "colab_type": "text"
      },
      "source": [
        "De esta manera, se obtiene el dataset completamente transforado y con los atributos que realmente nos interesan, además de tener los datos en la estructura en la que se nos facilitará trabajarlos."
      ]
    },
    {
      "cell_type": "code",
      "metadata": {
        "id": "le5oPe3lLj75",
        "colab_type": "code",
        "outputId": "2569ec0a-210e-4b64-ae2f-6d6ffb55c5e1",
        "colab": {
          "base_uri": "https://localhost:8080/",
          "height": 371
        }
      },
      "source": [
        "dfdisc['year']=abstract.apply(len)\n",
        "dfdisc['abstract']=abstract\n",
        "dfdisc.rename(columns={'year':'abstract_length'},inplace=True)\n",
        "dfdisc.head(5)"
      ],
      "execution_count": 0,
      "outputs": [
        {
          "output_type": "execute_result",
          "data": {
            "text/html": [
              "<div>\n",
              "<style scoped>\n",
              "    .dataframe tbody tr th:only-of-type {\n",
              "        vertical-align: middle;\n",
              "    }\n",
              "\n",
              "    .dataframe tbody tr th {\n",
              "        vertical-align: top;\n",
              "    }\n",
              "\n",
              "    .dataframe thead th {\n",
              "        text-align: right;\n",
              "    }\n",
              "</style>\n",
              "<table border=\"1\" class=\"dataframe\">\n",
              "  <thead>\n",
              "    <tr style=\"text-align: right;\">\n",
              "      <th></th>\n",
              "      <th>title</th>\n",
              "      <th>abstract_length</th>\n",
              "      <th>abstract</th>\n",
              "      <th>keywords</th>\n",
              "      <th>classification</th>\n",
              "    </tr>\n",
              "    <tr>\n",
              "      <th>paper_id</th>\n",
              "      <th></th>\n",
              "      <th></th>\n",
              "      <th></th>\n",
              "      <th></th>\n",
              "      <th></th>\n",
              "    </tr>\n",
              "  </thead>\n",
              "  <tbody>\n",
              "    <tr>\n",
              "      <th>1</th>\n",
              "      <td>Ensemble Statistical and Heuristic Models for ...</td>\n",
              "      <td>77</td>\n",
              "      <td>[Statistical, word, alignment, models, need, l...</td>\n",
              "      <td>statistical word alignment, ensemble learning,...</td>\n",
              "      <td>10</td>\n",
              "    </tr>\n",
              "    <tr>\n",
              "      <th>2</th>\n",
              "      <td>Improving Spectral Learning by Using Multiple ...</td>\n",
              "      <td>61</td>\n",
              "      <td>[Spectral, learning, algorithms, learn, unknow...</td>\n",
              "      <td>representation, spectral learning, discrete fo...</td>\n",
              "      <td>10</td>\n",
              "    </tr>\n",
              "    <tr>\n",
              "      <th>3</th>\n",
              "      <td>Applying Swarm Ensemble Clustering Technique f...</td>\n",
              "      <td>75</td>\n",
              "      <td>[Number, defects, remaining, system, provides,...</td>\n",
              "      <td>software defect prediction, particle swarm opt...</td>\n",
              "      <td>10</td>\n",
              "    </tr>\n",
              "    <tr>\n",
              "      <th>4</th>\n",
              "      <td>Reducing the Effects of Detrimental Instances</td>\n",
              "      <td>110</td>\n",
              "      <td>[instances, data, set, equally, beneficial, in...</td>\n",
              "      <td>filtering, label noise, instance weighting</td>\n",
              "      <td>10</td>\n",
              "    </tr>\n",
              "    <tr>\n",
              "      <th>5</th>\n",
              "      <td>Concept Drift Awareness in Twitter Streams</td>\n",
              "      <td>107</td>\n",
              "      <td>[Learning, nonstationary, environments, easy, ...</td>\n",
              "      <td>twitter, adaptation models, time-frequency ana...</td>\n",
              "      <td>10</td>\n",
              "    </tr>\n",
              "  </tbody>\n",
              "</table>\n",
              "</div>"
            ],
            "text/plain": [
              "                                                      title  ...  classification\n",
              "paper_id                                                     ...                \n",
              "1         Ensemble Statistical and Heuristic Models for ...  ...              10\n",
              "2         Improving Spectral Learning by Using Multiple ...  ...              10\n",
              "3         Applying Swarm Ensemble Clustering Technique f...  ...              10\n",
              "4             Reducing the Effects of Detrimental Instances  ...              10\n",
              "5                Concept Drift Awareness in Twitter Streams  ...              10\n",
              "\n",
              "[5 rows x 5 columns]"
            ]
          },
          "metadata": {
            "tags": []
          },
          "execution_count": 16
        }
      ]
    },
    {
      "cell_type": "markdown",
      "metadata": {
        "id": "ZPny_zqyg30A",
        "colab_type": "text"
      },
      "source": [
        "Algunos cálculos adicionales, que nos podrán servir para no tener en cuenta algunos objetos del dataset, es la cantidad de palabras que tengamos en cada abstract, acá por ejemplo vemos lo alejado que esta el que mas palabras contiene en su abstract (191) de la media que son aproximadamente 96. Esto nos ayudará a visualizar un poco mejor los datos con los que se cuenta."
      ]
    },
    {
      "cell_type": "code",
      "metadata": {
        "id": "bDeSE_XRLkIK",
        "colab_type": "code",
        "outputId": "5324e84f-d429-44b0-f24c-dbbed8b5b915",
        "colab": {
          "base_uri": "https://localhost:8080/",
          "height": 297
        }
      },
      "source": [
        "dfdisc.describe()"
      ],
      "execution_count": 0,
      "outputs": [
        {
          "output_type": "execute_result",
          "data": {
            "text/html": [
              "<div>\n",
              "<style scoped>\n",
              "    .dataframe tbody tr th:only-of-type {\n",
              "        vertical-align: middle;\n",
              "    }\n",
              "\n",
              "    .dataframe tbody tr th {\n",
              "        vertical-align: top;\n",
              "    }\n",
              "\n",
              "    .dataframe thead th {\n",
              "        text-align: right;\n",
              "    }\n",
              "</style>\n",
              "<table border=\"1\" class=\"dataframe\">\n",
              "  <thead>\n",
              "    <tr style=\"text-align: right;\">\n",
              "      <th></th>\n",
              "      <th>abstract_length</th>\n",
              "    </tr>\n",
              "  </thead>\n",
              "  <tbody>\n",
              "    <tr>\n",
              "      <th>count</th>\n",
              "      <td>448.000000</td>\n",
              "    </tr>\n",
              "    <tr>\n",
              "      <th>mean</th>\n",
              "      <td>96.837054</td>\n",
              "    </tr>\n",
              "    <tr>\n",
              "      <th>std</th>\n",
              "      <td>29.036547</td>\n",
              "    </tr>\n",
              "    <tr>\n",
              "      <th>min</th>\n",
              "      <td>30.000000</td>\n",
              "    </tr>\n",
              "    <tr>\n",
              "      <th>25%</th>\n",
              "      <td>76.000000</td>\n",
              "    </tr>\n",
              "    <tr>\n",
              "      <th>50%</th>\n",
              "      <td>92.000000</td>\n",
              "    </tr>\n",
              "    <tr>\n",
              "      <th>75%</th>\n",
              "      <td>115.000000</td>\n",
              "    </tr>\n",
              "    <tr>\n",
              "      <th>max</th>\n",
              "      <td>191.000000</td>\n",
              "    </tr>\n",
              "  </tbody>\n",
              "</table>\n",
              "</div>"
            ],
            "text/plain": [
              "       abstract_length\n",
              "count       448.000000\n",
              "mean         96.837054\n",
              "std          29.036547\n",
              "min          30.000000\n",
              "25%          76.000000\n",
              "50%          92.000000\n",
              "75%         115.000000\n",
              "max         191.000000"
            ]
          },
          "metadata": {
            "tags": []
          },
          "execution_count": 17
        }
      ]
    },
    {
      "cell_type": "markdown",
      "metadata": {
        "id": "9ErbBAHlhbKC",
        "colab_type": "text"
      },
      "source": [
        "En este caso, se hace la descripción de los datos, según el número de palabras que se tengan por clase, acá solo se muestran las primeras  clases pero se puede ver algunos rasgos significativos en estos y como cambia la media de palabras en el abstract entre clase y clase."
      ]
    },
    {
      "cell_type": "code",
      "metadata": {
        "id": "BGaEIE_chb9M",
        "colab_type": "code",
        "outputId": "d8db6e66-bb19-4a42-8e6c-c6e76913a089",
        "colab": {
          "base_uri": "https://localhost:8080/",
          "height": 266
        }
      },
      "source": [
        "clase=dfdisc.groupby('classification').describe()\n",
        "clase.head()"
      ],
      "execution_count": 0,
      "outputs": [
        {
          "output_type": "execute_result",
          "data": {
            "text/html": [
              "<div>\n",
              "<style scoped>\n",
              "    .dataframe tbody tr th:only-of-type {\n",
              "        vertical-align: middle;\n",
              "    }\n",
              "\n",
              "    .dataframe tbody tr th {\n",
              "        vertical-align: top;\n",
              "    }\n",
              "\n",
              "    .dataframe thead tr th {\n",
              "        text-align: left;\n",
              "    }\n",
              "\n",
              "    .dataframe thead tr:last-of-type th {\n",
              "        text-align: right;\n",
              "    }\n",
              "</style>\n",
              "<table border=\"1\" class=\"dataframe\">\n",
              "  <thead>\n",
              "    <tr>\n",
              "      <th></th>\n",
              "      <th colspan=\"8\" halign=\"left\">abstract_length</th>\n",
              "    </tr>\n",
              "    <tr>\n",
              "      <th></th>\n",
              "      <th>count</th>\n",
              "      <th>mean</th>\n",
              "      <th>std</th>\n",
              "      <th>min</th>\n",
              "      <th>25%</th>\n",
              "      <th>50%</th>\n",
              "      <th>75%</th>\n",
              "      <th>max</th>\n",
              "    </tr>\n",
              "    <tr>\n",
              "      <th>classification</th>\n",
              "      <th></th>\n",
              "      <th></th>\n",
              "      <th></th>\n",
              "      <th></th>\n",
              "      <th></th>\n",
              "      <th></th>\n",
              "      <th></th>\n",
              "      <th></th>\n",
              "    </tr>\n",
              "  </thead>\n",
              "  <tbody>\n",
              "    <tr>\n",
              "      <th>0</th>\n",
              "      <td>20.0</td>\n",
              "      <td>93.150000</td>\n",
              "      <td>25.615117</td>\n",
              "      <td>60.0</td>\n",
              "      <td>79.75</td>\n",
              "      <td>85.5</td>\n",
              "      <td>96.75</td>\n",
              "      <td>149.0</td>\n",
              "    </tr>\n",
              "    <tr>\n",
              "      <th>1</th>\n",
              "      <td>19.0</td>\n",
              "      <td>106.947368</td>\n",
              "      <td>22.483262</td>\n",
              "      <td>79.0</td>\n",
              "      <td>88.00</td>\n",
              "      <td>103.0</td>\n",
              "      <td>125.00</td>\n",
              "      <td>158.0</td>\n",
              "    </tr>\n",
              "    <tr>\n",
              "      <th>2</th>\n",
              "      <td>16.0</td>\n",
              "      <td>77.000000</td>\n",
              "      <td>30.313913</td>\n",
              "      <td>43.0</td>\n",
              "      <td>60.00</td>\n",
              "      <td>71.5</td>\n",
              "      <td>89.25</td>\n",
              "      <td>172.0</td>\n",
              "    </tr>\n",
              "    <tr>\n",
              "      <th>3</th>\n",
              "      <td>15.0</td>\n",
              "      <td>106.466667</td>\n",
              "      <td>25.963894</td>\n",
              "      <td>62.0</td>\n",
              "      <td>92.00</td>\n",
              "      <td>107.0</td>\n",
              "      <td>117.50</td>\n",
              "      <td>151.0</td>\n",
              "    </tr>\n",
              "    <tr>\n",
              "      <th>4</th>\n",
              "      <td>11.0</td>\n",
              "      <td>97.636364</td>\n",
              "      <td>36.415032</td>\n",
              "      <td>42.0</td>\n",
              "      <td>76.50</td>\n",
              "      <td>85.0</td>\n",
              "      <td>125.50</td>\n",
              "      <td>154.0</td>\n",
              "    </tr>\n",
              "  </tbody>\n",
              "</table>\n",
              "</div>"
            ],
            "text/plain": [
              "               abstract_length                         ...                      \n",
              "                         count        mean        std  ...    50%     75%    max\n",
              "classification                                         ...                      \n",
              "0                         20.0   93.150000  25.615117  ...   85.5   96.75  149.0\n",
              "1                         19.0  106.947368  22.483262  ...  103.0  125.00  158.0\n",
              "2                         16.0   77.000000  30.313913  ...   71.5   89.25  172.0\n",
              "3                         15.0  106.466667  25.963894  ...  107.0  117.50  151.0\n",
              "4                         11.0   97.636364  36.415032  ...   85.0  125.50  154.0\n",
              "\n",
              "[5 rows x 8 columns]"
            ]
          },
          "metadata": {
            "tags": []
          },
          "execution_count": 18
        }
      ]
    },
    {
      "cell_type": "markdown",
      "metadata": {
        "id": "CTPMPsUNh1c4",
        "colab_type": "text"
      },
      "source": [
        "Por último, una herramienta de visualiación para el número de palabras por abstract, nos muestra que en su gran mayoría, los articulos cuentan con entre 70 y 110 palabras."
      ]
    },
    {
      "cell_type": "code",
      "metadata": {
        "id": "0Zikc3iZbtIQ",
        "colab_type": "code",
        "outputId": "bede4e24-255c-4217-ade4-0418b1bf0a8e",
        "colab": {
          "base_uri": "https://localhost:8080/",
          "height": 286
        }
      },
      "source": [
        "dfdisc['abstract_length'].plot.hist(bins=30)"
      ],
      "execution_count": 0,
      "outputs": [
        {
          "output_type": "execute_result",
          "data": {
            "text/plain": [
              "<matplotlib.axes._subplots.AxesSubplot at 0x7fc344cf9908>"
            ]
          },
          "metadata": {
            "tags": []
          },
          "execution_count": 19
        },
        {
          "output_type": "display_data",
          "data": {
            "image/png": "[encoded data removed]",
            "text/plain": [
              "<Figure size 432x288 with 1 Axes>"
            ]
          },
          "metadata": {
            "tags": []
          }
        }
      ]
    },
    {
      "cell_type": "code",
      "metadata": {
        "id": "uV-5vJnEzPOY",
        "colab_type": "code",
        "outputId": "a8acccd5-3922-4b8d-e5b0-d98812392986",
        "colab": {
          "base_uri": "https://localhost:8080/",
          "height": 296
        }
      },
      "source": [
        "plt.scatter(dfdisc.index, dfdisc['abstract_length'])\n",
        "plt.title('Scatter plot')\n",
        "plt.xlabel('paper_id')\n",
        "plt.ylabel('abstract_length')\n",
        "plt.show()"
      ],
      "execution_count": 0,
      "outputs": [
        {
          "output_type": "display_data",
          "data": {
            "image/png": "[encoded data removed]",
            "text/plain": [
              "<Figure size 432x288 with 1 Axes>"
            ]
          },
          "metadata": {
            "tags": []
          }
        }
      ]
    }
  ]
}